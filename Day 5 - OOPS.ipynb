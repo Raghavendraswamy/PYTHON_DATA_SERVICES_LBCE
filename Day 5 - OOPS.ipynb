{
 "cells": [
  {
   "cell_type": "code",
   "execution_count": 24,
   "id": "c7d30ce6-3b03-4af3-a261-449fd7491eba",
   "metadata": {},
   "outputs": [],
   "source": [
    "class Person:    \n",
    "    # Define the constructor\n",
    "    def __init__(self,name,gender,age=18):\n",
    "        self.name = name\n",
    "        self.age = age\n",
    "        self.gender = gender\n",
    "        \n",
    "    ## Define the methods\n",
    "    def say_hello(self):\n",
    "        print(f'{self.name} says hello !')\n",
    "\n",
    "    def say_bye(self):\n",
    "        print(f'{self.name} says goodbye !')"
   ]
  },
  {
   "cell_type": "code",
   "execution_count": 2,
   "id": "ac7d8df1-8626-4252-a996-b1877e9fa408",
   "metadata": {},
   "outputs": [],
   "source": [
    "name = 'Tom'\n",
    "age = 34"
   ]
  },
  {
   "cell_type": "code",
   "execution_count": 3,
   "id": "d6333398-c348-41f7-8069-5fee6e1fe378",
   "metadata": {},
   "outputs": [
    {
     "name": "stdout",
     "output_type": "stream",
     "text": [
      "Tom is 34 years old\n"
     ]
    }
   ],
   "source": [
    "print(f'{name} is {age} years old')"
   ]
  },
  {
   "cell_type": "code",
   "execution_count": 27,
   "id": "66f0b674-4664-4526-8364-36db57f1d3b6",
   "metadata": {},
   "outputs": [],
   "source": [
    "p1 = Person('Tom','M',62)"
   ]
  },
  {
   "cell_type": "code",
   "execution_count": 6,
   "id": "24605724-d601-40c9-9405-5960fe3122a7",
   "metadata": {},
   "outputs": [
    {
     "data": {
      "text/plain": [
       "__main__.Person"
      ]
     },
     "execution_count": 6,
     "metadata": {},
     "output_type": "execute_result"
    }
   ],
   "source": [
    "type(p1)"
   ]
  },
  {
   "cell_type": "code",
   "execution_count": 9,
   "id": "a180bdea-d021-4f47-bf66-e902ca32acd1",
   "metadata": {},
   "outputs": [
    {
     "data": {
      "text/plain": [
       "'Tom'"
      ]
     },
     "execution_count": 9,
     "metadata": {},
     "output_type": "execute_result"
    }
   ],
   "source": [
    "p1.name"
   ]
  },
  {
   "cell_type": "code",
   "execution_count": 28,
   "id": "380c96dd-10da-4a63-872c-3d02cd65dddd",
   "metadata": {},
   "outputs": [
    {
     "data": {
      "text/plain": [
       "62"
      ]
     },
     "execution_count": 28,
     "metadata": {},
     "output_type": "execute_result"
    }
   ],
   "source": [
    "p1.age"
   ]
  },
  {
   "cell_type": "code",
   "execution_count": 11,
   "id": "ecf68590-14b3-4108-aad2-44a126c95fc8",
   "metadata": {},
   "outputs": [
    {
     "name": "stdout",
     "output_type": "stream",
     "text": [
      "Tom says hello !\n"
     ]
    }
   ],
   "source": [
    "p1.say_hello()"
   ]
  },
  {
   "cell_type": "code",
   "execution_count": 21,
   "id": "40950d4c-1c93-4d32-bc1b-719b7319f3ee",
   "metadata": {},
   "outputs": [],
   "source": [
    "p2 = Person('Mary',24)"
   ]
  },
  {
   "cell_type": "code",
   "execution_count": 8,
   "id": "cdcda014-9db2-49a7-b1bc-fcde345e9f80",
   "metadata": {},
   "outputs": [
    {
     "data": {
      "text/plain": [
       "__main__.Person"
      ]
     },
     "execution_count": 8,
     "metadata": {},
     "output_type": "execute_result"
    }
   ],
   "source": [
    "type(p2)"
   ]
  },
  {
   "cell_type": "code",
   "execution_count": 22,
   "id": "78742649-77fd-41c3-aff6-2f1f809591b7",
   "metadata": {},
   "outputs": [
    {
     "data": {
      "text/plain": [
       "24"
      ]
     },
     "execution_count": 22,
     "metadata": {},
     "output_type": "execute_result"
    }
   ],
   "source": [
    "p2.gender"
   ]
  },
  {
   "cell_type": "code",
   "execution_count": 12,
   "id": "ba7f51b5-a18e-43d7-af0e-60727d4442c4",
   "metadata": {},
   "outputs": [
    {
     "name": "stdout",
     "output_type": "stream",
     "text": [
      "Mary says hello !\n"
     ]
    }
   ],
   "source": [
    "p2.say_hello()"
   ]
  },
  {
   "cell_type": "code",
   "execution_count": 13,
   "id": "568954e5-6582-401c-8e10-0e6ccdf0a1b6",
   "metadata": {},
   "outputs": [],
   "source": [
    "class Employee:\n",
    "    ## Constructor\n",
    "    def __init__(self,eid,ename,job):\n",
    "        self.eid = eid\n",
    "        self.ename = ename\n",
    "        self.job = job\n",
    "\n",
    "    def manage_project(self):\n",
    "        print(f'{self.ename} is managing a project !')\n",
    "\n",
    "    def present(self):\n",
    "        print(f'{self.ename} is making  a presentation !')\n"
   ]
  },
  {
   "cell_type": "code",
   "execution_count": 14,
   "id": "d9a81f06-f3a0-449d-b390-d5c31911afe0",
   "metadata": {},
   "outputs": [],
   "source": [
    "e1 = Employee(100,'Harry','Manager')"
   ]
  },
  {
   "cell_type": "code",
   "execution_count": 15,
   "id": "5f67bb7b-d5a1-4814-af57-a8469937e02b",
   "metadata": {},
   "outputs": [
    {
     "name": "stdout",
     "output_type": "stream",
     "text": [
      "Harry is making  a presentation !\n"
     ]
    }
   ],
   "source": [
    "e1.present()"
   ]
  },
  {
   "cell_type": "code",
   "execution_count": 16,
   "id": "61ab10ee-ed4e-43b8-833c-ca813606683d",
   "metadata": {},
   "outputs": [],
   "source": [
    "e2 = Employee(200,'Potter','CEO')"
   ]
  },
  {
   "cell_type": "code",
   "execution_count": 17,
   "id": "24ebd9b0-65bb-4837-9e0f-829c0e4d6bf0",
   "metadata": {},
   "outputs": [
    {
     "name": "stdout",
     "output_type": "stream",
     "text": [
      "Potter is managing a project !\n"
     ]
    }
   ],
   "source": [
    "e2.manage_project()"
   ]
  },
  {
   "cell_type": "code",
   "execution_count": 30,
   "id": "dc081e7a-aa8e-4fcd-8936-67f4017dc999",
   "metadata": {},
   "outputs": [],
   "source": [
    "#e1.fly()"
   ]
  },
  {
   "cell_type": "markdown",
   "id": "63edba7e-dcb7-48d8-ba29-c27e6eec6576",
   "metadata": {},
   "source": [
    "## Inheritance"
   ]
  },
  {
   "cell_type": "code",
   "execution_count": 32,
   "id": "e67ded67-9ad2-4f47-ac5f-849f5fc33101",
   "metadata": {},
   "outputs": [],
   "source": [
    "class Astronaut(Person):\n",
    "    ## Constructor for derived class\n",
    "    def __init__(self,name,gender,age,type):\n",
    "        ## Call the base class constructor\n",
    "        super().__init__(name,gender,age)\n",
    "        self.type = type\n",
    "\n",
    "    def launch_satellite(self):\n",
    "        print(f'{self.name} is launching a satellite !')"
   ]
  },
  {
   "cell_type": "code",
   "execution_count": 46,
   "id": "fa9446e4-e677-45cf-a00d-6a5e6ca6aaf4",
   "metadata": {},
   "outputs": [],
   "source": [
    "class Dancer(Person):\n",
    "    ## Constructor for derived class\n",
    "    def __init__(self,name,gender,age,genre):\n",
    "        ## Call the base class constructor\n",
    "        super().__init__(name,gender,age)\n",
    "        self.genre = genre\n",
    "\n",
    "    def dance(self):\n",
    "        print(f'{self.name} is performing a {self.genre} dance!')"
   ]
  },
  {
   "cell_type": "code",
   "execution_count": 47,
   "id": "dd9638e2-4afd-4a21-b060-8b8787790bc9",
   "metadata": {},
   "outputs": [],
   "source": [
    "a1 = Astronaut('George','M',46,'Pilot')"
   ]
  },
  {
   "cell_type": "code",
   "execution_count": 48,
   "id": "3c3dc255-9045-457d-b6e2-1dd33bce45eb",
   "metadata": {},
   "outputs": [
    {
     "data": {
      "text/plain": [
       "'George'"
      ]
     },
     "execution_count": 48,
     "metadata": {},
     "output_type": "execute_result"
    }
   ],
   "source": [
    "a1.name"
   ]
  },
  {
   "cell_type": "code",
   "execution_count": 49,
   "id": "e5d8cdfc-9581-47ff-9ba7-5c6094aad791",
   "metadata": {},
   "outputs": [
    {
     "name": "stdout",
     "output_type": "stream",
     "text": [
      "George says hello !\n"
     ]
    }
   ],
   "source": [
    "a1.say_hello()"
   ]
  },
  {
   "cell_type": "code",
   "execution_count": 50,
   "id": "daa80079-7e27-4964-83d0-1f4d5bd64d0c",
   "metadata": {},
   "outputs": [
    {
     "name": "stdout",
     "output_type": "stream",
     "text": [
      "George is launching a satellite !\n"
     ]
    }
   ],
   "source": [
    "a1.launch_satellite()"
   ]
  },
  {
   "cell_type": "code",
   "execution_count": 51,
   "id": "9d7072d5-4ff8-4f87-8fa2-c1188424fbdb",
   "metadata": {},
   "outputs": [],
   "source": [
    "d1 = Dancer('Madhuri','F',36,'Classical')"
   ]
  },
  {
   "cell_type": "code",
   "execution_count": 52,
   "id": "4bbd0afd-1c4c-4205-83aa-0fa4fddc8d20",
   "metadata": {},
   "outputs": [
    {
     "data": {
      "text/plain": [
       "'Classical'"
      ]
     },
     "execution_count": 52,
     "metadata": {},
     "output_type": "execute_result"
    }
   ],
   "source": [
    "d1.genre"
   ]
  },
  {
   "cell_type": "code",
   "execution_count": 53,
   "id": "a4633d73-6d30-44bf-8147-dcd9389ad756",
   "metadata": {},
   "outputs": [],
   "source": [
    "d2 =  Dancer('Teena','F',25,'Bollywood')"
   ]
  },
  {
   "cell_type": "code",
   "execution_count": 54,
   "id": "45ada641-b5b3-4387-941f-18082ca32114",
   "metadata": {},
   "outputs": [
    {
     "data": {
      "text/plain": [
       "'Bollywood'"
      ]
     },
     "execution_count": 54,
     "metadata": {},
     "output_type": "execute_result"
    }
   ],
   "source": [
    "d2.genre"
   ]
  },
  {
   "cell_type": "code",
   "execution_count": 56,
   "id": "f8b7e81b-9d87-466f-b3a3-1fa6fbeeda63",
   "metadata": {},
   "outputs": [
    {
     "name": "stdout",
     "output_type": "stream",
     "text": [
      "Teena is performing a Bollywood dance!\n"
     ]
    }
   ],
   "source": [
    "d2.dance()"
   ]
  },
  {
   "cell_type": "code",
   "execution_count": 57,
   "id": "cb32cacd-5e89-41d0-b913-4f2f6fb71808",
   "metadata": {},
   "outputs": [
    {
     "name": "stdout",
     "output_type": "stream",
     "text": [
      "Madhuri is performing a Classical dance!\n"
     ]
    }
   ],
   "source": [
    "d1.dance()"
   ]
  },
  {
   "cell_type": "markdown",
   "id": "380b09cc-afb5-4ae1-93b7-a34bed9ce8ad",
   "metadata": {},
   "source": [
    "## Polymorphism"
   ]
  },
  {
   "cell_type": "code",
   "execution_count": 59,
   "id": "763f47ee-35c8-4a46-9fde-cb1987ea5242",
   "metadata": {},
   "outputs": [],
   "source": [
    "class Person:    \n",
    "    # Define the constructor\n",
    "    def __init__(self,name,gender,age=18):\n",
    "        self.name = name\n",
    "        self.age = age\n",
    "        self.gender = gender\n",
    "        \n",
    "    ## Define the methods\n",
    "    def say_hello(self):\n",
    "        print(f'{self.name} says hello !')\n",
    "\n",
    "    def say_bye(self):\n",
    "        print(f'{self.name} says goodbye !')"
   ]
  },
  {
   "cell_type": "code",
   "execution_count": 61,
   "id": "1d2b246e-7d98-457e-87be-fa2540e7ebc9",
   "metadata": {},
   "outputs": [],
   "source": [
    "class Dancer(Person):\n",
    "    ## Constructor for derived class\n",
    "    def __init__(self,name,gender,age,genre):\n",
    "        ## Call the base class constructor\n",
    "        super().__init__(name,gender,age)\n",
    "        self.genre = genre\n",
    "\n",
    "    def dance(self):\n",
    "        print(f'{self.name} is performing a {self.genre} dance!')\n",
    "\n",
    "     ## Define the methods\n",
    "    def say_hello(self):\n",
    "        print(f'{self.genre} dancer {self.name} says hello !')\n",
    "\n",
    "    def say_bye(self):\n",
    "        print(f'{self.genre} dancer {self.name} says goodbye !')"
   ]
  },
  {
   "cell_type": "code",
   "execution_count": 62,
   "id": "fea3d350-0711-40ce-ace1-8633f1501992",
   "metadata": {},
   "outputs": [],
   "source": [
    "p1 = Person('Tom','M',22)"
   ]
  },
  {
   "cell_type": "code",
   "execution_count": 63,
   "id": "6606ac2d-291d-48bc-8148-9d993307bed0",
   "metadata": {},
   "outputs": [],
   "source": [
    "d1 = Dancer('Teena','F',25,'Bollywood')"
   ]
  },
  {
   "cell_type": "code",
   "execution_count": 64,
   "id": "58dcdb3f-d9b1-4841-907a-b15e69de58cc",
   "metadata": {},
   "outputs": [
    {
     "name": "stdout",
     "output_type": "stream",
     "text": [
      "Bollywood dancer Teena says hello !\n"
     ]
    }
   ],
   "source": [
    "d1.say_hello()"
   ]
  },
  {
   "cell_type": "code",
   "execution_count": 65,
   "id": "f7e14b22-d6be-4901-89cd-56df42b1d161",
   "metadata": {},
   "outputs": [
    {
     "name": "stdout",
     "output_type": "stream",
     "text": [
      "Tom says hello !\n"
     ]
    }
   ],
   "source": [
    "p1.say_hello()"
   ]
  },
  {
   "cell_type": "markdown",
   "id": "e9429c86-74ad-4ce8-8776-f170162b4e3a",
   "metadata": {},
   "source": [
    "### Private and public attributes"
   ]
  },
  {
   "cell_type": "code",
   "execution_count": 77,
   "id": "f9bab495-fc2f-45d3-a365-b8afe02933ab",
   "metadata": {},
   "outputs": [],
   "source": [
    "class Person:    \n",
    "    # Define the constructor\n",
    "    def __init__(self,name,age):\n",
    "        self.name = name\n",
    "        self.__age = age\n",
    "\n",
    "    ## Define the methods\n",
    "    def is_eligible(self):\n",
    "        if self.__age >= 18:\n",
    "            return 'Eligible'\n",
    "        else:\n",
    "            return 'Underage'"
   ]
  },
  {
   "cell_type": "code",
   "execution_count": 78,
   "id": "8566c186-a77c-4539-b271-907273152df0",
   "metadata": {},
   "outputs": [],
   "source": [
    "p1 = Person('Jim',17)"
   ]
  },
  {
   "cell_type": "code",
   "execution_count": 79,
   "id": "e1a3d397-a758-4aeb-88ed-6430419cbb54",
   "metadata": {},
   "outputs": [
    {
     "data": {
      "text/plain": [
       "'Jim'"
      ]
     },
     "execution_count": 79,
     "metadata": {},
     "output_type": "execute_result"
    }
   ],
   "source": [
    "p1.name"
   ]
  },
  {
   "cell_type": "code",
   "execution_count": 80,
   "id": "f4167cd8-2c70-45a7-aa27-e8b490bf1992",
   "metadata": {},
   "outputs": [
    {
     "ename": "AttributeError",
     "evalue": "'Person' object has no attribute '__age'",
     "output_type": "error",
     "traceback": [
      "\u001b[0;31m---------------------------------------------------------------------------\u001b[0m",
      "\u001b[0;31mAttributeError\u001b[0m                            Traceback (most recent call last)",
      "Input \u001b[0;32mIn [80]\u001b[0m, in \u001b[0;36m<cell line: 1>\u001b[0;34m()\u001b[0m\n\u001b[0;32m----> 1\u001b[0m \u001b[43mp1\u001b[49m\u001b[38;5;241;43m.\u001b[39;49m\u001b[43m__age\u001b[49m\n",
      "\u001b[0;31mAttributeError\u001b[0m: 'Person' object has no attribute '__age'"
     ]
    }
   ],
   "source": [
    "p1.__age"
   ]
  },
  {
   "cell_type": "code",
   "execution_count": 81,
   "id": "32d79726-e373-4495-9539-b57f445585a7",
   "metadata": {},
   "outputs": [
    {
     "data": {
      "text/plain": [
       "'Underage'"
      ]
     },
     "execution_count": 81,
     "metadata": {},
     "output_type": "execute_result"
    }
   ],
   "source": [
    "p1.is_eligible()"
   ]
  },
  {
   "cell_type": "code",
   "execution_count": null,
   "id": "a88f4cd8-c463-4edc-b02e-41ffb7978c13",
   "metadata": {},
   "outputs": [],
   "source": []
  },
  {
   "cell_type": "code",
   "execution_count": 82,
   "id": "b70dde79-f64b-47fc-9160-6076fa3e9bd3",
   "metadata": {},
   "outputs": [],
   "source": [
    "def square(x):\n",
    "    return x**2"
   ]
  },
  {
   "cell_type": "code",
   "execution_count": 83,
   "id": "8e5ff312-e4b4-4e23-8c49-d8bfc1a36267",
   "metadata": {},
   "outputs": [
    {
     "data": {
      "text/plain": [
       "9"
      ]
     },
     "execution_count": 83,
     "metadata": {},
     "output_type": "execute_result"
    }
   ],
   "source": [
    "square(3)"
   ]
  },
  {
   "cell_type": "code",
   "execution_count": 84,
   "id": "df7b12aa-a41e-45fd-b2a7-21c65297db28",
   "metadata": {},
   "outputs": [
    {
     "ename": "NameError",
     "evalue": "name 'is_eligible' is not defined",
     "output_type": "error",
     "traceback": [
      "\u001b[0;31m---------------------------------------------------------------------------\u001b[0m",
      "\u001b[0;31mNameError\u001b[0m                                 Traceback (most recent call last)",
      "Input \u001b[0;32mIn [84]\u001b[0m, in \u001b[0;36m<cell line: 1>\u001b[0;34m()\u001b[0m\n\u001b[0;32m----> 1\u001b[0m \u001b[43mis_eligible\u001b[49m(\u001b[38;5;241m19\u001b[39m)\n",
      "\u001b[0;31mNameError\u001b[0m: name 'is_eligible' is not defined"
     ]
    }
   ],
   "source": [
    "is_eligible(19)"
   ]
  },
  {
   "cell_type": "code",
   "execution_count": null,
   "id": "bb73b444-b454-45e0-a02b-d84f403df8ba",
   "metadata": {},
   "outputs": [],
   "source": []
  }
 ],
 "metadata": {
  "kernelspec": {
   "display_name": "Python 3",
   "language": "python",
   "name": "python3"
  },
  "language_info": {
   "codemirror_mode": {
    "name": "ipython",
    "version": 3
   },
   "file_extension": ".py",
   "mimetype": "text/x-python",
   "name": "python",
   "nbconvert_exporter": "python",
   "pygments_lexer": "ipython3",
   "version": "3.8.13"
  }
 },
 "nbformat": 4,
 "nbformat_minor": 5
}
