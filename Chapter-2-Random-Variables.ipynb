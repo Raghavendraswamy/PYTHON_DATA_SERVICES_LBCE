{
 "cells": [
  {
   "cell_type": "code",
   "execution_count": 32,
   "metadata": {},
   "outputs": [],
   "source": [
    "'''\n",
    "Import here useful libraries\n",
    "Run this cell first for convenience\n",
    "'''\n",
    "# Import here useful libraries\n",
    "import numpy as np\n",
    "from scipy import stats\n",
    "import scipy\n",
    "import warnings\n",
    "from sympy import symbols\n",
    "from sympy import integrate\n",
    "warnings.simplefilter('ignore', DeprecationWarning)"
   ]
  },
  {
   "cell_type": "markdown",
   "metadata": {},
   "source": [
    "# Chapter 2 - Random Variables"
   ]
  },
  {
   "cell_type": "markdown",
   "metadata": {},
   "source": [
    "## Discrete Random Variable"
   ]
  },
  {
   "cell_type": "markdown",
   "metadata": {},
   "source": [
    "### Definition of a Random Variable"
   ]
  },
  {
   "cell_type": "markdown",
   "metadata": {},
   "source": [
    "- Random variable $X$: mapping from sample space $S$ to a real line $R$\n",
    "- Numerical value $X(w)$ mapped to each outcome $w$ of a particular experiment"
   ]
  },
  {
   "cell_type": "markdown",
   "metadata": {},
   "source": [
    "### Probability Mass Function"
   ]
  },
  {
   "cell_type": "markdown",
   "metadata": {},
   "source": [
    "- Probability Mass Function (p.m.f.): set of probability values $p_i$ assigned to each value taken by the discrete random variable $x_i$\n",
    "- $ 0 \\leq p_i \\leq 1 \\text{ and } \\sum_i p_i = 1$\n",
    "- Probability: $P(X = x_i) = p_i$"
   ]
  },
  {
   "cell_type": "markdown",
   "metadata": {},
   "source": [
    "### Cumulative Distribution Function"
   ]
  },
  {
   "cell_type": "markdown",
   "metadata": {},
   "source": [
    "- Cumulative Distribution Function (CDF): $F(x) = P(X \\leq x)$"
   ]
  },
  {
   "cell_type": "markdown",
   "metadata": {},
   "source": [
    "## Continuous Random Variables"
   ]
  },
  {
   "cell_type": "markdown",
   "metadata": {},
   "source": [
    "### Probability Density Function"
   ]
  },
  {
   "cell_type": "markdown",
   "metadata": {},
   "source": [
    "- Probability Density Function (pdf): \n",
    "\\begin{equation}\n",
    "    f(x) \\geq 0\n",
    "\\end{equation}\n",
    "\\begin{equation}\n",
    "    \\int_{-\\infty}^{\\infty} f(x) dx = 1\n",
    "\\end{equation}\n"
   ]
  },
  {
   "cell_type": "code",
   "execution_count": 3,
   "metadata": {},
   "outputs": [
    {
     "name": "stdout",
     "output_type": "stream",
     "text": [
      "Result and error:  (0.9999999999999989, 1.1102230246251553e-14)\n"
     ]
    }
   ],
   "source": [
    "# Verify if provided function is a probability density function\n",
    "# Parameters\n",
    "a = 2\n",
    "b = 1\n",
    "x_i = 49.5 # Integration from x_i to x_f\n",
    "x_f = 50.5\n",
    "from scipy.integrate import quad\n",
    "def integrand(x, a, b):\n",
    "    return 1.5 - 6*(x - 50)**2\n",
    "I = quad(integrand, x_i, x_f, args=(a,b))\n",
    "print(\"Result and error: \", I)"
   ]
  },
  {
   "cell_type": "markdown",
   "metadata": {},
   "source": [
    "### Cumulative Distribution Function\n"
   ]
  },
  {
   "cell_type": "markdown",
   "metadata": {},
   "source": [
    "- Cumulative Distribution Function for continuous Random Variables:\n",
    "    - $F(x) = \\int_{-\\infty}^x f(y) dy$\n",
    "    - $f(x) = \\frac{dF(x)}{dx}$\n",
    "    - $P(a < X < b) = F(b) - F(a)$\n",
    "    - $P(a < X < b) = P(a \\leq X \\leq b) = P(a \\leq X < b) = P(a < X \\leq b)$"
   ]
  },
  {
   "cell_type": "markdown",
   "metadata": {},
   "source": [
    "## Expectation of a Random Variable"
   ]
  },
  {
   "cell_type": "markdown",
   "metadata": {},
   "source": [
    "### Expectations of Discrete Random Variables"
   ]
  },
  {
   "cell_type": "markdown",
   "metadata": {},
   "source": [
    "- Expectation of a discrete random variable $X$ with p.m.f. $p$:\n",
    "\\begin{equation}\n",
    "    E(X) = \\sum_i p_i x_i\n",
    "\\end{equation}"
   ]
  },
  {
   "cell_type": "code",
   "execution_count": 4,
   "metadata": {},
   "outputs": [
    {
     "name": "stdout",
     "output_type": "stream",
     "text": [
      "Expected value:  23.0\n"
     ]
    }
   ],
   "source": [
    "from scipy.stats import rv_discrete\n",
    "\n",
    "x = [10, 20, 30]\n",
    "p = [0.2, 0.3, 0.5]\n",
    "distribution = rv_discrete(values=(x, p))\n",
    "print(\"Expected value: \", distribution.expect())"
   ]
  },
  {
   "cell_type": "markdown",
   "metadata": {},
   "source": [
    "### Expectation of a Continuous Random Variable"
   ]
  },
  {
   "cell_type": "markdown",
   "metadata": {},
   "source": [
    "- Expectation of a continuous random variable with p.d.f. $f(x)$\n",
    "\\begin{equation}\n",
    "    E(X) = \\int_{- \\infty}^{\\infty} xf(x)dx\n",
    "\\end{equation}"
   ]
  },
  {
   "cell_type": "code",
   "execution_count": 5,
   "metadata": {},
   "outputs": [
    {
     "name": "stdout",
     "output_type": "stream",
     "text": [
      "Expected value:  0.9999999999999989\n"
     ]
    }
   ],
   "source": [
    "from scipy.stats import rv_continuous\n",
    "a = 49.5 # lower bound\n",
    "b = 50.5 # upper bound\n",
    "class distribution_gen(rv_continuous):\n",
    "    def _pdf(self, x):\n",
    "        return 1.5 - 6*(x - 50)**2\n",
    "distribution = distribution_gen(name='Continuous distribution')\n",
    "print(\"Expected value: \", distribution.expect(lambda x: 1, lb=a, ub=b))"
   ]
  },
  {
   "cell_type": "markdown",
   "metadata": {},
   "source": [
    "### Symmetric Random Variables"
   ]
  },
  {
   "cell_type": "markdown",
   "metadata": {},
   "source": [
    "- Symmetric Random Variables: if $p(x)$ is symmetric around a point $\\mu$ so that:\n",
    "\\begin{equation}\n",
    "    f(\\mu + x) = f(\\mu -x)\n",
    "\\end{equation}\n",
    "- In this case, $E(X) = \\mu$ is the point of symmetry"
   ]
  },
  {
   "cell_type": "markdown",
   "metadata": {},
   "source": [
    "### Medians of Random Variables"
   ]
  },
  {
   "cell_type": "markdown",
   "metadata": {},
   "source": [
    "- Median: for a random variable $X$ its median is the value $x$ such that $F(x) = 0.5$"
   ]
  },
  {
   "cell_type": "code",
   "execution_count": 6,
   "metadata": {},
   "outputs": [
    {
     "name": "stdout",
     "output_type": "stream",
     "text": [
      "Median:  50.0\n"
     ]
    }
   ],
   "source": [
    "from scipy.stats import rv_continuous\n",
    "a = 49.5 # lower bound\n",
    "b = 50.5 # upper bound\n",
    "class distribution_gen(rv_continuous):\n",
    "    def _pdf(self, x):\n",
    "        return 1.5 - 6*(x - 50)**2\n",
    "distribution = distribution_gen(a=a, b=b)\n",
    "print(\"Median: \", distribution.median())"
   ]
  },
  {
   "cell_type": "markdown",
   "metadata": {},
   "source": [
    "## Variance of a Random Variable"
   ]
  },
  {
   "cell_type": "markdown",
   "metadata": {},
   "source": [
    "### Definition and Interpretation of Variance "
   ]
  },
  {
   "cell_type": "markdown",
   "metadata": {},
   "source": [
    "- Variance ($ \\sigma ^2$): $Var(X) = E(X - E(X))^2 = E(X^2) - \\mu ^2$\n",
    "- Positive quantity measuring the spread of the distribution about its mean value\n",
    "- Standard Deviation($\\sigma$): $\\sqrt{Var(x)}$"
   ]
  },
  {
   "cell_type": "code",
   "execution_count": 8,
   "metadata": {},
   "outputs": [
    {
     "name": "stdout",
     "output_type": "stream",
     "text": [
      "Variance:  61.0\n",
      "Standard Deviation:  7.810249675906654\n"
     ]
    }
   ],
   "source": [
    "from scipy.stats import rv_discrete\n",
    "\n",
    "x = [10, 20, 30]\n",
    "p = [0.2, 0.3, 0.5]\n",
    "distribution = rv_discrete(values=(x, p))\n",
    "print(\"Variance: \", distribution.var())\n",
    "print(\"Standard Deviation: \", distribution.std())"
   ]
  },
  {
   "cell_type": "code",
   "execution_count": 44,
   "metadata": {},
   "outputs": [
    {
     "name": "stdout",
     "output_type": "stream",
     "text": [
      "Variance:  0.049999999999272404\n",
      "Standard Deviation:  0.22360679774835202\n"
     ]
    }
   ],
   "source": [
    "from scipy.stats import rv_continuous\n",
    "a = 49.5 # lower bound\n",
    "b = 50.5 # upper bound\n",
    "class distribution_gen(rv_continuous):\n",
    "    def _pdf(self, x):\n",
    "        return 1.5 - 6*(x - 50)**2\n",
    "distribution = distribution_gen(a=a, b=b)\n",
    "print(\"Variance: \", distribution.var())\n",
    "print(\"Standard Deviation: \", distribution.std())"
   ]
  },
  {
   "cell_type": "code",
   "execution_count": 66,
   "metadata": {},
   "outputs": [
    {
     "name": "stdout",
     "output_type": "stream",
     "text": [
      "Variance:  2.0423852667674502\n",
      "Standard Deviation:  1.4291204521549086\n"
     ]
    }
   ],
   "source": [
    "## Why isn't the result correct?\n",
    "from scipy.stats import rv_continuous\n",
    "from math import exp\n",
    "a = 0 # lower bound\n",
    "b = 10 # upper bound\n",
    "class distribution_gen(rv_continuous):\n",
    "    def _pdf(self, x):\n",
    "        return (( (exp(10 -(x)) -1)/(exp(10)-11) * x))\n",
    "distribution = distribution_gen(a=a, b=b)\n",
    "print(\"Variance: \", distribution.var())\n",
    "print(\"Standard Deviation: \", distribution.std())"
   ]
  },
  {
   "cell_type": "code",
   "execution_count": 67,
   "metadata": {},
   "outputs": [
    {
     "name": "stdout",
     "output_type": "stream",
     "text": [
      "Variance:  0.08310376492194038\n",
      "Standard Deviation:  0.28827723621878365\n"
     ]
    }
   ],
   "source": [
    "## Looks like it works well with polynomials\n",
    "from scipy.stats import rv_continuous\n",
    "from math import exp\n",
    "a = 5 # lower bound\n",
    "b = 6 # upper bound\n",
    "class distribution_gen(rv_continuous):\n",
    "    def _pdf(self, x):\n",
    "        return ( 2/11 * x)\n",
    "distribution = distribution_gen(a=a, b=b)\n",
    "print(\"Variance: \", distribution.var())\n",
    "print(\"Standard Deviation: \", distribution.std())"
   ]
  },
  {
   "cell_type": "markdown",
   "metadata": {},
   "source": [
    "### Chebyshev's Inequality"
   ]
  },
  {
   "cell_type": "markdown",
   "metadata": {},
   "source": [
    "- Chebyshev's Inequality: if $X$ is a random variable with mean $\\mu$ and variance $\\sigma ^2$ the following holds:\n",
    "\\begin{equation}\n",
    "    P(\\mu -c \\sigma \\leq X \\leq \\mu + c \\sigma) \\geq 1 - \\frac{1}{c^2} \\text{ for } c \\geq 1\n",
    "\\end{equation}"
   ]
  },
  {
   "cell_type": "markdown",
   "metadata": {},
   "source": [
    "### Quantiles of Random Variables"
   ]
  },
  {
   "cell_type": "markdown",
   "metadata": {},
   "source": [
    "- Quantiles of Random Variables: $p$-th quantile $x$ of a random variable $X$ is\n",
    "\\begin{equation}\n",
    "    F(x) = p\n",
    "\\end{equation}\n",
    "- Upper quartile ($Q_3$): 75th percentile of the distribution\n",
    "- Lower quartile ($Q_1$): 25th percentile of the distribution\n",
    "- Interquantile range (IQR): distance between the two quartiles, $Q_3 - Q_1$"
   ]
  },
  {
   "cell_type": "code",
   "execution_count": null,
   "metadata": {},
   "outputs": [],
   "source": [
    "\n",
    "'''\n",
    "from scipy.stats import rv_continuous\n",
    "a = 49.5 # lower bound\n",
    "b = 50.5 # upper bound\n",
    "class distribution_gen(rv_continuous):\n",
    "    def _pdf(self, x):\n",
    "        return 1.5 - 6*(x - 50)**2 # Function to return\n",
    "distribution = distribution_gen(a=a, b=b)\n",
    "print(\"Variance: \", distribution.qu())\n",
    "print(\"Standard Deviation: \", distribution.std())\n",
    "'''"
   ]
  },
  {
   "cell_type": "markdown",
   "metadata": {},
   "source": [
    "## Jointly Distributed Random Variables"
   ]
  },
  {
   "cell_type": "markdown",
   "metadata": {},
   "source": [
    "### Joint Probability Distributions"
   ]
  },
  {
   "cell_type": "markdown",
   "metadata": {},
   "source": [
    "- Discrete: \n",
    "\\begin{equation}   \n",
    "    P(X = x_i, Y = y_j) = p_{ij} \\geq 0 \\text{ satisfying } \\sum_i \\sum_j p_{ij} = 1\n",
    "\\end{equation}\n",
    "\n",
    "- Continuous: \n",
    "\\begin{equation}\n",
    "    f(x,y) \\geq 0 \\text{ satisfying } \\int \\int f(x,y) dxdy= 1\n",
    "\\end{equation}\n",
    "\n"
   ]
  },
  {
   "cell_type": "markdown",
   "metadata": {},
   "source": [
    "- Joint Cumulative Distribution Function: \n",
    "\\begin{equation}   \n",
    "    F(x,y) = P(X \\leq x_j, Y \\leq y_j)\n",
    "\\end{equation}\n",
    "    - Discrete:\n",
    "    \\begin{equation}   \n",
    "        F(x,y) = \\sum_{i:x_i \\leq x} \\sum_{j:y_j \\leq y} p_{ij}\n",
    "    \\end{equation}\n",
    "    - Continuous:\n",
    "    \\begin{equation}   \n",
    "        F(x,y) = \\int_{- \\infty}^{ y} \\int_{- \\infty}^{ x} f(w, z) dwdz\n",
    "    \\end{equation}"
   ]
  },
  {
   "cell_type": "markdown",
   "metadata": {},
   "source": [
    "### Marginal Probability Distributions"
   ]
  },
  {
   "cell_type": "markdown",
   "metadata": {},
   "source": [
    "- Marginal probability distribution: obtained by summing or integrating the joint probability distribution over the values of the other random variable\n",
    "    - Discrete:\n",
    "    \\begin{equation}   \n",
    "        P(X = x_i) = p_{i+} = \\sum_j p_{ij}\n",
    "    \\end{equation}\n",
    "    - Continuous:\n",
    "    \\begin{equation}   \n",
    "        f_X(x) = \\int_{- \\infty}^{\\infty} f(x,y)dy\n",
    "    \\end{equation}"
   ]
  },
  {
   "cell_type": "markdown",
   "metadata": {},
   "source": [
    "### Conditional Probability Distributions"
   ]
  },
  {
   "cell_type": "markdown",
   "metadata": {},
   "source": [
    "- Probability distribution describing the properties of a random variable $X$ given knowledge of $Y$\n",
    "    - Discrete:\n",
    "    \\begin{equation}   \n",
    "        f_{X \\mid Y}(x_i \\mid y_i) = P(X = x_i \\mid Y = y_j) = \\frac{p_{ij}}{p_{+j}}\n",
    "    \\end{equation}\n",
    "    - Continuous:\n",
    "    \\begin{equation}   \n",
    "        f_{X \\mid Y}(x \\mid y) = \\frac{f(x,y)}{f_Y(y)}\n",
    "    \\end{equation}"
   ]
  },
  {
   "cell_type": "markdown",
   "metadata": {},
   "source": [
    "### Computation of E(g(X,Y))"
   ]
  },
  {
   "cell_type": "markdown",
   "metadata": {},
   "source": [
    "- Given $g(x,y)$ function of $x$ and $y$, we have that:\n",
    "    - Discrete:\n",
    "    \\begin{equation}   \n",
    "        E(g(X,Y)) = \\sum_{x,y} g(x,y)f(x,y)\n",
    "    \\end{equation}\n",
    "    - Continuous:\n",
    "    \\begin{equation}   \n",
    "         E(g(X,Y)) = \\int_{- \\infty}^{\\infty} \\int_{- \\infty}^{\\infty} g(x,y)f(x,y)dxdy\n",
    "    \\end{equation}"
   ]
  },
  {
   "cell_type": "markdown",
   "metadata": {},
   "source": [
    "### Independence and Covariance"
   ]
  },
  {
   "cell_type": "markdown",
   "metadata": {},
   "source": [
    "- Independence: when two random variables $X$ and $Y$ satisfy:\n",
    "\\begin{equation}\n",
    "    f(x,y) = f_X(x)f_Y(y) \\text{ for all } x \\text{ and } y\n",
    "\\end{equation}"
   ]
  },
  {
   "cell_type": "markdown",
   "metadata": {},
   "source": [
    "- Covariance: $Cov(X,Y) = E(X - E(X))(Y - E(Y)) = E(XY) -E(X)E(Y)$\n",
    "- May take a positive or negative value\n",
    "- Independent random variables have a covariance of zero, but the contrary is not always true"
   ]
  },
  {
   "cell_type": "markdown",
   "metadata": {},
   "source": [
    "- Correlation ($\\rho_{XY}$):\n",
    "    \\begin{equation}\n",
    "        Corr(X,Y) = \\frac{Cov(X,Y)}{\\sqrt{Var(X)Var(Y)}}\n",
    "    \\end{equation}\n",
    "- $-1 \\leq \\rho_{XY} \\leq 1$\n",
    "- The correlation is invariant to linear transformations of $X$ and $Y$"
   ]
  },
  {
   "cell_type": "code",
   "execution_count": 30,
   "metadata": {},
   "outputs": [
    {
     "name": "stdout",
     "output_type": "stream",
     "text": [
      "Expectation of x:  1.79\n",
      "Expectation of y:  2.59\n",
      "Variance of x:  0.3858999999999999\n",
      "Variance of y:  1.161900000000001\n",
      "Covariance:  0.22389999999999954\n",
      "Correlation:   0.33437386749732556\n"
     ]
    }
   ],
   "source": [
    "# Calculate the Covariance for discrete random variables\n",
    "\n",
    "# Input X and Y are in a table with corresponding probabilities\n",
    "value_x = np.array([1, 2, 3])\n",
    "value_y = np.array([1, 2, 3, 4])\n",
    "prob_matrix = np.array([[0.12, 0.08, 0.07, 0.05], [0.08, 0.15, 0.21, 0.13], [0.01, 0.01, 0.02, 0.07]]) # Covariance matrix\n",
    "\n",
    "# Expectation of x\n",
    "exp_x =  0\n",
    "for i in range(len(value_x)):\n",
    "    exp_x += value_x[i] * np.sum(prob_matrix, axis=1)[i]\n",
    "print(\"Expectation of x: \", exp_x)\n",
    "\n",
    "# Expectation of y\n",
    "exp_y = 0\n",
    "for i in range(len(value_y)):\n",
    "    exp_y += value_y[i] * np.sum(prob_matrix, axis=0)[i]\n",
    "print(\"Expectation of y: \", exp_y)\n",
    "    \n",
    "# Variance of x\n",
    "exp_x2 = 0\n",
    "for i in range(len(value_x)):\n",
    "    exp_x2 += (value_x[i] ** 2) * np.sum(prob_matrix, axis=1)[i]\n",
    "var_x = exp_x2 - (exp_x ** 2)\n",
    "print(\"Variance of x: \", var_x)\n",
    "\n",
    "# Variance of y\n",
    "exp_y2 = 0\n",
    "for i in range(len(value_y)):\n",
    "    exp_y2 += (value_y[i] ** 2) * np.sum(prob_matrix, axis=0)[i]\n",
    "var_y = exp_y2 - (exp_y ** 2)\n",
    "print(\"Variance of y: \", var_y)\n",
    "\n",
    "# Covariance\n",
    "exp_xy = 0\n",
    "for i in range(len(value_x)):\n",
    "    for j in range(len(value_y)):\n",
    "        exp_xy += value_x[i] * value_y[j] * prob_matrix[i, j]\n",
    "cov = exp_xy - exp_x * exp_y\n",
    "print(\"Covariance: \", cov)\n",
    "\n",
    "# Correlation\n",
    "corr = cov / ((var_x * var_y) ** (1/2))\n",
    "print(\"Correlation:  \", corr)        "
   ]
  },
  {
   "cell_type": "code",
   "execution_count": 34,
   "metadata": {},
   "outputs": [
    {
     "name": "stdout",
     "output_type": "stream",
     "text": [
      "Expectation of x:  2.4444444444444446\n",
      "Expectation of y:  5.583333333333333\n",
      "Variance of x:  -4.141975308641976\n",
      "Variance of y:  -22.373611111111106\n",
      "Covariance:  -9.925925925925927\n",
      "Correlation:   -1.0310963144439693\n"
     ]
    }
   ],
   "source": [
    "# Covariance for continuous random variables\n",
    "x = symbols('x')\n",
    "y = symbols('y')\n",
    "\n",
    "# Inputs\n",
    "func = 8 * x * y - 2 * x * (y ** 2)\n",
    "domain_x = (0, 1)\n",
    "domain_y = (1, 2)\n",
    "\n",
    "# Expectation of x\n",
    "exp_x = float(integrate(x * integrate(func, (y, domain_y[0], domain_y[1])), (x, domain_x[0], domain_x[1])))\n",
    "print(\"Expectation of x: \", exp_x)\n",
    "\n",
    "# Expectation of y\n",
    "exp_y = float(integrate(y * integrate(func, (x, domain_x[0], domain_x[1])), (y, domain_y[0], domain_y[1]), (y, domain_y[0], domain_y[1])))\n",
    "print(\"Expectation of y: \", exp_y)\n",
    "\n",
    "# Variance of x\n",
    "exp_x2 = float(integrate(x * x * integrate(func, (y, domain_y[0], domain_y[1])), (x, domain_x[0], domain_x[1])))\n",
    "var_x = exp_x2 - exp_x ** 2\n",
    "print(\"Variance of x: \", var_x)\n",
    "\n",
    "# Variance of y\n",
    "exp_y2 = float(integrate(y * y * integrate(func, (x, domain_x[0], domain_x[1])), (y, domain_y[0], domain_y[1])))\n",
    "var_y = exp_y2 - exp_y ** 2\n",
    "print(\"Variance of y: \", var_y)\n",
    "\n",
    "# Covariance\n",
    "exp_xy = float(integrate(x * y * func, (x, domain_x[0], domain_x[1]), (y, domain_y[0], domain_y[1])))\n",
    "cov = exp_xy - exp_x * exp_y\n",
    "print(\"Covariance: \", cov)\n",
    "\n",
    "# Correlation\n",
    "corr = cov/(var_x * var_y) ** (1/2)\n",
    "print(\"Correlation:  \", corr)        "
   ]
  },
  {
   "cell_type": "markdown",
   "metadata": {},
   "source": [
    "## Combinations and Functions of Random Variables"
   ]
  },
  {
   "cell_type": "markdown",
   "metadata": {},
   "source": [
    "### Linear Functions of Random Variables"
   ]
  },
  {
   "cell_type": "markdown",
   "metadata": {},
   "source": [
    "- Linear function of a random variable: given $X$ random variable and $Y = aX + b$ with $a, b \\in \\mathbb{R}$ then:\n",
    "\\begin{equation}\n",
    "    E(Y) = aE(X) + b \\text{  and  } Var(Y) = a^2Var(X)\n",
    "\\end{equation}\n",
    "- Standardization: if $X$ has expectation $\\mu$ and variance $\\sigma^2$ then:\n",
    "\\begin{equation}\n",
    "    Y = \\frac{X - \\mu}{\\sigma}\n",
    "\\end{equation}\n",
    "has an expectation of zero and variance of one"
   ]
  },
  {
   "cell_type": "markdown",
   "metadata": {},
   "source": [
    "- Sums of Random variables: given two random variables $X_1$ and $X_2$ then\n",
    "\\begin{equation}\n",
    "    E(X_1 + X_2) = E(X_1) + E(X_2)\n",
    "\\end{equation}\n",
    "and\n",
    "\\begin{equation}\n",
    "    Var(X_1 + X_2) = Var(X_1) + Var(X_2) + 2Cov(X_1,X_2)\n",
    "\\end{equation}\n",
    "- If $X_1$ and $X_2$ are independent, then:\n",
    "\\begin{equation}\n",
    "    Var(X_1 + X_2) = Var(X_1) + Var(X_2)\n",
    "\\end{equation}"
   ]
  },
  {
   "cell_type": "markdown",
   "metadata": {},
   "source": [
    "### Linear Combinations of Random Variables"
   ]
  },
  {
   "cell_type": "markdown",
   "metadata": {},
   "source": [
    "- Linear combinations of random variables: if $X_1, \\cdots, X_n$ is a sequence of random variables and $a_1, \\cdots, a_n$ and $b$ are constants then:\n",
    "\\begin{equation}\n",
    "    E(a_1X_1 + \\cdots + a_n X_n + b) = a_1 E(X_1) + \\cdots +a_n E(X_n) + b\n",
    "\\end{equation}\n",
    "- If the random variables are independent:\n",
    "\\begin{equation}\n",
    "    Var(a_1X_1 + \\cdots + a_nX_n + b) = a_1^2Var(X_1) + \\cdots + a_n^2 Var(X_n)\n",
    "\\end{equation}"
   ]
  },
  {
   "cell_type": "markdown",
   "metadata": {},
   "source": [
    "- Averaging independent random variables: $X_1, \\cdots, X_n$ sequence of random variables with expectation $\\mu$ and variance $\\sigma^2$ we have:\n",
    "$\\bar{X} = \\frac{\\sum_{i=1}^n X_i}{n}$ then\n",
    "    - $E(\\bar{X}) = \\mu$\n",
    "    - $Var(\\bar{X}) = \\frac{\\sigma^2}{n}$"
   ]
  },
  {
   "cell_type": "markdown",
   "metadata": {},
   "source": [
    "### Nonlinear Functions of a Random Variable"
   ]
  },
  {
   "cell_type": "markdown",
   "metadata": {},
   "source": [
    "- Nonlinear function of a random variable $X$: another random variable $Y=g(X)$ for some nonlinear function g"
   ]
  },
  {
   "cell_type": "code",
   "execution_count": null,
   "metadata": {},
   "outputs": [],
   "source": []
  }
 ],
 "metadata": {
  "kernelspec": {
   "display_name": "Python 3",
   "language": "python",
   "name": "python3"
  },
  "language_info": {
   "codemirror_mode": {
    "name": "ipython",
    "version": 3
   },
   "file_extension": ".py",
   "mimetype": "text/x-python",
   "name": "python",
   "nbconvert_exporter": "python",
   "pygments_lexer": "ipython3",
   "version": "3.8.5"
  },
  "toc-autonumbering": true,
  "toc-showcode": false,
  "toc-showmarkdowntxt": false,
  "toc-showtags": false
 },
 "nbformat": 4,
 "nbformat_minor": 4
}
