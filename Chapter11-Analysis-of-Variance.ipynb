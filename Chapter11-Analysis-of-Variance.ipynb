{
 "cells": [
  {
   "cell_type": "markdown",
   "metadata": {},
   "source": [
    "# Chapter 11 - Analysis of Variance"
   ]
  },
  {
   "cell_type": "code",
   "execution_count": 38,
   "metadata": {},
   "outputs": [],
   "source": [
    "# Useful libraries\n",
    "import numpy as np\n",
    "import pandas as pd\n",
    "import matplotlib.pyplot as plt\n",
    "from scipy import stats\n",
    "import statsmodels.stats.weightstats as sms\n",
    "from scipy.stats import t\n",
    "from scipy.stats import f\n",
    "from scipy.stats import norm\n",
    "import math\n",
    "from IPython.display import Math, display"
   ]
  },
  {
   "cell_type": "markdown",
   "metadata": {},
   "source": [
    "## One Factor Analysis of Variance"
   ]
  },
  {
   "cell_type": "markdown",
   "metadata": {},
   "source": [
    "### One Factor Layouts\n",
    "- Suppose we experiment on **k populations** with unknown population means $\\mu_1, \\mu_2, \\dots, \\mu_k$\n",
    "    - Observation $x_{ij}$ represents the j-th observation from the i-th population\n",
    "\n",
    "- The one factor analysis of variance methodology is appropriate for comparing three of more populations\n",
    "- Each population i consists of $n_i$ observations\n",
    "    - If sample sizes $n_1, n_2, \\cdots, n_k$ are all equal, then the data set is *balanced*, otherwise it is called *imbalanced*"
   ]
  },
  {
   "cell_type": "markdown",
   "metadata": {},
   "source": [
    "- Total sample size is $n_T = n_1 + \\cdots + n_k$ \n",
    "    - The total data set is a called one-way or one factor layout\n",
    "    - Each factor has $k$ levels corresponding to $k$ populations\n",
    "\n",
    "- Completely randomized designs: experiment performed by randomly allocating a $n_T$ units among the $k$ populations\n",
    "- Modeling assumption: $x_{ij} = \\mu_i + \\epsilon_{ij}$\n",
    "    - where the error terms $\\epsilon_{ij} \\sim N(0, \\sigma^2)$\n",
    "$\\Longrightarrow x_{ij} \\sim N(\\mu_i, \\sigma^2)$\n",
    "\n",
    "- Point estimates of the unknown population means:\n",
    "$$\\hat{\\mu}_i = \\overline x_{i \\cdot} = \\frac{ \\sum_{j=1}^{n_i} }{n_i}, 1 \\leq i \\leq k$$"
   ]
  },
  {
   "cell_type": "markdown",
   "metadata": {},
   "source": [
    "If we test $H_0: \\mu_1 = \\mu_2 = \\cdots = \\mu_k$ vs $H_A$: not $H_0$\n",
    "\n",
    "$\\Longrightarrow$ Acceptance of the null hypothesis indicates that there is no evidence that any of the population means are unequal"
   ]
  },
  {
   "cell_type": "markdown",
   "metadata": {},
   "source": [
    "### Partitioning the Total Sum of Squares\n",
    "\n",
    "- We can call the $SSTr$ the \"sum of squares for treatments\", supposing we are analyzing the effects of treatments\n",
    "\n",
    "\\begin{align}\n",
    "    &SST = \\sum_{i=i}^k \\sum_{j=1}^{n_i} (x_{ij} - \\overline x_{\\cdot \\cdot} )^2 \\\\\n",
    "    &= \\sum_{i=1}^k n_i ( \\overline x_{i \\cdot} - \\overline x_{\\cdot \\cdot} )^2 + \\sum_{i=i}^k \\sum_{j=1}^{n_i} (x_{ij} - \\overline x_{i \\cdots} )^2\\\\\n",
    "    &= SSTr + SSE\n",
    "\\end{align}\n",
    "\n",
    "- $p$-value considerations: The plausibility of the null hypothesis that the factor level means are all equal depends upon the relative size of the sum of squares for treatments, SSTr, to the sum of squares for error, SSE"
   ]
  },
  {
   "cell_type": "markdown",
   "metadata": {},
   "source": [
    "### The Analysis of Variance (ANOVA) Table "
   ]
  },
  {
   "cell_type": "markdown",
   "metadata": {},
   "source": [
    "- Mean square error (MSE)\n",
    "$$MSE = \\frac{SSE}{n_T - k}$$\n",
    "$$\\frac{SSE}{\\sigma^2} \\sim \\chi_{n_T - k}^2$$\n",
    "$$E(MSE) = \\sigma^2$$\n",
    "\n",
    "- Mean squares for treatments (MSTr)\n",
    "$$MSTr = \\frac{SSTr}{k-1}$$\n",
    "\n",
    "- If the factor level means $\\mu_i$ are all equal ($H_0$), then $E(MSTr) = \\sigma^2$ and $\\frac{SSTr}{\\sigma^2} \\sim \\chi^2_{k-1}$\n",
    "$\\Longrightarrow$ under $H_0$ we have:\n",
    "$$F = \\frac{MSTr}{MSE} \\sim F_{k-1, n_T -k}$$"
   ]
  },
  {
   "cell_type": "markdown",
   "metadata": {},
   "source": [
    "### Analysis of variance table for one factor layout\n",
    "\n",
    "| Source     | d.f.      | Sum of  Squares | Mean Squares          | F-statistic            | P-value                         |\n",
    "|------------|-----------|-----------------|-----------------------|------------------------|---------------------------------|\n",
    "| Treatments | $$k-1$$   | SSTr            | $$\\frac{SSTr}{k-1}$$  | $$F=\\frac{MSTr}{MSE}$$ | $$P(F_{k-1,n_T -k}\\geq obs(F))$$ |\n",
    "| Error      | $$n_T-k$$ | SSE             | $$\\frac{SSE}{n_T-k}$$ |                        |                                 |\n",
    "| Total      | $$n_T-1$$ | SST             |                       |                        |                                 |"
   ]
  },
  {
   "cell_type": "code",
   "execution_count": 47,
   "metadata": {},
   "outputs": [
    {
     "data": {
      "text/latex": [
       "$\\displaystyle SSTr: 121.2382 \\\\SSE: 34.4170\\\\SST: 155.6552$"
      ],
      "text/plain": [
       "<IPython.core.display.Math object>"
      ]
     },
     "metadata": {},
     "output_type": "display_data"
    },
    {
     "data": {
      "text/latex": [
       "$\\displaystyle MSTr: 60.6191 \\\\MSE: 1.1472$"
      ],
      "text/plain": [
       "<IPython.core.display.Math object>"
      ]
     },
     "metadata": {},
     "output_type": "display_data"
    },
    {
     "data": {
      "text/latex": [
       "$\\displaystyle F: 52.8395 \\\\ p-value: 0.0000$"
      ],
      "text/plain": [
       "<IPython.core.display.Math object>"
      ]
     },
     "metadata": {},
     "output_type": "display_data"
    }
   ],
   "source": [
    "# Build a toy dataset\n",
    "l1 = np.array([23.8, 24, 25.6, 25.1, 25.5, 26.1, 23.8, 25.7, 24.3, 26, 24.6, 27])\n",
    "l2 = np.array([30.2, 29.9, 29.1 ,28.8, 29.1, 28.6, 28.3, 28.7, 27.9, 30.5])\n",
    "l3 = np.array([27, 25.4, 25.6, 24.2, 24.8, 24, 25.5, 23.9, 22.6, 26, 23.4])\n",
    "layout_list = [l1, l2, l3]\n",
    "\n",
    "# Hard coded calculations\n",
    "k = len(layout_list)\n",
    "df_treatments = k - 1\n",
    "nt = np.count_nonzero(l1) + np.count_nonzero(l2) + np.count_nonzero(l3)\n",
    "df_error = nt -k\n",
    "df_total = nt -1\n",
    "\n",
    "# Sum of Squares\n",
    "stack = np.hstack((l1, l2, l3))\n",
    "SST = 0\n",
    "for i in range(len(stack)):\n",
    "    SST += (stack[i] - stack.mean())**2\n",
    "SSTr = 0\n",
    "for i in range(3):\n",
    "    SSTr += len(layout_list[i]) * (layout_list[i].mean() - stack.mean())**2\n",
    "SSE = SST - SSTr\n",
    "display(Math(r'SSTr: {:.4f} \\\\SSE: {:.4f}\\\\SST: {:.4f}'.format(SSTr, SSE, SST)))\n",
    "\n",
    "# Mean of Squares\n",
    "MSTr = SSTr / (k-1)\n",
    "MSE = SSE / (nt-k)\n",
    "display(Math(r'MSTr: {:.4f} \\\\MSE: {:.4f}'.format(MSTr, MSE)))\n",
    "\n",
    "# F-value\n",
    "F = MSTr/MSE\n",
    "\n",
    "# p-value\n",
    "p = f.sf(F, k-1, nt-k)\n",
    "\n",
    "display(Math(r'F: {:.4f} \\\\ p-value: {:.4f}'.format(F, p)))"
   ]
  },
  {
   "cell_type": "markdown",
   "metadata": {},
   "source": [
    "### Pairwise Comparisons of the Factor Level Means (T-Method: Tukey’s Multiple Comparisons Procedure)\n",
    "- When the null hypothesis is rejected, the experimenter can follow up the analysis with pairwise comparisons of the factor level means to discover which ones have been shown to be different and by how much\n",
    "- With $k$ factor levels there are $k(k-1)/2$ pairwise differences\n",
    "\n",
    "- A set of $1-\\alpha$ confidence intervals for the differences $\\mu_{i_1} - \\mu_{i_2}$ are\n",
    "$$ \\left( \\overline x _{i_1} - \\overline x_{i_2} - \\hat{\\sigma} \\frac{q_{\\alpha, k, \\nu}}{\\sqrt{2}} \\sqrt{ \\frac{1}{n_{i_1}} + \\frac{1}{n_{i_2}} } , \n",
    "\\overline x _{i_1} - \\overline x_{i_2} + \\hat{\\sigma} \\frac{q_{\\alpha, k, \\nu}}{\\sqrt{2}} \\sqrt{ \\frac{1}{n_{i_1}} + \\frac{1}{n_{i_2}} } \\right)$$\n",
    "- where $\\hat{\\sigma} = \\sqrt{MSE}$\n",
    "\n",
    "- $q_{\\alpha, k, \\nu}$ is is a critical point that is the upper point of the Studentized range distribution with parameter α and k and degrees of freedom $v = n T - k$\n",
    "    - Difference with the $t_{\\alpha/2, \\nu}$: T-intervals have an individual confidence level whereas this set of simultaneous confidence intervals have an overall confidence level\n",
    "\n",
    "- If the confidence interval for the difference $\\mu_{i_1} - \\mu_{i_2}$ contains zero, then there is no evidence that the means at factor levels $i_1$ and $i_2$ are different"
   ]
  },
  {
   "cell_type": "code",
   "execution_count": 48,
   "metadata": {},
   "outputs": [
    {
     "data": {
      "text/latex": [
       "$\\displaystyle \\mu_1 - \\mu_2 \\in (-5.1168, -2.8532)$"
      ],
      "text/plain": [
       "<IPython.core.display.Math object>"
      ]
     },
     "metadata": {},
     "output_type": "display_data"
    },
    {
     "data": {
      "text/latex": [
       "$\\displaystyle \\mu_1 - \\mu_3 \\in (-0.7420, 1.4647)$"
      ],
      "text/plain": [
       "<IPython.core.display.Math object>"
      ]
     },
     "metadata": {},
     "output_type": "display_data"
    },
    {
     "data": {
      "text/latex": [
       "$\\displaystyle \\mu_2 - \\mu_3 \\in (3.1915, 5.5013)$"
      ],
      "text/plain": [
       "<IPython.core.display.Math object>"
      ]
     },
     "metadata": {},
     "output_type": "display_data"
    }
   ],
   "source": [
    "# Example from the previous dataset\n",
    "# Return the left and right confidence interval\n",
    "def print_confidence_interval(data1, data2, q):\n",
    "    diff = data1.mean() - data2.mean()\n",
    "    left = diff - sigma*q/(math.sqrt(2)) * math.sqrt( 1/len(data1) + 1/len(data2))\n",
    "    right = diff + sigma*q/(math.sqrt(2)) * math.sqrt( 1/len(data1) + 1/len(data2))\n",
    "    return left, right\n",
    "\n",
    "# sigma\n",
    "sigma = math.sqrt(MSE)\n",
    "\n",
    "# Critical value\n",
    "q = 3.49 # We obtain this from tables\n",
    "\n",
    "# Print functions\n",
    "left, right = confidence_interval(l1, l2, q); display(Math(r'\\mu_1 - \\mu_2 \\in ({:.4f}, {:.4f})'.format(left, right)))\n",
    "left, right = confidence_interval(l1, l3, q); display(Math(r'\\mu_1 - \\mu_3 \\in ({:.4f}, {:.4f})'.format(left, right)))\n",
    "left, right = confidence_interval(l2, l3, q); display(Math(r'\\mu_2 - \\mu_3 \\in ({:.4f}, {:.4f})'.format(left, right)))"
   ]
  },
  {
   "cell_type": "markdown",
   "metadata": {},
   "source": [
    "### Sample Size Determination\n",
    "- The sensitivity of the analysis depends on the k sample sizes\n",
    "- The power of the test is higher as the sample size increases\n",
    "- Increase in the sample size $\\Longrightarrow$ decrease in the lengths of pairwise confidence intervals\n",
    "- If the sample sizes $n_i$ are unequal, then\n",
    "$$L = \\sqrt{2} \\hat{\\sigma} q_{\\alpha,k,\\nu} \\sqrt{ \\frac{1}{n_{i_1}} + \\frac{1}{n_{i_2}} }$$\n",
    "\n",
    "- If they are equal, then the expression becomes\n",
    "$$L = 2q_{\\alpha, k, \\nu} \\sqrt{ \\frac{s^2}{n} }$$\n",
    "    - If we want a maximum length of $L$ then we need to collect\n",
    "$$n \\geq \\frac { 4 s^2 q_{\\alpha, k, \\nu}^2 }{L^2}$$"
   ]
  },
  {
   "cell_type": "markdown",
   "metadata": {},
   "source": [
    "### Model Assumptions\n",
    "- Observations are distributed independently with normal distribution that has a common variance\n",
    "- The ANOVA is fairly robust to the distribution of data, so that it provides fairly accurate results as long as the distribution is not very far from a normal distribution\n",
    "- The equality of the variances for each of the k factor levels can be judged from a comparison of the sample variances or from a visual comparison of the lengths of boxplots of the observations at each factor level"
   ]
  }
 ],
 "metadata": {
  "kernelspec": {
   "display_name": "Python 3",
   "language": "python",
   "name": "python3"
  },
  "language_info": {
   "codemirror_mode": {
    "name": "ipython",
    "version": 3
   },
   "file_extension": ".py",
   "mimetype": "text/x-python",
   "name": "python",
   "nbconvert_exporter": "python",
   "pygments_lexer": "ipython3",
   "version": "3.8.5"
  }
 },
 "nbformat": 4,
 "nbformat_minor": 4
}
