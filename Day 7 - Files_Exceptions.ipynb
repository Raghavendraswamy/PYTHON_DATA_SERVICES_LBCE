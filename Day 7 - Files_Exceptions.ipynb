{
 "cells": [
  {
   "cell_type": "code",
   "execution_count": 22,
   "id": "a78d982d-fab6-4c0a-8685-83870b3f66f1",
   "metadata": {},
   "outputs": [],
   "source": [
    "reader = open('dog_breeds.txt','r')"
   ]
  },
  {
   "cell_type": "code",
   "execution_count": 23,
   "id": "ea0c8783-cbf5-4a5c-a481-614c5fe5bd13",
   "metadata": {},
   "outputs": [
    {
     "data": {
      "text/plain": [
       "'dog_breeds.txt'"
      ]
     },
     "execution_count": 23,
     "metadata": {},
     "output_type": "execute_result"
    }
   ],
   "source": [
    "reader.name"
   ]
  },
  {
   "cell_type": "code",
   "execution_count": 24,
   "id": "fa78463f-45ac-4ad6-ae4f-9b782a43c981",
   "metadata": {},
   "outputs": [
    {
     "data": {
      "text/plain": [
       "'r'"
      ]
     },
     "execution_count": 24,
     "metadata": {},
     "output_type": "execute_result"
    }
   ],
   "source": [
    "reader.mode"
   ]
  },
  {
   "cell_type": "code",
   "execution_count": 25,
   "id": "9b3c34c9-3fdb-4969-9b50-cb04138e7446",
   "metadata": {},
   "outputs": [
    {
     "name": "stdout",
     "output_type": "stream",
     "text": [
      "Pug\n",
      "Jack Russell Terrier\n",
      "English Springer Spaniel\n",
      "German Shepherd\n",
      "Staffordshire Bull Terrier\n",
      "Cavalier King Charles Spaniel\n",
      "Golden Retriever\n",
      "West Highland White Terrier\n",
      "Boxer\n",
      "Border Terrier\n",
      "\n"
     ]
    }
   ],
   "source": [
    "print(reader.read())"
   ]
  },
  {
   "cell_type": "code",
   "execution_count": 21,
   "id": "40d57bca-8e16-4d58-a062-5c344a3e224c",
   "metadata": {},
   "outputs": [
    {
     "name": "stdout",
     "output_type": "stream",
     "text": [
      "Pug\n",
      "Jack Russell Ter\n"
     ]
    }
   ],
   "source": [
    "#print(reader.read(20))"
   ]
  },
  {
   "cell_type": "code",
   "execution_count": 26,
   "id": "b2b8b13e-6bcd-4860-ae91-9719dfa432d5",
   "metadata": {},
   "outputs": [
    {
     "data": {
      "text/plain": [
       "False"
      ]
     },
     "execution_count": 26,
     "metadata": {},
     "output_type": "execute_result"
    }
   ],
   "source": [
    "reader.closed"
   ]
  },
  {
   "cell_type": "code",
   "execution_count": 27,
   "id": "e68b10e0-a39a-4531-80d3-6ca4b2493ebe",
   "metadata": {},
   "outputs": [],
   "source": [
    "reader.close()"
   ]
  },
  {
   "cell_type": "code",
   "execution_count": 28,
   "id": "0ca142a4-9b7c-4757-b34b-a1ac90a019b3",
   "metadata": {},
   "outputs": [
    {
     "data": {
      "text/plain": [
       "True"
      ]
     },
     "execution_count": 28,
     "metadata": {},
     "output_type": "execute_result"
    }
   ],
   "source": [
    "reader.closed"
   ]
  },
  {
   "cell_type": "markdown",
   "id": "8ae874b1-58e1-4d15-993a-884fec01e2cb",
   "metadata": {},
   "source": [
    "#### With open... "
   ]
  },
  {
   "cell_type": "code",
   "execution_count": 29,
   "id": "67a46bab-3564-457d-aa49-c6dc2ecb197c",
   "metadata": {},
   "outputs": [
    {
     "name": "stdout",
     "output_type": "stream",
     "text": [
      "Pug\n",
      "Jack Russell Terrier\n",
      "English Springer Spaniel\n",
      "German Shepherd\n",
      "Staffordshire Bull Terrier\n",
      "Cavalier King Charles Spaniel\n",
      "Golden Retriever\n",
      "West Highland White Terrier\n",
      "Boxer\n",
      "Border Terrier\n",
      "\n"
     ]
    }
   ],
   "source": [
    "with open('dog_breeds.txt','r') as reader:\n",
    "    print(reader.read())"
   ]
  },
  {
   "cell_type": "code",
   "execution_count": 30,
   "id": "b600aa7a-3f79-4ea0-a17f-bfb60d84e0a6",
   "metadata": {},
   "outputs": [
    {
     "data": {
      "text/plain": [
       "True"
      ]
     },
     "execution_count": 30,
     "metadata": {},
     "output_type": "execute_result"
    }
   ],
   "source": [
    "reader.closed"
   ]
  },
  {
   "cell_type": "markdown",
   "id": "f442f496-fdf6-4c9a-9432-492ba873c7f2",
   "metadata": {},
   "source": [
    "#### Read one line at a time"
   ]
  },
  {
   "cell_type": "code",
   "execution_count": 32,
   "id": "be8ba649-ba35-4f88-bf22-40247c152b3f",
   "metadata": {},
   "outputs": [
    {
     "name": "stdout",
     "output_type": "stream",
     "text": [
      "Pug\n",
      "Jack Russell Terrier\n",
      "English Springer Spaniel\n",
      "German Shepherd\n",
      "Staffordshire Bull Terrier\n",
      "Cavalier King Charles Spaniel\n",
      "Golden Retriever\n",
      "West Highland White Terrier\n",
      "Boxer\n",
      "Border Terrier\n"
     ]
    }
   ],
   "source": [
    "with open('dog_breeds.txt','r') as reader:\n",
    "    for line in reader.readlines():\n",
    "        print(line, end='')\n"
   ]
  },
  {
   "cell_type": "code",
   "execution_count": 33,
   "id": "52f22e89-b5b5-435a-8c9a-edf5e8293147",
   "metadata": {},
   "outputs": [
    {
     "name": "stdout",
     "output_type": "stream",
     "text": [
      "Pug\n",
      "Jack Russell Terrier\n",
      "English Springer Spaniel\n",
      "German Shepherd\n",
      "Staffordshire Bull Terrier\n",
      "Cavalier King Charles Spaniel\n",
      "Golden Retriever\n",
      "West Highland White Terrier\n",
      "Boxer\n",
      "Border Terrier\n"
     ]
    }
   ],
   "source": [
    "with open('dog_breeds.txt','r') as reader:\n",
    "    for line in reader:\n",
    "        print(line, end='')"
   ]
  },
  {
   "cell_type": "markdown",
   "id": "017ef5ba-cb2c-4683-aeec-600af23f5be6",
   "metadata": {},
   "source": [
    "#### Copy a file\n",
    "    "
   ]
  },
  {
   "cell_type": "code",
   "execution_count": 34,
   "id": "dc46a9d9-499a-4077-96ed-149bf34542f9",
   "metadata": {},
   "outputs": [],
   "source": [
    "with open('dog_breeds.txt','r') as reader:\n",
    "    with open('dog_copy.txt','w') as writer:\n",
    "        for line in reader:\n",
    "            writer.write(line)"
   ]
  },
  {
   "cell_type": "markdown",
   "id": "6f3c6eb2-83d4-4544-aca7-9efaff97754b",
   "metadata": {},
   "source": [
    "## Exception Handling"
   ]
  },
  {
   "cell_type": "code",
   "execution_count": 24,
   "id": "30dda974-15e4-47c4-afc8-8d996cd004f9",
   "metadata": {},
   "outputs": [
    {
     "ename": "FileNotFoundError",
     "evalue": "[Errno 2] No such file or directory: 'log.txt'",
     "output_type": "error",
     "traceback": [
      "\u001b[0;31m---------------------------------------------------------------------------\u001b[0m",
      "\u001b[0;31mFileNotFoundError\u001b[0m                         Traceback (most recent call last)",
      "Input \u001b[0;32mIn [24]\u001b[0m, in \u001b[0;36m<cell line: 1>\u001b[0;34m()\u001b[0m\n\u001b[0;32m----> 1\u001b[0m \u001b[38;5;28;01mwith\u001b[39;00m \u001b[38;5;28;43mopen\u001b[39;49m\u001b[43m(\u001b[49m\u001b[38;5;124;43m'\u001b[39;49m\u001b[38;5;124;43mlog.txt\u001b[39;49m\u001b[38;5;124;43m'\u001b[39;49m\u001b[43m,\u001b[49m\u001b[38;5;124;43m'\u001b[39;49m\u001b[38;5;124;43mr\u001b[39;49m\u001b[38;5;124;43m'\u001b[39;49m\u001b[43m)\u001b[49m \u001b[38;5;28;01mas\u001b[39;00m reader:\n\u001b[1;32m      2\u001b[0m         \u001b[38;5;28;01mfor\u001b[39;00m line \u001b[38;5;129;01min\u001b[39;00m reader:\n\u001b[1;32m      3\u001b[0m             \u001b[38;5;28mprint\u001b[39m(line, end\u001b[38;5;241m=\u001b[39m\u001b[38;5;124m'\u001b[39m\u001b[38;5;124m'\u001b[39m)\n",
      "\u001b[0;31mFileNotFoundError\u001b[0m: [Errno 2] No such file or directory: 'log.txt'"
     ]
    }
   ],
   "source": [
    "with open('log.txt','r') as reader:\n",
    "        for line in reader:\n",
    "            print(line, end='')"
   ]
  },
  {
   "cell_type": "markdown",
   "id": "5c728274-71bd-48e8-9f7e-ffad0de2cda4",
   "metadata": {},
   "source": [
    "#### Handling ANY exception"
   ]
  },
  {
   "cell_type": "code",
   "execution_count": 23,
   "id": "d77c3416-d83b-4fd6-bf17-8ac505104589",
   "metadata": {},
   "outputs": [
    {
     "name": "stdout",
     "output_type": "stream",
     "text": [
      "No such file in the current folder\n",
      "Completed\n"
     ]
    }
   ],
   "source": [
    "try:\n",
    "    with open('log.txt','r') as reader:\n",
    "        for line in reader:\n",
    "            print(line, end='')\n",
    "except :\n",
    "    print('No such file in the current folder')\n",
    "print('Completed')"
   ]
  },
  {
   "cell_type": "markdown",
   "id": "2ebdd6a9-4386-4bc3-adfe-c647f56a5ab5",
   "metadata": {},
   "source": [
    "#### Handling specific exceptions"
   ]
  },
  {
   "cell_type": "code",
   "execution_count": 25,
   "id": "955c6239-92c6-4bbb-816c-eba72ccbc50b",
   "metadata": {},
   "outputs": [
    {
     "name": "stdout",
     "output_type": "stream",
     "text": [
      "[Errno 2] No such file or directory: 'log.txt'\n",
      "Completed\n"
     ]
    }
   ],
   "source": [
    "try:\n",
    "    with open('log.txt','r') as reader:\n",
    "        for line in reader:\n",
    "            print(line, end='')\n",
    "except FileNotFoundError as fnerror:\n",
    "    print(fnerror)\n",
    "    \n",
    "print('Completed')"
   ]
  },
  {
   "cell_type": "markdown",
   "id": "c7708eaf-9757-44dc-8646-fcc557b563b2",
   "metadata": {},
   "source": [
    "#### assert()"
   ]
  },
  {
   "cell_type": "code",
   "execution_count": 45,
   "id": "f7476762-19ae-47e9-bca5-4717274aa773",
   "metadata": {},
   "outputs": [],
   "source": [
    "age = 10\n",
    "price = 0"
   ]
  },
  {
   "cell_type": "code",
   "execution_count": 46,
   "id": "1789f49e-fdfe-4d03-993b-e85286df92b6",
   "metadata": {},
   "outputs": [
    {
     "name": "stdout",
     "output_type": "stream",
     "text": [
      "Assert Failed: Price cannot be zero\n"
     ]
    }
   ],
   "source": [
    "try:\n",
    "    assert ( price > 0), \"Price cannot be zero\"\n",
    "    print(\"After assertion\")\n",
    "except AssertionError as aserror:\n",
    "    print('Assert Failed:' , aserror)\n",
    "else:\n",
    "    print('Assert was successful')"
   ]
  },
  {
   "cell_type": "code",
   "execution_count": 44,
   "id": "678da250-f609-4329-b6fd-13bb230e99cc",
   "metadata": {},
   "outputs": [
    {
     "name": "stdout",
     "output_type": "stream",
     "text": [
      "Assert Failed: Age should be over 18\n",
      "This will always be executed\n"
     ]
    }
   ],
   "source": [
    "try:\n",
    "    assert ( age > 18), \"Age should be over 18\"\n",
    "    print(\"After assertion\")\n",
    "except AssertionError as aserror:\n",
    "    print('Assert Failed:' , aserror)\n",
    "else:\n",
    "    print('Assert was successful')\n",
    "finally:\n",
    "    print('This will always be executed')"
   ]
  },
  {
   "cell_type": "code",
   "execution_count": null,
   "id": "767dad0f-096d-4c5a-832c-0233e9d2b087",
   "metadata": {},
   "outputs": [],
   "source": []
  }
 ],
 "metadata": {
  "kernelspec": {
   "display_name": "Python 3",
   "language": "python",
   "name": "python3"
  },
  "language_info": {
   "codemirror_mode": {
    "name": "ipython",
    "version": 3
   },
   "file_extension": ".py",
   "mimetype": "text/x-python",
   "name": "python",
   "nbconvert_exporter": "python",
   "pygments_lexer": "ipython3",
   "version": "3.8.13"
  }
 },
 "nbformat": 4,
 "nbformat_minor": 5
}
