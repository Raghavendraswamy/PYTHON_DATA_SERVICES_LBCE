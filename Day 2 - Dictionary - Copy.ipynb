{
 "cells": [
  {
   "cell_type": "code",
   "execution_count": 1,
   "id": "dc76911c",
   "metadata": {},
   "outputs": [
    {
     "data": {
      "text/plain": [
       "['__class__',\n",
       " '__contains__',\n",
       " '__delattr__',\n",
       " '__delitem__',\n",
       " '__dir__',\n",
       " '__doc__',\n",
       " '__eq__',\n",
       " '__format__',\n",
       " '__ge__',\n",
       " '__getattribute__',\n",
       " '__getitem__',\n",
       " '__gt__',\n",
       " '__hash__',\n",
       " '__init__',\n",
       " '__init_subclass__',\n",
       " '__iter__',\n",
       " '__le__',\n",
       " '__len__',\n",
       " '__lt__',\n",
       " '__ne__',\n",
       " '__new__',\n",
       " '__reduce__',\n",
       " '__reduce_ex__',\n",
       " '__repr__',\n",
       " '__reversed__',\n",
       " '__setattr__',\n",
       " '__setitem__',\n",
       " '__sizeof__',\n",
       " '__str__',\n",
       " '__subclasshook__',\n",
       " 'clear',\n",
       " 'copy',\n",
       " 'fromkeys',\n",
       " 'get',\n",
       " 'items',\n",
       " 'keys',\n",
       " 'pop',\n",
       " 'popitem',\n",
       " 'setdefault',\n",
       " 'update',\n",
       " 'values']"
      ]
     },
     "execution_count": 1,
     "metadata": {},
     "output_type": "execute_result"
    }
   ],
   "source": [
    "dir(dict)"
   ]
  },
  {
   "cell_type": "code",
   "execution_count": 2,
   "id": "82bc8d46",
   "metadata": {},
   "outputs": [],
   "source": [
    "s1 = {'Name':'Tom',\n",
    "     'Age':32,\n",
    "     'Course':'Python',\n",
    "     'Marks':[19,67,98]\n",
    "     }"
   ]
  },
  {
   "cell_type": "code",
   "execution_count": 3,
   "id": "73fbeca8",
   "metadata": {},
   "outputs": [
    {
     "data": {
      "text/plain": [
       "{'Name': 'Tom', 'Age': 32, 'Course': 'Python', 'Marks': [19, 67, 98]}"
      ]
     },
     "execution_count": 3,
     "metadata": {},
     "output_type": "execute_result"
    }
   ],
   "source": [
    "s1"
   ]
  },
  {
   "cell_type": "code",
   "execution_count": 4,
   "id": "be92d42b",
   "metadata": {},
   "outputs": [
    {
     "data": {
      "text/plain": [
       "dict"
      ]
     },
     "execution_count": 4,
     "metadata": {},
     "output_type": "execute_result"
    }
   ],
   "source": [
    "type(s1)"
   ]
  },
  {
   "cell_type": "code",
   "execution_count": 5,
   "id": "f869d74e",
   "metadata": {},
   "outputs": [],
   "source": [
    "## Keys  - Immutable types (numbers,string, tuple)\n",
    "## Values - Any datatype"
   ]
  },
  {
   "cell_type": "code",
   "execution_count": 6,
   "id": "87227a3f",
   "metadata": {},
   "outputs": [],
   "source": [
    " d1 = {\n",
    "     1:'One',\n",
    "     10.30 :'Time',\n",
    "     'Name':'Tom',\n",
    "     (0,0):'Origin'\n",
    " }"
   ]
  },
  {
   "cell_type": "code",
   "execution_count": 7,
   "id": "8f355166",
   "metadata": {},
   "outputs": [
    {
     "data": {
      "text/plain": [
       "{1: 'One', 10.3: 'Time', 'Name': 'Tom', (0, 0): 'Origin'}"
      ]
     },
     "execution_count": 7,
     "metadata": {},
     "output_type": "execute_result"
    }
   ],
   "source": [
    "d1"
   ]
  },
  {
   "cell_type": "code",
   "execution_count": 8,
   "id": "8bff9037",
   "metadata": {},
   "outputs": [
    {
     "ename": "TypeError",
     "evalue": "unhashable type: 'list'",
     "output_type": "error",
     "traceback": [
      "\u001b[0;31m---------------------------------------------------------------------------\u001b[0m",
      "\u001b[0;31mTypeError\u001b[0m                                 Traceback (most recent call last)",
      "Input \u001b[0;32mIn [8]\u001b[0m, in \u001b[0;36m<cell line: 2>\u001b[0;34m()\u001b[0m\n\u001b[0;32m----> 1\u001b[0m d2 \u001b[38;5;241m=\u001b[39m {\n\u001b[1;32m      2\u001b[0m     \u001b[38;5;241m1\u001b[39m:\u001b[38;5;124m'\u001b[39m\u001b[38;5;124mOne\u001b[39m\u001b[38;5;124m'\u001b[39m,\n\u001b[1;32m      3\u001b[0m     \u001b[38;5;241m10.30\u001b[39m :\u001b[38;5;124m'\u001b[39m\u001b[38;5;124mTime\u001b[39m\u001b[38;5;124m'\u001b[39m,\n\u001b[1;32m      4\u001b[0m     \u001b[38;5;124m'\u001b[39m\u001b[38;5;124mName\u001b[39m\u001b[38;5;124m'\u001b[39m:\u001b[38;5;124m'\u001b[39m\u001b[38;5;124mTom\u001b[39m\u001b[38;5;124m'\u001b[39m,\n\u001b[1;32m      5\u001b[0m     (\u001b[38;5;241m0\u001b[39m,\u001b[38;5;241m0\u001b[39m):\u001b[38;5;124m'\u001b[39m\u001b[38;5;124mOrigin\u001b[39m\u001b[38;5;124m'\u001b[39m,\n\u001b[1;32m      6\u001b[0m     [\u001b[38;5;241m1\u001b[39m,\u001b[38;5;241m2\u001b[39m]:\u001b[38;5;124m'\u001b[39m\u001b[38;5;124mNA\u001b[39m\u001b[38;5;124m'\u001b[39m\n\u001b[1;32m      7\u001b[0m }\n",
      "\u001b[0;31mTypeError\u001b[0m: unhashable type: 'list'"
     ]
    }
   ],
   "source": [
    " d2 = {\n",
    "     1:'One',\n",
    "     10.30 :'Time',\n",
    "     'Name':'Tom',\n",
    "     (0,0):'Origin',\n",
    "     [1,2]:'NA'\n",
    " }"
   ]
  },
  {
   "cell_type": "markdown",
   "id": "0225f2fe",
   "metadata": {},
   "source": [
    "### Combine two sequences"
   ]
  },
  {
   "cell_type": "code",
   "execution_count": null,
   "id": "2cc29540",
   "metadata": {},
   "outputs": [],
   "source": [
    "names = ['Tom','Tim','Jon','Jim']\n",
    "marks = [67,78,54,99]"
   ]
  },
  {
   "cell_type": "code",
   "execution_count": null,
   "id": "67afad16",
   "metadata": {},
   "outputs": [],
   "source": [
    "zip(names,marks)"
   ]
  },
  {
   "cell_type": "code",
   "execution_count": null,
   "id": "a0dc0f48",
   "metadata": {},
   "outputs": [],
   "source": [
    "m1 = dict(zip(names,marks))"
   ]
  },
  {
   "cell_type": "markdown",
   "id": "c72c8d26",
   "metadata": {},
   "source": [
    "m1"
   ]
  },
  {
   "cell_type": "code",
   "execution_count": null,
   "id": "0c053418",
   "metadata": {},
   "outputs": [],
   "source": [
    "m1['Jon']"
   ]
  },
  {
   "cell_type": "code",
   "execution_count": null,
   "id": "8122a75c",
   "metadata": {},
   "outputs": [],
   "source": [
    "m1.keys()"
   ]
  },
  {
   "cell_type": "code",
   "execution_count": null,
   "id": "a429d474",
   "metadata": {},
   "outputs": [],
   "source": [
    "m1.values()"
   ]
  },
  {
   "cell_type": "code",
   "execution_count": null,
   "id": "66c0874e",
   "metadata": {},
   "outputs": [],
   "source": [
    "m1.items()"
   ]
  },
  {
   "cell_type": "code",
   "execution_count": null,
   "id": "97fdba30",
   "metadata": {},
   "outputs": [],
   "source": [
    "m2 = dict(zip(marks,names))"
   ]
  },
  {
   "cell_type": "code",
   "execution_count": null,
   "id": "408fe7e7",
   "metadata": {},
   "outputs": [],
   "source": [
    "m2"
   ]
  },
  {
   "cell_type": "code",
   "execution_count": null,
   "id": "176b637c",
   "metadata": {},
   "outputs": [],
   "source": [
    "states = ['TN','AP','UP','Kerala','Goa']\n",
    "capitals = ['Chennai','Amaravathy','Lucknow','Trivandrum','Panaji']"
   ]
  },
  {
   "cell_type": "code",
   "execution_count": null,
   "id": "7aa82429",
   "metadata": {},
   "outputs": [],
   "source": [
    "dstates = dict(zip(states,capitals))"
   ]
  },
  {
   "cell_type": "code",
   "execution_count": null,
   "id": "654edd9a",
   "metadata": {},
   "outputs": [],
   "source": [
    "dstates"
   ]
  },
  {
   "cell_type": "markdown",
   "id": "24c1768e",
   "metadata": {},
   "source": [
    "### Create dict using fromkeys()"
   ]
  },
  {
   "cell_type": "code",
   "execution_count": null,
   "id": "50a8d0c3",
   "metadata": {},
   "outputs": [],
   "source": [
    "names = ['Tom','Tim','Jon','Jim']"
   ]
  },
  {
   "cell_type": "code",
   "execution_count": null,
   "id": "c9e12a1f",
   "metadata": {},
   "outputs": [],
   "source": [
    "dict.fromkeys(names)"
   ]
  },
  {
   "cell_type": "code",
   "execution_count": null,
   "id": "f0f8f1ad",
   "metadata": {},
   "outputs": [],
   "source": [
    "dict.fromkeys(names,0)"
   ]
  },
  {
   "cell_type": "markdown",
   "id": "f04a6b28",
   "metadata": {},
   "source": [
    "### Accessing Values"
   ]
  },
  {
   "cell_type": "code",
   "execution_count": null,
   "id": "036da5e2",
   "metadata": {},
   "outputs": [],
   "source": [
    "dstates['AP']"
   ]
  },
  {
   "cell_type": "code",
   "execution_count": null,
   "id": "9494ea4b",
   "metadata": {},
   "outputs": [],
   "source": [
    "dstates['Telangana']"
   ]
  },
  {
   "cell_type": "code",
   "execution_count": null,
   "id": "ad6ed04b",
   "metadata": {},
   "outputs": [],
   "source": [
    "dstates.get('Telangana','Not Available')"
   ]
  },
  {
   "cell_type": "code",
   "execution_count": null,
   "id": "1fcf3b65",
   "metadata": {},
   "outputs": [],
   "source": [
    "dstates.get('TN','Not Available')"
   ]
  },
  {
   "cell_type": "markdown",
   "id": "79b26ef5",
   "metadata": {},
   "source": [
    "### Remove elements "
   ]
  },
  {
   "cell_type": "code",
   "execution_count": null,
   "id": "1372feed",
   "metadata": {},
   "outputs": [],
   "source": [
    "m1"
   ]
  },
  {
   "cell_type": "code",
   "execution_count": null,
   "id": "1be9c100",
   "metadata": {},
   "outputs": [],
   "source": [
    "m1.popitem()"
   ]
  },
  {
   "cell_type": "code",
   "execution_count": null,
   "id": "5b0c2a16",
   "metadata": {},
   "outputs": [],
   "source": [
    "m1.popitem()"
   ]
  },
  {
   "cell_type": "code",
   "execution_count": null,
   "id": "cc76b896",
   "metadata": {},
   "outputs": [],
   "source": [
    "m1"
   ]
  },
  {
   "cell_type": "code",
   "execution_count": null,
   "id": "4fd00a59",
   "metadata": {},
   "outputs": [],
   "source": [
    "m1.pop('Tom')"
   ]
  },
  {
   "cell_type": "code",
   "execution_count": null,
   "id": "a78141dc",
   "metadata": {},
   "outputs": [],
   "source": [
    "m1"
   ]
  },
  {
   "cell_type": "code",
   "execution_count": null,
   "id": "ead2bbde",
   "metadata": {},
   "outputs": [],
   "source": [
    "m1.clear()"
   ]
  },
  {
   "cell_type": "code",
   "execution_count": null,
   "id": "11869050",
   "metadata": {},
   "outputs": [],
   "source": [
    "m1"
   ]
  },
  {
   "cell_type": "markdown",
   "id": "47e77536",
   "metadata": {},
   "source": [
    "### Update the dict"
   ]
  },
  {
   "cell_type": "code",
   "execution_count": null,
   "id": "72dd54c8",
   "metadata": {},
   "outputs": [],
   "source": [
    "dstates"
   ]
  },
  {
   "cell_type": "code",
   "execution_count": null,
   "id": "0322cb4a",
   "metadata": {},
   "outputs": [],
   "source": [
    "dstates['AP'] = 'Vizag'"
   ]
  },
  {
   "cell_type": "code",
   "execution_count": null,
   "id": "44ba4b96",
   "metadata": {},
   "outputs": [],
   "source": [
    "dstates"
   ]
  },
  {
   "cell_type": "code",
   "execution_count": null,
   "id": "48460299",
   "metadata": {},
   "outputs": [],
   "source": [
    "d1 = {1:'Mango', 2:'Kiwi',3:'Papaya'}"
   ]
  },
  {
   "cell_type": "code",
   "execution_count": null,
   "id": "b4b658a6",
   "metadata": {},
   "outputs": [],
   "source": [
    "d2 = {2:'Grapes',4:'Orange'}"
   ]
  },
  {
   "cell_type": "code",
   "execution_count": null,
   "id": "5130c8e2",
   "metadata": {},
   "outputs": [],
   "source": [
    "d1.update(d2)"
   ]
  },
  {
   "cell_type": "code",
   "execution_count": null,
   "id": "b87b7a8c",
   "metadata": {},
   "outputs": [],
   "source": [
    "d1"
   ]
  },
  {
   "cell_type": "code",
   "execution_count": null,
   "id": "2a6f5db6",
   "metadata": {},
   "outputs": [],
   "source": [
    "d1"
   ]
  },
  {
   "cell_type": "code",
   "execution_count": null,
   "id": "a1845411",
   "metadata": {},
   "outputs": [],
   "source": [
    "d1.setdefault(2,'Blah')"
   ]
  },
  {
   "cell_type": "code",
   "execution_count": null,
   "id": "55d55940",
   "metadata": {},
   "outputs": [],
   "source": [
    "d1"
   ]
  },
  {
   "cell_type": "code",
   "execution_count": null,
   "id": "cbffcb9e",
   "metadata": {},
   "outputs": [],
   "source": [
    "d1.setdefault(5,'Blah')"
   ]
  },
  {
   "cell_type": "code",
   "execution_count": null,
   "id": "581a4095",
   "metadata": {},
   "outputs": [],
   "source": [
    "d1"
   ]
  },
  {
   "cell_type": "markdown",
   "id": "02c117fe",
   "metadata": {},
   "source": [
    "# Set Datatype"
   ]
  },
  {
   "cell_type": "markdown",
   "id": "7bb95817",
   "metadata": {},
   "source": [
    "#### Properties\n",
    "+ No positional ordering\n",
    "+ No duplicates\n",
    "+ Only Immutable\n",
    "+ Heterogeneous\n",
    "+ Iterable"
   ]
  },
  {
   "cell_type": "code",
   "execution_count": null,
   "id": "b8b93496",
   "metadata": {},
   "outputs": [],
   "source": [
    "#dir(set)"
   ]
  },
  {
   "cell_type": "code",
   "execution_count": null,
   "id": "df034a5c",
   "metadata": {},
   "outputs": [],
   "source": [
    "s1 = {34,52,24,76,65}"
   ]
  },
  {
   "cell_type": "code",
   "execution_count": null,
   "id": "5d62a909",
   "metadata": {},
   "outputs": [],
   "source": [
    "s1"
   ]
  },
  {
   "cell_type": "code",
   "execution_count": null,
   "id": "a25aa684",
   "metadata": {},
   "outputs": [],
   "source": [
    "s1[2]"
   ]
  },
  {
   "cell_type": "code",
   "execution_count": null,
   "id": "2575500c",
   "metadata": {},
   "outputs": [],
   "source": [
    "s2 ={1,2,2,3,4,1}"
   ]
  },
  {
   "cell_type": "code",
   "execution_count": null,
   "id": "69711a09",
   "metadata": {},
   "outputs": [],
   "source": [
    "s2"
   ]
  },
  {
   "cell_type": "code",
   "execution_count": null,
   "id": "9260a72d",
   "metadata": {},
   "outputs": [],
   "source": [
    "lst = [34,55,67,34,78,67]"
   ]
  },
  {
   "cell_type": "code",
   "execution_count": null,
   "id": "2058a38b",
   "metadata": {},
   "outputs": [],
   "source": [
    "s3 = set(lst)"
   ]
  },
  {
   "cell_type": "code",
   "execution_count": null,
   "id": "fb6e4555",
   "metadata": {},
   "outputs": [],
   "source": [
    "s3"
   ]
  },
  {
   "cell_type": "code",
   "execution_count": null,
   "id": "5e54cdc9",
   "metadata": {},
   "outputs": [],
   "source": [
    "mixed_set = {2,1.0,'Apple',(9,10,11)}"
   ]
  },
  {
   "cell_type": "code",
   "execution_count": null,
   "id": "6cc955c4",
   "metadata": {},
   "outputs": [],
   "source": [
    "mixed_set"
   ]
  },
  {
   "cell_type": "code",
   "execution_count": null,
   "id": "be7f0368",
   "metadata": {},
   "outputs": [],
   "source": [
    "mixed_set = {2,1.0,'Apple',(9,10,11),[1,2,3]}"
   ]
  },
  {
   "cell_type": "code",
   "execution_count": null,
   "id": "f806c60a",
   "metadata": {},
   "outputs": [],
   "source": [
    "mixed_set = {2,1.0,'Apple',(9,10,11)}"
   ]
  },
  {
   "cell_type": "code",
   "execution_count": null,
   "id": "e2a74e1f",
   "metadata": {},
   "outputs": [],
   "source": [
    "for x in mixed_set:\n",
    "    print(x)"
   ]
  },
  {
   "cell_type": "markdown",
   "id": "d94eb585",
   "metadata": {},
   "source": [
    "### Add elements to a set"
   ]
  },
  {
   "cell_type": "code",
   "execution_count": null,
   "id": "db9bc685",
   "metadata": {},
   "outputs": [],
   "source": [
    "mixed_set.add(23)"
   ]
  },
  {
   "cell_type": "code",
   "execution_count": null,
   "id": "58524347",
   "metadata": {},
   "outputs": [],
   "source": [
    "mixed_set"
   ]
  },
  {
   "cell_type": "markdown",
   "id": "3ffe92ef",
   "metadata": {},
   "source": [
    "### Remove a element"
   ]
  },
  {
   "cell_type": "code",
   "execution_count": null,
   "id": "4754d8ed",
   "metadata": {},
   "outputs": [],
   "source": [
    "mixed_set.remove(23)"
   ]
  },
  {
   "cell_type": "code",
   "execution_count": null,
   "id": "6e24e012",
   "metadata": {},
   "outputs": [],
   "source": [
    "mixed_set"
   ]
  },
  {
   "cell_type": "code",
   "execution_count": null,
   "id": "4987bb44",
   "metadata": {},
   "outputs": [],
   "source": [
    "mixed_set.remove(100)"
   ]
  },
  {
   "cell_type": "code",
   "execution_count": null,
   "id": "0932eec3",
   "metadata": {},
   "outputs": [],
   "source": [
    "mixed_set.discard(100)"
   ]
  },
  {
   "cell_type": "code",
   "execution_count": null,
   "id": "9ab927da",
   "metadata": {},
   "outputs": [],
   "source": [
    "mixed_set.pop()"
   ]
  },
  {
   "cell_type": "code",
   "execution_count": null,
   "id": "7a99e140",
   "metadata": {},
   "outputs": [],
   "source": [
    "mixed_set"
   ]
  },
  {
   "cell_type": "code",
   "execution_count": null,
   "id": "ee137cc7",
   "metadata": {},
   "outputs": [],
   "source": [
    "mixed_set.pop()"
   ]
  },
  {
   "cell_type": "code",
   "execution_count": null,
   "id": "f4114348",
   "metadata": {},
   "outputs": [],
   "source": [
    "mixed_set.clear()"
   ]
  },
  {
   "cell_type": "code",
   "execution_count": null,
   "id": "508670af",
   "metadata": {},
   "outputs": [],
   "source": [
    "mixed_set"
   ]
  },
  {
   "cell_type": "code",
   "execution_count": null,
   "id": "8df3904c",
   "metadata": {},
   "outputs": [],
   "source": [
    "mixed_set = {2,1.0,'Apple',(9,10,11)}"
   ]
  },
  {
   "cell_type": "code",
   "execution_count": null,
   "id": "cd83d02b",
   "metadata": {},
   "outputs": [],
   "source": [
    "mixed_set.remove((9, 10, 11)[1])"
   ]
  },
  {
   "cell_type": "code",
   "execution_count": null,
   "id": "8874e36b",
   "metadata": {},
   "outputs": [],
   "source": [
    "mixed_set.remove((9, 10, 11))"
   ]
  },
  {
   "cell_type": "code",
   "execution_count": null,
   "id": "fcbc378e",
   "metadata": {},
   "outputs": [],
   "source": [
    "mixed_set"
   ]
  },
  {
   "cell_type": "markdown",
   "id": "5d7740e0",
   "metadata": {},
   "source": [
    "### Set theory"
   ]
  },
  {
   "cell_type": "code",
   "execution_count": null,
   "id": "db52687b",
   "metadata": {},
   "outputs": [],
   "source": [
    "### Intersection"
   ]
  },
  {
   "cell_type": "code",
   "execution_count": null,
   "id": "08466e41",
   "metadata": {},
   "outputs": [],
   "source": [
    "s1 = {1,2,3}\n",
    "s2 = {2,3,4}"
   ]
  },
  {
   "cell_type": "code",
   "execution_count": null,
   "id": "aae80a2e",
   "metadata": {},
   "outputs": [],
   "source": [
    "s1 & s2"
   ]
  },
  {
   "cell_type": "code",
   "execution_count": null,
   "id": "9bae6744",
   "metadata": {},
   "outputs": [],
   "source": [
    "s1.intersection(s2)"
   ]
  },
  {
   "cell_type": "code",
   "execution_count": null,
   "id": "5768fcd9",
   "metadata": {},
   "outputs": [],
   "source": [
    "s1 = {1,2,3}\n",
    "s2 = {2,3,4}\n",
    "s3 = {3,4,5}"
   ]
  },
  {
   "cell_type": "code",
   "execution_count": null,
   "id": "e370dff3",
   "metadata": {},
   "outputs": [],
   "source": [
    "s1 & s2 & s3"
   ]
  },
  {
   "cell_type": "code",
   "execution_count": null,
   "id": "d76aa49b",
   "metadata": {},
   "outputs": [],
   "source": [
    "s1.intersection(s2,s3)"
   ]
  },
  {
   "cell_type": "code",
   "execution_count": null,
   "id": "0e74370e",
   "metadata": {},
   "outputs": [],
   "source": [
    "s1 | s2"
   ]
  },
  {
   "cell_type": "code",
   "execution_count": null,
   "id": "ea30b3cd",
   "metadata": {},
   "outputs": [],
   "source": [
    "s1.union(s2)"
   ]
  },
  {
   "cell_type": "markdown",
   "id": "271e5d43",
   "metadata": {},
   "source": [
    "#### Disjointed sets"
   ]
  },
  {
   "cell_type": "code",
   "execution_count": null,
   "id": "17b469b3",
   "metadata": {},
   "outputs": [],
   "source": [
    "s1 = {1,2,3}\n",
    "s2 = {2,3,4}\n",
    "s3 = {10,11,13}"
   ]
  },
  {
   "cell_type": "code",
   "execution_count": null,
   "id": "067f17c1",
   "metadata": {},
   "outputs": [],
   "source": [
    "s1.isdisjoint(s2)"
   ]
  },
  {
   "cell_type": "code",
   "execution_count": null,
   "id": "ac66bb7b",
   "metadata": {},
   "outputs": [],
   "source": [
    "s1.isdisjoint(s3)"
   ]
  },
  {
   "cell_type": "markdown",
   "id": "dc38b6be",
   "metadata": {},
   "source": [
    "#### Difference"
   ]
  },
  {
   "cell_type": "code",
   "execution_count": null,
   "id": "cba9ee0a",
   "metadata": {},
   "outputs": [],
   "source": [
    "s1 = {1,2,3}\n",
    "s2 = {2,3,4}"
   ]
  },
  {
   "cell_type": "code",
   "execution_count": null,
   "id": "65117f5a",
   "metadata": {},
   "outputs": [],
   "source": [
    "s1 - s2"
   ]
  },
  {
   "cell_type": "code",
   "execution_count": null,
   "id": "ff8c20bc",
   "metadata": {},
   "outputs": [],
   "source": [
    "s2 - s1"
   ]
  },
  {
   "cell_type": "code",
   "execution_count": null,
   "id": "18fc8dde",
   "metadata": {},
   "outputs": [],
   "source": [
    "s1.difference(s2)"
   ]
  },
  {
   "cell_type": "code",
   "execution_count": null,
   "id": "b90d889e",
   "metadata": {},
   "outputs": [],
   "source": [
    "s2.difference(s1)"
   ]
  },
  {
   "cell_type": "code",
   "execution_count": null,
   "id": "2435880f",
   "metadata": {},
   "outputs": [],
   "source": [
    "s1"
   ]
  },
  {
   "cell_type": "code",
   "execution_count": 9,
   "id": "69e8e404",
   "metadata": {},
   "outputs": [],
   "source": [
    "s1 = {1,2,3,4,5}\n",
    "s2 = {2,3,4}"
   ]
  },
  {
   "cell_type": "code",
   "execution_count": 10,
   "id": "b81a7a9f",
   "metadata": {},
   "outputs": [],
   "source": [
    "s1.difference_update(s2)"
   ]
  },
  {
   "cell_type": "code",
   "execution_count": null,
   "id": "5d83990e",
   "metadata": {},
   "outputs": [],
   "source": [
    "s1"
   ]
  },
  {
   "cell_type": "markdown",
   "id": "aee25357",
   "metadata": {},
   "source": [
    "#### Subset and superset"
   ]
  },
  {
   "cell_type": "code",
   "execution_count": null,
   "id": "ca6523f2",
   "metadata": {},
   "outputs": [],
   "source": [
    "s1 = {1,2,3,4,5}\n",
    "s2 = {2,3,4}"
   ]
  },
  {
   "cell_type": "code",
   "execution_count": null,
   "id": "af11fa3e",
   "metadata": {},
   "outputs": [],
   "source": [
    "s2.issubset(s1)"
   ]
  },
  {
   "cell_type": "code",
   "execution_count": null,
   "id": "817c09f2",
   "metadata": {},
   "outputs": [],
   "source": [
    "s1.issubset(s2)"
   ]
  },
  {
   "cell_type": "code",
   "execution_count": null,
   "id": "2abe744b",
   "metadata": {},
   "outputs": [],
   "source": [
    "s1.issuperset(s2)"
   ]
  },
  {
   "cell_type": "code",
   "execution_count": null,
   "id": "067f34f4",
   "metadata": {},
   "outputs": [],
   "source": [
    "s1.difference_update()"
   ]
  },
  {
   "cell_type": "code",
   "execution_count": null,
   "id": "d3afd081",
   "metadata": {},
   "outputs": [],
   "source": [
    "#dir(set)"
   ]
  },
  {
   "cell_type": "code",
   "execution_count": null,
   "id": "5acea172",
   "metadata": {},
   "outputs": [],
   "source": []
  }
 ],
 "metadata": {
  "kernelspec": {
   "display_name": "Python 3",
   "language": "python",
   "name": "python3"
  },
  "language_info": {
   "codemirror_mode": {
    "name": "ipython",
    "version": 3
   },
   "file_extension": ".py",
   "mimetype": "text/x-python",
   "name": "python",
   "nbconvert_exporter": "python",
   "pygments_lexer": "ipython3",
   "version": "3.8.13"
  }
 },
 "nbformat": 4,
 "nbformat_minor": 5
}
