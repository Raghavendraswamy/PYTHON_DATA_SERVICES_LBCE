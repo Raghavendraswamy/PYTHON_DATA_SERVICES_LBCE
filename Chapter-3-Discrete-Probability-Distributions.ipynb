{
 "cells": [
  {
   "cell_type": "code",
   "execution_count": null,
   "metadata": {},
   "outputs": [],
   "source": [
    "'''\n",
    "Import here useful libraries\n",
    "Run this cell first for convenience\n",
    "'''\n",
    "import numpy as np\n",
    "from scipy import stats\n",
    "import scipy\n",
    "import warnings\n",
    "warnings.simplefilter('ignore', DeprecationWarning)"
   ]
  },
  {
   "cell_type": "markdown",
   "metadata": {},
   "source": [
    "# Chapter 3 - Discrete Probability Distributions"
   ]
  },
  {
   "cell_type": "markdown",
   "metadata": {},
   "source": [
    "## The Binomial Distribution"
   ]
  },
  {
   "cell_type": "markdown",
   "metadata": {},
   "source": [
    "### Bernoulli Random Variables"
   ]
  },
  {
   "cell_type": "markdown",
   "metadata": {},
   "source": [
    "- Modeling of a process with two possible outcomes, labeled 0 and 1\n",
    "- Random variable defined by the parameter $p$, $0 \\leq p \\leq 1$, which is the probability that the outcome is 1\n",
    "- The Bernoulli distribution $Ber(p)$ is:\n",
    "\\begin{equation}\n",
    "    f(x;p) = p^x(1-p)^{1-x}, \\text{   } x= 0,1\n",
    "\\end{equation}\n",
    "- $E(X) = p$\n",
    "- $Var(X) = p(1-p)$"
   ]
  },
  {
   "cell_type": "code",
   "execution_count": 4,
   "metadata": {},
   "outputs": [
    {
     "name": "stdout",
     "output_type": "stream",
     "text": [
      "Mean:  0.3\n",
      "Variance:  0.21\n"
     ]
    }
   ],
   "source": [
    "from scipy.stats import bernoulli\n",
    "n = number of trials\n",
    "p = 0.3 # probability of success\n",
    "print(\"Mean: \", bernoulli.mean(p))\n",
    "print(\"Variance: \", bernoulli.var(p))"
   ]
  },
  {
   "cell_type": "markdown",
   "metadata": {},
   "source": [
    "### Definition of the Binomial Distribution"
   ]
  },
  {
   "cell_type": "markdown",
   "metadata": {},
   "source": [
    "- Let's consider and experiment consisting of $n$ Bernoulli trials $X_1, \\cdots, X_n$ independent and with a constant probability $p$ of success\n",
    "- Then the total number of successes $X = \\sum_{i=1}^m X_i$ is a random variable whose Binomial distribution with parameters $n$ (number of trials) and $p$ is:\n",
    "\\begin{equation}\n",
    "    X \\sim B(n,p)\n",
    "\\end{equation}"
   ]
  },
  {
   "cell_type": "markdown",
   "metadata": {},
   "source": [
    "- Probability mass function of a $B(n, p)$ random variable is:\n",
    "\\begin{equation}\n",
    "    f(x;n,p) = \\binom{n}{x}p^x(1-p)^{n-x}, \\text{   } x= 0,1, \\cdots, n\n",
    "\\end{equation}\n",
    "- $E(X) = np$\n",
    "- $Var(X) = np(1-p)$"
   ]
  },
  {
   "cell_type": "code",
   "execution_count": 15,
   "metadata": {},
   "outputs": [
    {
     "name": "stdout",
     "output_type": "stream",
     "text": [
      "Mean:  2.0\n",
      "Variance:  1.6\n",
      "Probability mass function:  0.0007864320000000006\n",
      "Cumulative distribution function:  0.9999220736\n"
     ]
    }
   ],
   "source": [
    "from scipy.stats import binom\n",
    "\n",
    "# Parameters\n",
    "n = 10 # number of trials\n",
    "x = 7 # number of successes\n",
    "p = 0.2 # probability of success\n",
    "\n",
    "print(\"Mean: \", binom.mean(n, p))\n",
    "print(\"Variance: \", binom.var(n, p))\n",
    "print(\"Probability mass function: \", binom.pmf(x, n, p))\n",
    "print(\"Cumulative distribution function: \", binom.cdf(x,n,p))"
   ]
  },
  {
   "cell_type": "markdown",
   "metadata": {},
   "source": [
    "### Proportion of successes in Bernoulli Trials"
   ]
  },
  {
   "cell_type": "markdown",
   "metadata": {},
   "source": [
    "- Let $X \\sim B(n,p)$. Then, if $Y = \\frac{X}{n}$\n",
    "- $E(Y) = p$\n",
    "- $Var(Y) = \\frac{p(1-p)}{n}$"
   ]
  },
  {
   "cell_type": "markdown",
   "metadata": {},
   "source": [
    "## The Geometric and Negative Binomial Distributions"
   ]
  },
  {
   "cell_type": "markdown",
   "metadata": {},
   "source": [
    "### Definition of the Geometric Distribution"
   ]
  },
  {
   "cell_type": "markdown",
   "metadata": {},
   "source": [
    "- Number of $X$ of trials up to and including the first success in a sequence of independent Bernoulli trials with a constant success probability $p$ has a geometric distribution with parameter $p$\n",
    "- Probability mass function:\n",
    "\\begin{equation}\n",
    "    P(X = x) = (1 - p)^{x-1}p, \\text{   } x=1,2, \\cdots.\n",
    "\\end{equation}\n",
    "- Cumulative distribution function:\n",
    "\\begin{equation}\n",
    "    P(X \\leq x) = 1 - (1-p)^x\n",
    "\\end{equation}\n",
    "- $E(X) = \\frac{1}{p}$\n",
    "- $Var(X) = \\frac{1-p}{p^2}$"
   ]
  },
  {
   "cell_type": "code",
   "execution_count": 26,
   "metadata": {},
   "outputs": [
    {
     "name": "stdout",
     "output_type": "stream",
     "text": [
      "Mean:  4.3478260869565215\n",
      "Variance:  14.555765595463136\n",
      "Probability mass function:  0.08085199430000001\n",
      "Cumulative distribution function:  0.7293215843\n"
     ]
    }
   ],
   "source": [
    "from scipy.stats import geom\n",
    "x = 5 # number of trials up to and including the first success\n",
    "p = 0.23 # probability of success\n",
    "print(\"Mean: \", geom.mean(p))\n",
    "print(\"Variance: \", geom.var(p))\n",
    "print(\"Probability mass function: \", geom.pmf(x, p))\n",
    "print(\"Cumulative distribution function: \", geom.cdf(x, p))"
   ]
  },
  {
   "cell_type": "markdown",
   "metadata": {},
   "source": [
    "### Definition of the Negative Binomial Distribution"
   ]
  },
  {
   "cell_type": "markdown",
   "metadata": {},
   "source": [
    "- Number $X$ of trials up and including the $r$th success in a sequence of independent Bernoulli trials with a consant success probability $p$ has a negative binomial distribution with parameter $p$\n",
    "- Probability mass function:\n",
    "\\begin{equation}\n",
    "    P(X = x) =  \\binom{x-1}{r-1} (1-p)^{x-r}p^r \\text{,  } x=r,r+1, \\cdots.\n",
    "\\end{equation}\n",
    "- $E(X) = \\frac{r}{p}$\n",
    "- $Var(X) = \\frac{r(1-p)}{p^2}$"
   ]
  },
  {
   "cell_type": "code",
   "execution_count": 29,
   "metadata": {},
   "outputs": [
    {
     "name": "stdout",
     "output_type": "stream",
     "text": [
      "Mean:  3.2727272727272725\n",
      "Variance:  5.950413223140496\n",
      "Probability mass function:  0.1667701406250001\n",
      "Cumulative distribution function:  0.6082877968750002\n"
     ]
    }
   ],
   "source": [
    "from scipy.stats import nbinom\n",
    "x = 7 # number of trials up and including the r-th success\n",
    "r = 4 # number of successes\n",
    "p = 0.55 # probability of success\n",
    "#########################################NOT WORKING!!!!!!!!!!!####################\n",
    "print(\"Mean: \", nbinom.mean(r, p))\n",
    "print(\"Variance: \", nbinom.var(r, p))\n",
    "print(\"Probability mass function: \", nbinom.pmf(x-r, r, p)) # the distribution takes x-r, which is the number of failures\n",
    "print(\"Cumulative distribution function: \", nbinom.cdf(x-r, r, p))"
   ]
  },
  {
   "cell_type": "markdown",
   "metadata": {},
   "source": [
    "## Hypergeometric Distribution"
   ]
  },
  {
   "cell_type": "markdown",
   "metadata": {},
   "source": [
    "### Definition of the Hypergeometric Distribution"
   ]
  },
  {
   "cell_type": "markdown",
   "metadata": {},
   "source": [
    "- Consider a collection of $N$ items of which $r$ are of a certain kind\n",
    "- Probability the item is of the special kind: $p = \\frac{r}{N}$\n",
    "- If $n$ items are chosen at random without replacement, then the distribution of $X \\sim B(n,p)$"
   ]
  },
  {
   "cell_type": "markdown",
   "metadata": {},
   "source": [
    "- Hypergeometric distribution: $n$ items chosen at random without replacement\n",
    "- Probability mass function:\n",
    "\\begin{equation}\n",
    "    f(x; N, n, r) = \\frac{ \\binom{r}{x} \\binom{N-r}{n-x} }{ \\binom{N}{n} },\n",
    "\\end{equation}\n",
    "\\begin{equation}\n",
    "    max \\{ 0, n-(N-r) \\} \\leq x \\leq min \\{ n, r \\}\n",
    "\\end{equation}\n",
    "- $E(X) = n\\frac{r}{N}$\n",
    "- $Var(X) = \\frac{N-n}{N-1} n \\frac{r}{N}(1- \\frac{r}{N})$"
   ]
  },
  {
   "cell_type": "markdown",
   "metadata": {},
   "source": [
    "- Comparison with $B(n,p)$ when $ p = \\frac{r}{N}$\n",
    "    - $E_B(X) = E_H(X) = np$\n",
    "    - $\\sigma_B ^2 (X) = npq \\geq \\sigma_H ^2(X) = \\frac{N-n}{N-1} npq$"
   ]
  },
  {
   "cell_type": "code",
   "execution_count": 46,
   "metadata": {},
   "outputs": [
    {
     "name": "stdout",
     "output_type": "stream",
     "text": [
      "Mean:  3.0\n",
      "Variance:  0.8571428571428571\n",
      "Probability mass function:  0.23976023976023988\n",
      "Cumulative distribution function:  0.2867132867132869\n"
     ]
    }
   ],
   "source": [
    "from scipy.stats import hypergeom\n",
    "\n",
    "x = 2 # number of rare elements picked\n",
    "N = 15 # total number of elements\n",
    "r = 9 # number of rare elements\n",
    "n = 5 # picked up elements\n",
    "\n",
    "print(\"Mean: \", hypergeom.mean(N, r, n))\n",
    "print(\"Variance: \", hypergeom.var(N, r, n))\n",
    "print(\"Probability mass function: \", hypergeom.pmf(x, N, r, n))\n",
    "print(\"Cumulative distribution function: \", hypergeom.cdf(x, N, r, n))"
   ]
  },
  {
   "cell_type": "markdown",
   "metadata": {},
   "source": [
    "## The Poisson Distribution"
   ]
  },
  {
   "cell_type": "markdown",
   "metadata": {},
   "source": [
    "### Definition of the Poisson Distribution"
   ]
  },
  {
   "cell_type": "markdown",
   "metadata": {},
   "source": [
    "- Describes the number of \"events\" occurring within certain specified boundaries of space and time\n",
    "- A random variable $X$ distributed as a Poisson random variable with parameter $\\lambda$ is written as:\n",
    "\\begin{equation}\n",
    "    X \\sim P(\\lambda)\n",
    "\\end{equation}\n",
    "- Probability mass function:\n",
    "\\begin{equation}\n",
    "    P(X = x) = \\frac{ e^{- \\lambda} \\lambda ^ {x}} {x!} \\text{   } x=0,1,2, \\cdots.\n",
    "\\end{equation}\n",
    "- $Eprint(\"Mean: \", multinomial.mean(x, p))(X) = Var(X) = \\lambda$"
   ]
  },
  {
   "cell_type": "code",
   "execution_count": 51,
   "metadata": {},
   "outputs": [
    {
     "name": "stdout",
     "output_type": "stream",
     "text": [
      "Mean:  0.6666666666666666\n",
      "Variance:  0.6666666666666666\n",
      "Probability mass function:  0.3422780793550613\n",
      "Cumulative distribution function:  0.8556951983876534\n"
     ]
    }
   ],
   "source": [
    "from scipy.stats import poisson\n",
    "\n",
    "# Parameters\n",
    "x = 1 # number of events\n",
    "Lambda = 2/3 # lambda parameter\n",
    "\n",
    "print(\"Mean: \", poisson.mean(Lambda))\n",
    "print(\"Variance: \", poisson.var(Lambda))\n",
    "print(\"Probability mass function: \", poisson.pmf(x, Lambda))\n",
    "print(\"Cumulative distribution function: \", poisson.cdf(x, Lambda))"
   ]
  },
  {
   "cell_type": "markdown",
   "metadata": {},
   "source": [
    "## The Multinomial Distribution"
   ]
  },
  {
   "cell_type": "markdown",
   "metadata": {},
   "source": [
    "### Definition of the Multinomial Distribution"
   ]
  },
  {
   "cell_type": "markdown",
   "metadata": {},
   "source": [
    "- Consider a sequence of $n$ independent trials in which each individual trial can have $k$ outcomes occurring with a constant probability value $p_1, p_2, \\cdots , p_k$ with $p_1 + p_2 + \\cdots + p_k = 1$\n",
    "- The random variables $X_1, X_2, \\cdots , X_k$ with $\\sum_{i=1}^k X_i = n$ that count the number of occurrences of the $k$ respective outcomes are said to have a multinomial distribution"
   ]
  },
  {
   "cell_type": "markdown",
   "metadata": {},
   "source": [
    "- Joint probability mass function of $X_1, X_2, \\cdots , X_k$ :\n",
    "\\begin{equation}\n",
    "    f(x_1, x_2, \\cdots, x_k; p_1, \\cdots , p_k , n) = \\binom{n}{x_1,x_2,\\cdots, x_k} p_1^{x_1} p_2^{x_2} \\cdots p_k^{x_k}\n",
    "\\end{equation}\n",
    "with $\\sum_{i=1} ^ k x_i = n$ and $\\sum_{i=1}^k p_i = 1$\n",
    "- Also written as:\n",
    "\\begin{equation}\n",
    "    (X_1, \\cdots , X_k) \\sim M_k(p_1, \\cdots, p_k, n)\n",
    "\\end{equation}"
   ]
  },
  {
   "cell_type": "markdown",
   "metadata": {},
   "source": [
    "- $E(X_i) = np_i$\n",
    "- $Var(X_i) = np_i(1-p_i)$"
   ]
  },
  {
   "cell_type": "code",
   "execution_count": 90,
   "metadata": {},
   "outputs": [
    {
     "name": "stdout",
     "output_type": "stream",
     "text": [
      "Probability mass function:  0.006518417007220723\n"
     ]
    }
   ],
   "source": [
    "from scipy.stats import multinomial\n",
    "\n",
    "# Parameters\n",
    "x = [3, 3, 4, 5] # number of successes (! Need to insert the remaining variable)\n",
    "n = 15 # number of trials\n",
    "p = [1/6, 1/6, 1/6 , 3/6] # probabilities corresponding to the successes (! Need to insert the remaining probability)\n",
    "\n",
    "print(\"Probability mass function: \", multinomial.pmf(x, n=n, p=p))"
   ]
  },
  {
   "cell_type": "code",
   "execution_count": null,
   "metadata": {},
   "outputs": [],
   "source": []
  }
 ],
 "metadata": {
  "kernelspec": {
   "display_name": "Python 3",
   "language": "python",
   "name": "python3"
  },
  "language_info": {
   "codemirror_mode": {
    "name": "ipython",
    "version": 3
   },
   "file_extension": ".py",
   "mimetype": "text/x-python",
   "name": "python",
   "nbconvert_exporter": "python",
   "pygments_lexer": "ipython3",
   "version": "3.8.5"
  }
 },
 "nbformat": 4,
 "nbformat_minor": 4
}
