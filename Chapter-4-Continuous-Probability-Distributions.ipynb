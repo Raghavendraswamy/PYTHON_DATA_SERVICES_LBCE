{
 "cells": [
  {
   "cell_type": "code",
   "execution_count": 1,
   "metadata": {},
   "outputs": [],
   "source": [
    "'''\n",
    "Import here useful libraries\n",
    "Run this cell first for convenience\n",
    "'''\n",
    "import numpy as np\n",
    "from scipy import stats\n",
    "import scipy\n",
    "import warnings\n",
    "warnings.simplefilter('ignore', DeprecationWarning)"
   ]
  },
  {
   "cell_type": "markdown",
   "metadata": {},
   "source": [
    "# Chapter 4 - Comtimuous Probability Distributions"
   ]
  },
  {
   "cell_type": "markdown",
   "metadata": {},
   "source": [
    "## The Uniform Distribution"
   ]
  },
  {
   "cell_type": "markdown",
   "metadata": {},
   "source": [
    "### Definition of the Uniform Distribution"
   ]
  },
  {
   "cell_type": "markdown",
   "metadata": {},
   "source": [
    "- Uniform distribution, $U(a,b)$:\n",
    "\\begin{equation}\n",
    "    f(x; a,b) = \\frac{1}{b-a} \\text{ , } a \\leq x \\leq b\n",
    "\\end{equation}\n",
    "- $E(x) = \\frac{a+b}{2}$\n",
    "- $Var(x) = \\frac{(b-a)^2}{12}$"
   ]
  },
  {
   "cell_type": "code",
   "execution_count": 13,
   "metadata": {},
   "outputs": [
    {
     "name": "stdout",
     "output_type": "stream",
     "text": [
      "Mean:  3.0\n",
      "Variance:  1.3333333333333333\n",
      "Probability distribution function:  0.25\n"
     ]
    }
   ],
   "source": [
    "from scipy.stats import uniform\n",
    "\n",
    "# Parameters\n",
    "a = 1 # lower bound\n",
    "b = 5 # upper bound\n",
    "\n",
    "print(\"Mean: \", (a+b)/2 )\n",
    "print(\"Variance: \", (b-a)**2/12 )\n",
    "print(\"Probability distribution function: \", 1/(b-a))"
   ]
  },
  {
   "cell_type": "markdown",
   "metadata": {},
   "source": [
    "## The Exponential Distribution"
   ]
  },
  {
   "cell_type": "markdown",
   "metadata": {},
   "source": [
    "### Definition of the Exponential Distribution"
   ]
  },
  {
   "cell_type": "markdown",
   "metadata": {},
   "source": [
    "- Exponential distribution ($Exp( \\lambda )$) with $\\lambda$ which can be interpreted as the occurrence rate\n",
    "- Meaning of the exponential distribution: often describes the amount of time before a certain event occurs \n",
    "- Probability distribution function:\n",
    "\\begin{equation}\n",
    "    f(x; \\lambda) = \\lambda e ^ {- \\lambda x} \\text{ , } x > 0\n",
    "\\end{equation}\n",
    "- Cumulative distribution function:\n",
    "\\begin{equation}\n",
    "    F(x) = 1 - e^{\\lambda x}\n",
    "\\end{equation}\n",
    "- $E(X) = \\frac{1}{\\lambda}$\n",
    "- $Var(X) = \\frac{1}{\\lambda^2}$"
   ]
  },
  {
   "cell_type": "code",
   "execution_count": 22,
   "metadata": {},
   "outputs": [
    {
     "name": "stdout",
     "output_type": "stream",
     "text": [
      "Mean:  0.5\n",
      "Variance:  0.25\n",
      "Probability mass function:  0.2706705664732254\n",
      "Cumulative distribution function:  0.8646647167633873\n",
      "Survival function (1-cdf):  0.1353352832366127\n"
     ]
    }
   ],
   "source": [
    "from scipy.stats import expon\n",
    "\n",
    "# Parameters\n",
    "Lambda = 0.5 # lambda, occurrence rate\n",
    "x = 1 # occurrence number\n",
    "\n",
    "print(\"Mean: \", expon.mean(scale = Lambda))\n",
    "print(\"Variance: \", expon.var(scale = Lambda))\n",
    "print(\"Probability mass function: \", expon.pdf(x, scale = Lambda))\n",
    "print(\"Cumulative distribution function: \", expon.cdf(x, scale = Lambda))\n",
    "print(\"Survival function (1-cdf): \", expon.sf(x, scale = Lambda))"
   ]
  },
  {
   "cell_type": "markdown",
   "metadata": {},
   "source": [
    "### The memoryless property of the Exponential Distribution"
   ]
  },
  {
   "cell_type": "markdown",
   "metadata": {},
   "source": [
    "- For any non-negative $x$ and $y$\n",
    "\\begin{equation}\n",
    "    P(X \\geq x + y \\mid X \\geq x) = P( X \\geq y)\n",
    "\\end{equation}\n",
    "- This is equivalent to:\n",
    "\\begin{equation}\n",
    "    P(X \\geq x + y, X \\geq x) = P( X \\geq x) P( X \\geq y)\n",
    "\\end{equation}\n",
    "- Meaning: the future does not depend on the past"
   ]
  },
  {
   "cell_type": "markdown",
   "metadata": {},
   "source": [
    "- Proposition: if $ X_1, \\cdots, X_n $ are independent exponential random variables having respective parameters $\\lambda_1 , \\cdots, \\lambda_n$, then $min \\{ X_1, \\cdots , X_n \\} $ is the exponential random variable with paramenter $\\sum_{i = 1}^n \\lambda_i$"
   ]
  },
  {
   "cell_type": "markdown",
   "metadata": {},
   "source": [
    "### The Poisson process"
   ]
  },
  {
   "cell_type": "markdown",
   "metadata": {},
   "source": [
    "- A stochastic process is a sequence of random events\n",
    "- Poisson process with parameter $\\lambda$: a stochastic process where the time (or space) intervals between events-occurrences follow the Exponential Distribution with parameter $\\lambda$\n",
    "- If $X$ is the number of events occurring within a fixed time (or space) interval of length $t$, then\n",
    "\\begin{equation}\n",
    "    X \\sim Poi(\\lambda t)\n",
    "\\end{equation}\n"
   ]
  },
  {
   "cell_type": "markdown",
   "metadata": {},
   "source": [
    "## The Gamma Distribution"
   ]
  },
  {
   "cell_type": "markdown",
   "metadata": {},
   "source": [
    "### Definition of the Gamma distribution"
   ]
  },
  {
   "cell_type": "markdown",
   "metadata": {},
   "source": [
    "- Useful for describing reliability\n",
    "- Gamma function:\n",
    "\\begin{equation}\n",
    "    \\Gamma(k) = \\int_0^{\\infty} x^{k-1}e^{-x}dx \\text{ for } k>0\n",
    "\\end{equation}"
   ]
  },
  {
   "cell_type": "code",
   "execution_count": 13,
   "metadata": {},
   "outputs": [
    {
     "name": "stdout",
     "output_type": "stream",
     "text": [
      "Gamma function result:  6.0\n"
     ]
    }
   ],
   "source": [
    "from scipy.special import gamma as gamma_function\n",
    "k = 4 # parameter of the gamma function\n",
    "print(\"Gamma function result: \", gamma_function(k))"
   ]
  },
  {
   "cell_type": "markdown",
   "metadata": {},
   "source": [
    "- Gamma distribution $Gam(k, \\lambda)$ with $k>0$ and $\\lambda >0$\n",
    "\\begin{equation}\n",
    "    f(x; k, \\lambda) = \\frac{\\lambda ^k}{\\Gamma (k)} x ^ {k-1} e ^ {- \\lambda x} \\text{ , } x > 0\n",
    "\\end{equation}\n",
    "- $ E(X) = \\frac{k}{ \\lambda }$\n",
    "- $ Var(X) = \\frac{k}{ \\lambda ^2}$"
   ]
  },
  {
   "cell_type": "code",
   "execution_count": 20,
   "metadata": {},
   "outputs": [
    {
     "name": "stdout",
     "output_type": "stream",
     "text": [
      "Mean:  1.6666666666666667\n",
      "Variance:  0.925925925925926\n",
      "Probability mass function:  0.11853315025792688\n",
      "Cumulative distribution function:  0.9052421318239862\n",
      "Survival function (1-cdf):  0.0947578681760138\n"
     ]
    }
   ],
   "source": [
    "from scipy.stats import gamma\n",
    "\n",
    "# Parameters\n",
    "x = 3 # number of events\n",
    "k = 3 # parameter of the gamma function\n",
    "Lambda = 1.8 # lambda parameter\n",
    "\n",
    "print(\"Mean: \", gamma.mean(k,  scale = 1/Lambda))\n",
    "print(\"Variance: \", gamma.var(k, scale = 1/Lambda))\n",
    "print(\"Probability mass function: \", gamma.pdf(x, k,  scale = 1/Lambda))\n",
    "print(\"Cumulative distribution function: \", gamma.cdf(x, k, scale = 1/Lambda))\n",
    "print(\"Survival function (1-cdf): \", gamma.sf(x, k, scale = 1/Lambda))"
   ]
  },
  {
   "cell_type": "markdown",
   "metadata": {},
   "source": [
    "### Properties of the Gamma function"
   ]
  },
  {
   "cell_type": "markdown",
   "metadata": {},
   "source": [
    "- $\\Gamma (\\alpha + 1) = \\alpha \\Gamma(\\alpha)$\n",
    "- $\\Gamma (1) = 1$\n",
    "- $\\Gamma (1/2) = \\sqrt{\\pi}$\n",
    "- $\\Gamma (n) = (n-1) !$"
   ]
  },
  {
   "cell_type": "markdown",
   "metadata": {},
   "source": [
    "### Properties of the Gamma distribution "
   ]
  },
  {
   "cell_type": "markdown",
   "metadata": {},
   "source": [
    "- If $X_1, \\cdots, X_n$ are independent Gamma random variables with respective parameters $(k_i, \\lambda)$, then\n",
    "\\begin{equation}\n",
    "    \\sum_{i=1}^n X_i \\sim Gam(\\sum_{i=1}^n k_i , \\lambda)\n",
    "\\end{equation}"
   ]
  },
  {
   "cell_type": "markdown",
   "metadata": {},
   "source": [
    "## Weibull Distribution\n"
   ]
  },
  {
   "cell_type": "markdown",
   "metadata": {},
   "source": [
    "### Definition of the Weibull Distribution"
   ]
  },
  {
   "cell_type": "markdown",
   "metadata": {},
   "source": [
    "- Useful for modeling failure and waiting times\n",
    "- If $X \\sim Exp(1)$ and $Y = \\frac{1}{\\lambda} x ^ { \\frac{1}{a}}$ for $ a>0$, $\\lambda > 0$ ,then \n",
    "\\begin{equation}\n",
    "    Y \\sim Weibull(\\lambda, a)\n",
    "\\end{equation}\n"
   ]
  },
  {
   "cell_type": "markdown",
   "metadata": {},
   "source": [
    "- Probability distribution function of $Weibull(\\lambda, a)$\n",
    "\\begin{equation}\n",
    "    f(y) = a \\lambda (\\lambda y )^{a-1} e^{- (\\lambda y) ^a} \\text{ for } a>0 \\text{ , } \\lambda > 0\n",
    "\\end{equation}\n",
    "- If $a = 1$, the Weibull distribution is the same as the Exponential distribution with parameter $\\lambda$\n",
    "- Cumulative distribution function:\n",
    "\\begin{equation}\n",
    "    F(y) = 1 - e^{- (\\lambda y) ^a}\n",
    "\\end{equation}\n",
    "- $E(Y) = \\frac{1}{\\lambda} \\Gamma(1 + \\frac{1}{a})$\n",
    "- $Var(Y) = \\frac{1}{\\lambda ^2} \\Big\\{  \\Gamma(1 + \\frac{2}{a}) - \\big[ \\Gamma(1 + \\frac{1}{a}) \\big]^2 \\Big\\} $"
   ]
  },
  {
   "cell_type": "code",
   "execution_count": 58,
   "metadata": {},
   "outputs": [
    {
     "name": "stdout",
     "output_type": "stream",
     "text": [
      "Mean:  0.8859147043345206\n",
      "Variance:  0.16685661876285807\n",
      "Probability mass function:  0.938104480199261\n",
      "Cumulative distribution function:  0.3748400774587345\n",
      "Survival function (1-cdf):  0.6251599225412656\n"
     ]
    }
   ],
   "source": [
    "from scipy.stats import weibull_min\n",
    "\n",
    "# Parameters\n",
    "x = 8 # number of events\n",
    "a = 2.3 # a parameter\n",
    "Lambda = 0.09 # lambda parameter\n",
    "\n",
    "print(\"Mean: \", weibull_min.mean(a)) # not sure about this\n",
    "print(\"Variance: \", weibull_min.var(a)) # not sure about this\n",
    "print(\"Probability mass function: \", weibull_min.pdf(x*Lambda, a))\n",
    "print(\"Cumulative distribution function: \", weibull_min.cdf(x*Lambda, a ))\n",
    "print(\"Survival function (1-cdf): \", weibull_min.sf(x*Lambda, a))"
   ]
  },
  {
   "cell_type": "markdown",
   "metadata": {},
   "source": [
    "## The Beta Distribution"
   ]
  },
  {
   "cell_type": "markdown",
   "metadata": {},
   "source": [
    "### Definition of the Beta Distribution"
   ]
  },
  {
   "cell_type": "markdown",
   "metadata": {},
   "source": [
    "- Useful for modeling proportions and personal probability\n",
    "- Probability distribution function:\n",
    "\\begin{equation}\n",
    "    f(x; \\alpha, \\beta) = \\frac{\\Gamma( \\alpha + \\beta)}{ \\Gamma(\\alpha) \\Gamma(\\beta)} x^{\\alpha - 1} (1 - x) ^{\\beta - 1} \\text{ , } 0 < x < 1\n",
    "\\end{equation}\n",
    "- $E(X) = \\frac{ \\alpha}{ \\alpha + \\beta}$\n",
    "- $Var(X) = \\frac{ \\alpha \\beta}{ (\\alpha + \\beta) ^2 ( \\alpha + \\beta + 1)}$\n"
   ]
  },
  {
   "cell_type": "code",
   "execution_count": 75,
   "metadata": {},
   "outputs": [
    {
     "name": "stdout",
     "output_type": "stream",
     "text": [
      "Mean:  0.7142857142857143\n",
      "Variance:  0.013605442176870748\n",
      "Probability mass function:  3.116105532539999\n",
      "Cumulative distribution function:  0.42060564576099996\n",
      "Survival function (1-cdf):  0.5793943542390001\n"
     ]
    }
   ],
   "source": [
    "from scipy.stats import beta\n",
    "\n",
    "# Parameters\n",
    "x = 0.7 # (number of events?)\n",
    "a = 10 # alpha parameter\n",
    "b = 4 # beta parameter\n",
    "\n",
    "print(\"Mean: \", beta.mean(a, b)) # not sure about this\n",
    "print(\"Variance: \", beta.var(a, b)) # not sure about this\n",
    "print(\"Probability mass function: \", beta.pdf(x, a, b))\n",
    "print(\"Cumulative distribution function: \", beta.cdf(x, a, b ))\n",
    "print(\"Survival function (1-cdf): \", beta.sf(x, a, b))"
   ]
  }
 ],
 "metadata": {
  "kernelspec": {
   "display_name": "Python 3",
   "language": "python",
   "name": "python3"
  },
  "language_info": {
   "codemirror_mode": {
    "name": "ipython",
    "version": 3
   },
   "file_extension": ".py",
   "mimetype": "text/x-python",
   "name": "python",
   "nbconvert_exporter": "python",
   "pygments_lexer": "ipython3",
   "version": "3.8.5"
  }
 },
 "nbformat": 4,
 "nbformat_minor": 4
}
