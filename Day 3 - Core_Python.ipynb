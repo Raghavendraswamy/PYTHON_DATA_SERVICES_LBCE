{
 "cells": [
  {
   "cell_type": "markdown",
   "id": "fed97856",
   "metadata": {},
   "source": [
    "### Conditional Statements"
   ]
  },
  {
   "cell_type": "code",
   "execution_count": 3,
   "id": "44b696ce",
   "metadata": {},
   "outputs": [],
   "source": [
    "num = -10"
   ]
  },
  {
   "cell_type": "code",
   "execution_count": 4,
   "id": "2d401f50",
   "metadata": {},
   "outputs": [
    {
     "name": "stdout",
     "output_type": "stream",
     "text": [
      "Negative\n"
     ]
    }
   ],
   "source": [
    "if num > 0 :\n",
    "    print('Positive')\n",
    "else:\n",
    "    print('Negative')"
   ]
  },
  {
   "cell_type": "code",
   "execution_count": 9,
   "id": "02022739",
   "metadata": {},
   "outputs": [],
   "source": [
    "age = 20"
   ]
  },
  {
   "cell_type": "code",
   "execution_count": 10,
   "id": "49b233a9",
   "metadata": {},
   "outputs": [
    {
     "name": "stdout",
     "output_type": "stream",
     "text": [
      "Congrats!!\n",
      "You are Eligible\n"
     ]
    }
   ],
   "source": [
    "if age > 18:\n",
    "    print('Congrats!!')\n",
    "    print('You are Eligible')\n",
    "else:\n",
    "    print('Underage...')\n",
    "    print('Try later.')"
   ]
  },
  {
   "cell_type": "code",
   "execution_count": 19,
   "id": "b16c870a",
   "metadata": {},
   "outputs": [],
   "source": [
    "marks = 90"
   ]
  },
  {
   "cell_type": "code",
   "execution_count": 20,
   "id": "4cc896b4",
   "metadata": {},
   "outputs": [
    {
     "name": "stdout",
     "output_type": "stream",
     "text": [
      "Distinction\n"
     ]
    }
   ],
   "source": [
    "if marks >= 80:\n",
    "    print('Distinction')\n",
    "elif marks >= 60:\n",
    "    print('First Class')\n",
    "elif marks >= 50:\n",
    "    print('Second Class')\n",
    "else:\n",
    "    print('Fail')"
   ]
  },
  {
   "cell_type": "markdown",
   "id": "bed31436",
   "metadata": {},
   "source": [
    "### Loops - Execute repeatedly"
   ]
  },
  {
   "cell_type": "code",
   "execution_count": 23,
   "id": "2a1313c9",
   "metadata": {},
   "outputs": [
    {
     "name": "stdout",
     "output_type": "stream",
     "text": [
      "1\n",
      "2\n",
      "3\n",
      "4\n",
      "5\n"
     ]
    }
   ],
   "source": [
    "for x in range(1,6):\n",
    "    print(x)"
   ]
  },
  {
   "cell_type": "code",
   "execution_count": 24,
   "id": "d059bf56",
   "metadata": {},
   "outputs": [
    {
     "name": "stdout",
     "output_type": "stream",
     "text": [
      "*\n",
      "**\n",
      "***\n",
      "****\n",
      "*****\n"
     ]
    }
   ],
   "source": [
    "for x in range(1,6):\n",
    "    print(x*'*')"
   ]
  },
  {
   "cell_type": "code",
   "execution_count": 28,
   "id": "6f84e76c",
   "metadata": {},
   "outputs": [
    {
     "name": "stdout",
     "output_type": "stream",
     "text": [
      "0\n",
      "20\n",
      "40\n",
      "60\n",
      "80\n",
      "100\n"
     ]
    }
   ],
   "source": [
    "for x in range(0,101,20):\n",
    "    print(x)"
   ]
  },
  {
   "cell_type": "code",
   "execution_count": 29,
   "id": "a8ebe218",
   "metadata": {},
   "outputs": [
    {
     "name": "stdout",
     "output_type": "stream",
     "text": [
      "100\n",
      "80\n",
      "60\n",
      "40\n",
      "20\n"
     ]
    }
   ],
   "source": [
    "for x in range(100,0,-20):\n",
    "    print(x)"
   ]
  },
  {
   "cell_type": "code",
   "execution_count": 31,
   "id": "ba4da4ab",
   "metadata": {},
   "outputs": [
    {
     "name": "stdout",
     "output_type": "stream",
     "text": [
      "*****\n",
      "****\n",
      "***\n",
      "**\n",
      "*\n"
     ]
    }
   ],
   "source": [
    "for x in range(5,0,-1):\n",
    "    print(x*'*')"
   ]
  },
  {
   "cell_type": "code",
   "execution_count": 32,
   "id": "6ef4992f",
   "metadata": {},
   "outputs": [],
   "source": [
    "lst = [11,22,33,44,55]"
   ]
  },
  {
   "cell_type": "code",
   "execution_count": 33,
   "id": "ddecb433",
   "metadata": {},
   "outputs": [
    {
     "name": "stdout",
     "output_type": "stream",
     "text": [
      "11\n",
      "22\n",
      "33\n",
      "44\n",
      "55\n"
     ]
    }
   ],
   "source": [
    "for x in lst:\n",
    "    print(x)"
   ]
  },
  {
   "cell_type": "markdown",
   "id": "ef7cf2e5",
   "metadata": {},
   "source": [
    "#### While Loop"
   ]
  },
  {
   "cell_type": "code",
   "execution_count": 38,
   "id": "771a5eda",
   "metadata": {},
   "outputs": [
    {
     "name": "stdout",
     "output_type": "stream",
     "text": [
      "Hello\n",
      "Hello\n",
      "Hello\n",
      "Hello\n",
      "Hello\n",
      "Completed\n"
     ]
    }
   ],
   "source": [
    "x = 0\n",
    "while x < 5:\n",
    "    print('Hello')\n",
    "    x = x + 1\n",
    "    \n",
    "print('Completed')"
   ]
  },
  {
   "cell_type": "markdown",
   "id": "c8a6227e",
   "metadata": {},
   "source": [
    "### Functions in python"
   ]
  },
  {
   "cell_type": "code",
   "execution_count": 59,
   "id": "4fdd9f94",
   "metadata": {},
   "outputs": [],
   "source": [
    "def square(x):\n",
    "    '''\n",
    "    Parameter: Pass a numeric value\n",
    "    returns: The square of the parameter\n",
    "    '''\n",
    "    return x**2"
   ]
  },
  {
   "cell_type": "code",
   "execution_count": 43,
   "id": "5d49a2b8",
   "metadata": {},
   "outputs": [
    {
     "data": {
      "text/plain": [
       "100"
      ]
     },
     "execution_count": 43,
     "metadata": {},
     "output_type": "execute_result"
    }
   ],
   "source": [
    "square(10)"
   ]
  },
  {
   "cell_type": "code",
   "execution_count": 44,
   "id": "a0fab75e",
   "metadata": {},
   "outputs": [],
   "source": [
    "def grades(marks):\n",
    "    if marks >= 80:\n",
    "        res = 'Distinction'\n",
    "    elif marks >= 60:\n",
    "        res = 'First Class'\n",
    "    elif marks >= 50:\n",
    "        res = 'Second Class'\n",
    "    else:\n",
    "        res = 'Fail'\n",
    "    return res"
   ]
  },
  {
   "cell_type": "code",
   "execution_count": 47,
   "id": "dc627d56",
   "metadata": {},
   "outputs": [
    {
     "data": {
      "text/plain": [
       "'Second Class'"
      ]
     },
     "execution_count": 47,
     "metadata": {},
     "output_type": "execute_result"
    }
   ],
   "source": [
    "grades(58)"
   ]
  },
  {
   "cell_type": "code",
   "execution_count": 62,
   "id": "f481290e",
   "metadata": {},
   "outputs": [],
   "source": [
    "def ticket_price(cls,coupon):\n",
    "    '''\n",
    "    parameters:\n",
    "    cls - the class in upper or lower case\n",
    "    coupon - 'y' or 'n' in upper or lower case\n",
    "    '''\n",
    "    discount = 0\n",
    "    if cls.lower() == 'a':\n",
    "            price = 50\n",
    "    elif cls.lower() == 'b':\n",
    "        price = 40\n",
    "    else :\n",
    "        price = 25\n",
    "        \n",
    "    if coupon.lower() == 'y':\n",
    "        discount = price * 0.10\n",
    "        \n",
    "    total_price = price - discount\n",
    "    \n",
    "    return '$' + str(total_price)\n",
    "    \n"
   ]
  },
  {
   "cell_type": "code",
   "execution_count": 63,
   "id": "85d97914",
   "metadata": {},
   "outputs": [
    {
     "data": {
      "text/plain": [
       "'$45.0'"
      ]
     },
     "execution_count": 63,
     "metadata": {},
     "output_type": "execute_result"
    }
   ],
   "source": [
    "ticket_price('a','y')"
   ]
  },
  {
   "cell_type": "code",
   "execution_count": null,
   "id": "dc0e98b2",
   "metadata": {},
   "outputs": [],
   "source": [
    "square()"
   ]
  },
  {
   "cell_type": "markdown",
   "id": "97b86d69",
   "metadata": {},
   "source": [
    "### Lambda Functions\n",
    "Anonymous or nameless functions"
   ]
  },
  {
   "cell_type": "code",
   "execution_count": 3,
   "id": "c12e5bc4",
   "metadata": {},
   "outputs": [],
   "source": [
    "fn = lambda x : x**2"
   ]
  },
  {
   "cell_type": "code",
   "execution_count": 2,
   "id": "63e85d74",
   "metadata": {},
   "outputs": [
    {
     "data": {
      "text/plain": [
       "81"
      ]
     },
     "execution_count": 2,
     "metadata": {},
     "output_type": "execute_result"
    }
   ],
   "source": [
    "fn(9)"
   ]
  },
  {
   "cell_type": "code",
   "execution_count": 5,
   "id": "a037b681",
   "metadata": {},
   "outputs": [],
   "source": [
    "fn1 = lambda x,y: x + y"
   ]
  },
  {
   "cell_type": "code",
   "execution_count": 6,
   "id": "4dcb5fd2",
   "metadata": {},
   "outputs": [
    {
     "data": {
      "text/plain": [
       "19"
      ]
     },
     "execution_count": 6,
     "metadata": {},
     "output_type": "execute_result"
    }
   ],
   "source": [
    "fn1(9,10)"
   ]
  },
  {
   "cell_type": "code",
   "execution_count": 7,
   "id": "3a76a61c",
   "metadata": {},
   "outputs": [],
   "source": [
    "def addition(x,y):\n",
    "    return x + y"
   ]
  },
  {
   "cell_type": "code",
   "execution_count": 8,
   "id": "084ede65",
   "metadata": {},
   "outputs": [
    {
     "data": {
      "text/plain": [
       "17"
      ]
     },
     "execution_count": 8,
     "metadata": {},
     "output_type": "execute_result"
    }
   ],
   "source": [
    "addition(8,9)"
   ]
  },
  {
   "cell_type": "code",
   "execution_count": null,
   "id": "bb540e69",
   "metadata": {},
   "outputs": [],
   "source": []
  }
 ],
 "metadata": {
  "kernelspec": {
   "display_name": "Python 3",
   "language": "python",
   "name": "python3"
  },
  "language_info": {
   "codemirror_mode": {
    "name": "ipython",
    "version": 3
   },
   "file_extension": ".py",
   "mimetype": "text/x-python",
   "name": "python",
   "nbconvert_exporter": "python",
   "pygments_lexer": "ipython3",
   "version": "3.8.13"
  }
 },
 "nbformat": 4,
 "nbformat_minor": 5
}
