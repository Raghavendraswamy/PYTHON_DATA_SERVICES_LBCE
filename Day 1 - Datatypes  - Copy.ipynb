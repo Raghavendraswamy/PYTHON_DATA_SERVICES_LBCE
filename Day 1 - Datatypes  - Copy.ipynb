{
 "cells": [
  {
   "cell_type": "markdown",
   "id": "dd3a7066",
   "metadata": {},
   "source": [
    "# Jupyter Shortcuts\n",
    "\n",
    "+ esc + b - Add a new cell below the current cell\n",
    "+ esc + a - Add a new cell above the current cell\n",
    "+ esc + m - Convert a cell to Markdown\n",
    "+ esc + y - Convert a cell to code cell\n",
    "+ esc + x - Delete the current cell"
   ]
  },
  {
   "cell_type": "markdown",
   "id": "0235e281",
   "metadata": {},
   "source": [
    "## Datatype"
   ]
  },
  {
   "cell_type": "code",
   "execution_count": 16,
   "id": "f25ba604",
   "metadata": {},
   "outputs": [],
   "source": [
    "# Integer\n",
    "x = 10"
   ]
  },
  {
   "cell_type": "code",
   "execution_count": 11,
   "id": "c7755fa1",
   "metadata": {},
   "outputs": [
    {
     "name": "stdout",
     "output_type": "stream",
     "text": [
      "10\n"
     ]
    }
   ],
   "source": [
    "print(x)"
   ]
  },
  {
   "cell_type": "code",
   "execution_count": 6,
   "id": "01233f1d",
   "metadata": {},
   "outputs": [
    {
     "data": {
      "text/plain": [
       "int"
      ]
     },
     "execution_count": 6,
     "metadata": {},
     "output_type": "execute_result"
    }
   ],
   "source": [
    "type(x)"
   ]
  },
  {
   "cell_type": "code",
   "execution_count": 7,
   "id": "448de0ba",
   "metadata": {},
   "outputs": [],
   "source": [
    "# Float\n",
    "y = 9.08"
   ]
  },
  {
   "cell_type": "code",
   "execution_count": 12,
   "id": "c2d7e0d4",
   "metadata": {},
   "outputs": [
    {
     "data": {
      "text/plain": [
       "9.08"
      ]
     },
     "execution_count": 12,
     "metadata": {},
     "output_type": "execute_result"
    }
   ],
   "source": [
    "y"
   ]
  },
  {
   "cell_type": "code",
   "execution_count": 8,
   "id": "77263fd8",
   "metadata": {},
   "outputs": [
    {
     "data": {
      "text/plain": [
       "float"
      ]
     },
     "execution_count": 8,
     "metadata": {},
     "output_type": "execute_result"
    }
   ],
   "source": [
    "type(y)"
   ]
  },
  {
   "cell_type": "code",
   "execution_count": 14,
   "id": "a4273c2a",
   "metadata": {},
   "outputs": [],
   "source": [
    "# Boolean\n",
    "z = True"
   ]
  },
  {
   "cell_type": "code",
   "execution_count": 15,
   "id": "a76b77e9",
   "metadata": {},
   "outputs": [
    {
     "name": "stdout",
     "output_type": "stream",
     "text": [
      "True\n"
     ]
    }
   ],
   "source": [
    "print(z)"
   ]
  },
  {
   "cell_type": "code",
   "execution_count": 10,
   "id": "fb194ab5",
   "metadata": {},
   "outputs": [
    {
     "data": {
      "text/plain": [
       "bool"
      ]
     },
     "execution_count": 10,
     "metadata": {},
     "output_type": "execute_result"
    }
   ],
   "source": [
    "type(z)"
   ]
  },
  {
   "cell_type": "markdown",
   "id": "40210b3d",
   "metadata": {},
   "source": [
    "### Arithmetic Operation"
   ]
  },
  {
   "cell_type": "code",
   "execution_count": 1,
   "id": "9deb8dd3",
   "metadata": {},
   "outputs": [],
   "source": [
    "x = 10\n",
    "y = 3"
   ]
  },
  {
   "cell_type": "code",
   "execution_count": 2,
   "id": "9fe747f0",
   "metadata": {},
   "outputs": [
    {
     "data": {
      "text/plain": [
       "13"
      ]
     },
     "execution_count": 2,
     "metadata": {},
     "output_type": "execute_result"
    }
   ],
   "source": [
    "# Addition\n",
    "x + y"
   ]
  },
  {
   "cell_type": "code",
   "execution_count": 3,
   "id": "c8d5883d",
   "metadata": {},
   "outputs": [
    {
     "data": {
      "text/plain": [
       "7"
      ]
     },
     "execution_count": 3,
     "metadata": {},
     "output_type": "execute_result"
    }
   ],
   "source": [
    "# Subtraction\n",
    "x - y"
   ]
  },
  {
   "cell_type": "code",
   "execution_count": 4,
   "id": "67ce1657",
   "metadata": {},
   "outputs": [
    {
     "data": {
      "text/plain": [
       "30"
      ]
     },
     "execution_count": 4,
     "metadata": {},
     "output_type": "execute_result"
    }
   ],
   "source": [
    "# Multiplication\n",
    "x * y"
   ]
  },
  {
   "cell_type": "code",
   "execution_count": 5,
   "id": "8434fc74",
   "metadata": {},
   "outputs": [
    {
     "data": {
      "text/plain": [
       "3.3333333333333335"
      ]
     },
     "execution_count": 5,
     "metadata": {},
     "output_type": "execute_result"
    }
   ],
   "source": [
    "# Division\n",
    "x / y"
   ]
  },
  {
   "cell_type": "code",
   "execution_count": 6,
   "id": "d58f7a10",
   "metadata": {},
   "outputs": [
    {
     "data": {
      "text/plain": [
       "1"
      ]
     },
     "execution_count": 6,
     "metadata": {},
     "output_type": "execute_result"
    }
   ],
   "source": [
    "# Modulo Division\n",
    "x % y"
   ]
  },
  {
   "cell_type": "code",
   "execution_count": 7,
   "id": "612a9ec5",
   "metadata": {},
   "outputs": [
    {
     "data": {
      "text/plain": [
       "3"
      ]
     },
     "execution_count": 7,
     "metadata": {},
     "output_type": "execute_result"
    }
   ],
   "source": [
    "# Floor Division\n",
    "x // y"
   ]
  },
  {
   "cell_type": "code",
   "execution_count": 8,
   "id": "abb544d1",
   "metadata": {},
   "outputs": [
    {
     "data": {
      "text/plain": [
       "-4"
      ]
     },
     "execution_count": 8,
     "metadata": {},
     "output_type": "execute_result"
    }
   ],
   "source": [
    "-x // y"
   ]
  },
  {
   "cell_type": "markdown",
   "id": "c64003d0",
   "metadata": {},
   "source": [
    "## Logical Operation"
   ]
  },
  {
   "cell_type": "code",
   "execution_count": 9,
   "id": "4067de52",
   "metadata": {},
   "outputs": [],
   "source": [
    "x = True\n",
    "y = False"
   ]
  },
  {
   "cell_type": "code",
   "execution_count": 10,
   "id": "28fc2138",
   "metadata": {},
   "outputs": [
    {
     "data": {
      "text/plain": [
       "True"
      ]
     },
     "execution_count": 10,
     "metadata": {},
     "output_type": "execute_result"
    }
   ],
   "source": [
    "x or y"
   ]
  },
  {
   "cell_type": "code",
   "execution_count": 11,
   "id": "caa69634",
   "metadata": {},
   "outputs": [
    {
     "data": {
      "text/plain": [
       "False"
      ]
     },
     "execution_count": 11,
     "metadata": {},
     "output_type": "execute_result"
    }
   ],
   "source": [
    "x and y"
   ]
  },
  {
   "cell_type": "code",
   "execution_count": 12,
   "id": "1baf7751",
   "metadata": {},
   "outputs": [
    {
     "data": {
      "text/plain": [
       "False"
      ]
     },
     "execution_count": 12,
     "metadata": {},
     "output_type": "execute_result"
    }
   ],
   "source": [
    "not x"
   ]
  },
  {
   "cell_type": "code",
   "execution_count": 13,
   "id": "1358ca36",
   "metadata": {},
   "outputs": [
    {
     "data": {
      "text/plain": [
       "True"
      ]
     },
     "execution_count": 13,
     "metadata": {},
     "output_type": "execute_result"
    }
   ],
   "source": [
    "not y"
   ]
  },
  {
   "cell_type": "code",
   "execution_count": 14,
   "id": "624fef21",
   "metadata": {},
   "outputs": [],
   "source": [
    "x = 10\n",
    "y = 3"
   ]
  },
  {
   "cell_type": "code",
   "execution_count": 15,
   "id": "c67ef602",
   "metadata": {},
   "outputs": [
    {
     "data": {
      "text/plain": [
       "True"
      ]
     },
     "execution_count": 15,
     "metadata": {},
     "output_type": "execute_result"
    }
   ],
   "source": [
    "x > y"
   ]
  },
  {
   "cell_type": "code",
   "execution_count": 16,
   "id": "1739dd75",
   "metadata": {},
   "outputs": [
    {
     "data": {
      "text/plain": [
       "True"
      ]
     },
     "execution_count": 16,
     "metadata": {},
     "output_type": "execute_result"
    }
   ],
   "source": [
    "y < x"
   ]
  },
  {
   "cell_type": "code",
   "execution_count": 17,
   "id": "f381d5e9",
   "metadata": {},
   "outputs": [
    {
     "data": {
      "text/plain": [
       "False"
      ]
     },
     "execution_count": 17,
     "metadata": {},
     "output_type": "execute_result"
    }
   ],
   "source": [
    "x == y"
   ]
  },
  {
   "cell_type": "code",
   "execution_count": 18,
   "id": "3d894f57",
   "metadata": {},
   "outputs": [
    {
     "data": {
      "text/plain": [
       "False"
      ]
     },
     "execution_count": 18,
     "metadata": {},
     "output_type": "execute_result"
    }
   ],
   "source": [
    "x > y and x == y"
   ]
  },
  {
   "cell_type": "markdown",
   "id": "daea0fcc",
   "metadata": {},
   "source": [
    "## Sequence Types"
   ]
  },
  {
   "cell_type": "code",
   "execution_count": 19,
   "id": "1ad49a38",
   "metadata": {},
   "outputs": [],
   "source": [
    "# List\n",
    "lst = [56,77,82,35,90]"
   ]
  },
  {
   "cell_type": "code",
   "execution_count": 20,
   "id": "5cb11267",
   "metadata": {},
   "outputs": [
    {
     "data": {
      "text/plain": [
       "[56, 77, 82, 35, 90]"
      ]
     },
     "execution_count": 20,
     "metadata": {},
     "output_type": "execute_result"
    }
   ],
   "source": [
    "lst"
   ]
  },
  {
   "cell_type": "code",
   "execution_count": 21,
   "id": "21b8998a",
   "metadata": {},
   "outputs": [
    {
     "data": {
      "text/plain": [
       "list"
      ]
     },
     "execution_count": 21,
     "metadata": {},
     "output_type": "execute_result"
    }
   ],
   "source": [
    "type(lst)"
   ]
  },
  {
   "cell_type": "code",
   "execution_count": 22,
   "id": "13cb1f96",
   "metadata": {},
   "outputs": [],
   "source": [
    "# Tuple\n",
    "tup = (1,2,3,45,78)"
   ]
  },
  {
   "cell_type": "code",
   "execution_count": 23,
   "id": "1c6c5f47",
   "metadata": {},
   "outputs": [
    {
     "data": {
      "text/plain": [
       "tuple"
      ]
     },
     "execution_count": 23,
     "metadata": {},
     "output_type": "execute_result"
    }
   ],
   "source": [
    "type(tup)"
   ]
  },
  {
   "cell_type": "code",
   "execution_count": 24,
   "id": "a73697dd",
   "metadata": {},
   "outputs": [],
   "source": [
    "# String\n",
    "s1 = 'Python'"
   ]
  },
  {
   "cell_type": "code",
   "execution_count": 25,
   "id": "896f6d6f",
   "metadata": {},
   "outputs": [
    {
     "data": {
      "text/plain": [
       "str"
      ]
     },
     "execution_count": 25,
     "metadata": {},
     "output_type": "execute_result"
    }
   ],
   "source": [
    "type(s1)"
   ]
  },
  {
   "cell_type": "code",
   "execution_count": 26,
   "id": "b4bcc93c",
   "metadata": {},
   "outputs": [],
   "source": [
    "s2 ='''Apple'''"
   ]
  },
  {
   "cell_type": "code",
   "execution_count": 27,
   "id": "ba02c398",
   "metadata": {},
   "outputs": [
    {
     "data": {
      "text/plain": [
       "str"
      ]
     },
     "execution_count": 27,
     "metadata": {},
     "output_type": "execute_result"
    }
   ],
   "source": [
    "type(s2)"
   ]
  },
  {
   "cell_type": "markdown",
   "id": "8a9eabfd",
   "metadata": {},
   "source": [
    "## Positional Indexing"
   ]
  },
  {
   "cell_type": "code",
   "execution_count": 28,
   "id": "b3f62a64",
   "metadata": {},
   "outputs": [],
   "source": [
    "mark_lst = [45,66,79,80,52]"
   ]
  },
  {
   "cell_type": "code",
   "execution_count": 29,
   "id": "174a4e61",
   "metadata": {},
   "outputs": [
    {
     "data": {
      "text/plain": [
       "79"
      ]
     },
     "execution_count": 29,
     "metadata": {},
     "output_type": "execute_result"
    }
   ],
   "source": [
    "mark_lst[2]"
   ]
  },
  {
   "cell_type": "code",
   "execution_count": 30,
   "id": "e392dd2e",
   "metadata": {},
   "outputs": [
    {
     "data": {
      "text/plain": [
       "'l'"
      ]
     },
     "execution_count": 30,
     "metadata": {},
     "output_type": "execute_result"
    }
   ],
   "source": [
    "s2[3]"
   ]
  },
  {
   "cell_type": "code",
   "execution_count": 31,
   "id": "46c83c68",
   "metadata": {},
   "outputs": [],
   "source": [
    "mixed_lst = [10,8.09,True,'Apple',[90,70,80],(1,2,3)]"
   ]
  },
  {
   "cell_type": "code",
   "execution_count": 32,
   "id": "39df5195",
   "metadata": {},
   "outputs": [
    {
     "data": {
      "text/plain": [
       "'Apple'"
      ]
     },
     "execution_count": 32,
     "metadata": {},
     "output_type": "execute_result"
    }
   ],
   "source": [
    "mixed_lst[3]"
   ]
  },
  {
   "cell_type": "code",
   "execution_count": 37,
   "id": "f91159dc",
   "metadata": {},
   "outputs": [
    {
     "data": {
      "text/plain": [
       "70"
      ]
     },
     "execution_count": 37,
     "metadata": {},
     "output_type": "execute_result"
    }
   ],
   "source": [
    "mixed_lst[4][1]"
   ]
  },
  {
   "cell_type": "markdown",
   "id": "4a40a8d6",
   "metadata": {},
   "source": [
    "### Slicing"
   ]
  },
  {
   "cell_type": "code",
   "execution_count": 75,
   "id": "65959eef",
   "metadata": {},
   "outputs": [],
   "source": [
    "mark_lst = [45,66,79,80,52,11,34,88,30,68,23,44,100,54]"
   ]
  },
  {
   "cell_type": "code",
   "execution_count": 39,
   "id": "13d23b7f",
   "metadata": {},
   "outputs": [
    {
     "data": {
      "text/plain": [
       "[80, 52, 11, 34, 88, 30]"
      ]
     },
     "execution_count": 39,
     "metadata": {},
     "output_type": "execute_result"
    }
   ],
   "source": [
    "mark_lst[3:9]"
   ]
  },
  {
   "cell_type": "code",
   "execution_count": 40,
   "id": "a2af6939",
   "metadata": {},
   "outputs": [
    {
     "data": {
      "text/plain": [
       "[45, 66, 79, 80, 52, 11, 34, 88, 30]"
      ]
     },
     "execution_count": 40,
     "metadata": {},
     "output_type": "execute_result"
    }
   ],
   "source": [
    "mark_lst[:9]"
   ]
  },
  {
   "cell_type": "code",
   "execution_count": 41,
   "id": "5e673357",
   "metadata": {},
   "outputs": [
    {
     "data": {
      "text/plain": [
       "[88, 30, 68, 23, 44, 100, 54]"
      ]
     },
     "execution_count": 41,
     "metadata": {},
     "output_type": "execute_result"
    }
   ],
   "source": [
    "mark_lst[7:]"
   ]
  },
  {
   "cell_type": "code",
   "execution_count": 42,
   "id": "8a7a3154",
   "metadata": {},
   "outputs": [
    {
     "data": {
      "text/plain": [
       "[45, 66, 79, 80, 52, 11, 34, 88, 30, 68, 23, 44, 100, 54]"
      ]
     },
     "execution_count": 42,
     "metadata": {},
     "output_type": "execute_result"
    }
   ],
   "source": [
    "mark_lst[:]"
   ]
  },
  {
   "cell_type": "code",
   "execution_count": 43,
   "id": "d7dd5b73",
   "metadata": {},
   "outputs": [
    {
     "data": {
      "text/plain": [
       "[45, 66, 79, 80, 52, 11, 34, 88, 30, 68, 23, 44, 100, 54]"
      ]
     },
     "execution_count": 43,
     "metadata": {},
     "output_type": "execute_result"
    }
   ],
   "source": [
    "mark_lst"
   ]
  },
  {
   "cell_type": "code",
   "execution_count": 44,
   "id": "9f8233c5",
   "metadata": {},
   "outputs": [],
   "source": [
    "s1 = 'I love python'"
   ]
  },
  {
   "cell_type": "code",
   "execution_count": 45,
   "id": "8fb47193",
   "metadata": {},
   "outputs": [
    {
     "data": {
      "text/plain": [
       "'love'"
      ]
     },
     "execution_count": 45,
     "metadata": {},
     "output_type": "execute_result"
    }
   ],
   "source": [
    "s1[2:6]"
   ]
  },
  {
   "cell_type": "code",
   "execution_count": 46,
   "id": "31482ebb",
   "metadata": {},
   "outputs": [
    {
     "data": {
      "text/plain": [
       "'python'"
      ]
     },
     "execution_count": 46,
     "metadata": {},
     "output_type": "execute_result"
    }
   ],
   "source": [
    "s1[7:]"
   ]
  },
  {
   "cell_type": "code",
   "execution_count": 76,
   "id": "6b945499",
   "metadata": {},
   "outputs": [
    {
     "data": {
      "text/plain": [
       "54"
      ]
     },
     "execution_count": 76,
     "metadata": {},
     "output_type": "execute_result"
    }
   ],
   "source": [
    "mark_lst[-1]"
   ]
  },
  {
   "cell_type": "code",
   "execution_count": 78,
   "id": "867519e7",
   "metadata": {},
   "outputs": [
    {
     "data": {
      "text/plain": [
       "(44, 44)"
      ]
     },
     "execution_count": 78,
     "metadata": {},
     "output_type": "execute_result"
    }
   ],
   "source": [
    "mark_lst[11], mark_lst[-3]"
   ]
  },
  {
   "cell_type": "markdown",
   "id": "4585aba0",
   "metadata": {},
   "source": [
    "#### length of a sequence"
   ]
  },
  {
   "cell_type": "code",
   "execution_count": 47,
   "id": "f9602beb",
   "metadata": {},
   "outputs": [
    {
     "data": {
      "text/plain": [
       "14"
      ]
     },
     "execution_count": 47,
     "metadata": {},
     "output_type": "execute_result"
    }
   ],
   "source": [
    "len(mark_lst)"
   ]
  },
  {
   "cell_type": "code",
   "execution_count": 48,
   "id": "bd0f0d40",
   "metadata": {},
   "outputs": [
    {
     "data": {
      "text/plain": [
       "13"
      ]
     },
     "execution_count": 48,
     "metadata": {},
     "output_type": "execute_result"
    }
   ],
   "source": [
    "len(s1)"
   ]
  },
  {
   "cell_type": "code",
   "execution_count": 50,
   "id": "52555f00",
   "metadata": {},
   "outputs": [
    {
     "data": {
      "text/plain": [
       "5"
      ]
     },
     "execution_count": 50,
     "metadata": {},
     "output_type": "execute_result"
    }
   ],
   "source": [
    "len(tup)"
   ]
  },
  {
   "cell_type": "markdown",
   "id": "2759b4ac",
   "metadata": {},
   "source": [
    "### membership operation"
   ]
  },
  {
   "cell_type": "code",
   "execution_count": 51,
   "id": "4e7d9186",
   "metadata": {},
   "outputs": [
    {
     "data": {
      "text/plain": [
       "[45, 66, 79, 80, 52, 11, 34, 88, 30, 68, 23, 44, 100, 54]"
      ]
     },
     "execution_count": 51,
     "metadata": {},
     "output_type": "execute_result"
    }
   ],
   "source": [
    "mark_lst"
   ]
  },
  {
   "cell_type": "code",
   "execution_count": 52,
   "id": "180a026c",
   "metadata": {},
   "outputs": [
    {
     "data": {
      "text/plain": [
       "True"
      ]
     },
     "execution_count": 52,
     "metadata": {},
     "output_type": "execute_result"
    }
   ],
   "source": [
    "80 in mark_lst"
   ]
  },
  {
   "cell_type": "code",
   "execution_count": 58,
   "id": "bdd71356",
   "metadata": {},
   "outputs": [
    {
     "data": {
      "text/plain": [
       "(False, True)"
      ]
     },
     "execution_count": 58,
     "metadata": {},
     "output_type": "execute_result"
    }
   ],
   "source": [
    "111 in mark_lst, 111 not in mark_lst"
   ]
  },
  {
   "cell_type": "code",
   "execution_count": 54,
   "id": "b5fce7e1",
   "metadata": {},
   "outputs": [
    {
     "data": {
      "text/plain": [
       "True"
      ]
     },
     "execution_count": 54,
     "metadata": {},
     "output_type": "execute_result"
    }
   ],
   "source": [
    "'t' in s1"
   ]
  },
  {
   "cell_type": "code",
   "execution_count": 55,
   "id": "fbfb7757",
   "metadata": {},
   "outputs": [
    {
     "data": {
      "text/plain": [
       "False"
      ]
     },
     "execution_count": 55,
     "metadata": {},
     "output_type": "execute_result"
    }
   ],
   "source": [
    "'z' in s1"
   ]
  },
  {
   "cell_type": "code",
   "execution_count": 56,
   "id": "2a95d557",
   "metadata": {},
   "outputs": [
    {
     "data": {
      "text/plain": [
       "True"
      ]
     },
     "execution_count": 56,
     "metadata": {},
     "output_type": "execute_result"
    }
   ],
   "source": [
    "1 in tup"
   ]
  },
  {
   "cell_type": "code",
   "execution_count": 57,
   "id": "3e4ead50",
   "metadata": {},
   "outputs": [
    {
     "data": {
      "text/plain": [
       "False"
      ]
     },
     "execution_count": 57,
     "metadata": {},
     "output_type": "execute_result"
    }
   ],
   "source": [
    "100 in tup"
   ]
  },
  {
   "cell_type": "code",
   "execution_count": 59,
   "id": "2f9e7115",
   "metadata": {},
   "outputs": [],
   "source": [
    "mylst = [1,2,3]"
   ]
  },
  {
   "cell_type": "markdown",
   "id": "781fe6a9",
   "metadata": {},
   "source": [
    "### Repetition"
   ]
  },
  {
   "cell_type": "code",
   "execution_count": 60,
   "id": "ef395832",
   "metadata": {},
   "outputs": [
    {
     "data": {
      "text/plain": [
       "[1, 2, 3, 1, 2, 3, 1, 2, 3]"
      ]
     },
     "execution_count": 60,
     "metadata": {},
     "output_type": "execute_result"
    }
   ],
   "source": [
    "mylst * 3"
   ]
  },
  {
   "cell_type": "code",
   "execution_count": 61,
   "id": "b86117bd",
   "metadata": {},
   "outputs": [],
   "source": [
    "s1 = \"Hello\""
   ]
  },
  {
   "cell_type": "code",
   "execution_count": 62,
   "id": "8bdca25b",
   "metadata": {},
   "outputs": [
    {
     "data": {
      "text/plain": [
       "'HelloHelloHello'"
      ]
     },
     "execution_count": 62,
     "metadata": {},
     "output_type": "execute_result"
    }
   ],
   "source": [
    "s1 * 3"
   ]
  },
  {
   "cell_type": "markdown",
   "id": "bc598d4e",
   "metadata": {},
   "source": [
    "### Concatenation"
   ]
  },
  {
   "cell_type": "code",
   "execution_count": 63,
   "id": "b0127164",
   "metadata": {},
   "outputs": [],
   "source": [
    "ls1 = [1,2,3]\n",
    "ls2 = [4,5,6]"
   ]
  },
  {
   "cell_type": "code",
   "execution_count": 64,
   "id": "6ccd6507",
   "metadata": {},
   "outputs": [
    {
     "data": {
      "text/plain": [
       "[1, 2, 3, 4, 5, 6]"
      ]
     },
     "execution_count": 64,
     "metadata": {},
     "output_type": "execute_result"
    }
   ],
   "source": [
    "ls1 + ls2"
   ]
  },
  {
   "cell_type": "code",
   "execution_count": 79,
   "id": "eff66250",
   "metadata": {},
   "outputs": [],
   "source": [
    "s2 = 'Hello'\n",
    "s3 = ' '\n",
    "s1 ='world'"
   ]
  },
  {
   "cell_type": "code",
   "execution_count": 80,
   "id": "3c8a92ae",
   "metadata": {},
   "outputs": [
    {
     "data": {
      "text/plain": [
       "'world Hello'"
      ]
     },
     "execution_count": 80,
     "metadata": {},
     "output_type": "execute_result"
    }
   ],
   "source": [
    "s1 + s3 + s2"
   ]
  },
  {
   "cell_type": "markdown",
   "id": "008fc31c",
   "metadata": {},
   "source": [
    "### max() and min()"
   ]
  },
  {
   "cell_type": "code",
   "execution_count": 67,
   "id": "45f239cc",
   "metadata": {},
   "outputs": [
    {
     "data": {
      "text/plain": [
       "[56, 77, 82, 35, 90]"
      ]
     },
     "execution_count": 67,
     "metadata": {},
     "output_type": "execute_result"
    }
   ],
   "source": [
    "lst"
   ]
  },
  {
   "cell_type": "code",
   "execution_count": 68,
   "id": "722d6380",
   "metadata": {},
   "outputs": [
    {
     "data": {
      "text/plain": [
       "90"
      ]
     },
     "execution_count": 68,
     "metadata": {},
     "output_type": "execute_result"
    }
   ],
   "source": [
    "max(lst)"
   ]
  },
  {
   "cell_type": "code",
   "execution_count": 69,
   "id": "13add312",
   "metadata": {},
   "outputs": [
    {
     "data": {
      "text/plain": [
       "35"
      ]
     },
     "execution_count": 69,
     "metadata": {},
     "output_type": "execute_result"
    }
   ],
   "source": [
    "min(lst)"
   ]
  },
  {
   "cell_type": "code",
   "execution_count": 70,
   "id": "c332d47b",
   "metadata": {},
   "outputs": [
    {
     "data": {
      "text/plain": [
       "'o'"
      ]
     },
     "execution_count": 70,
     "metadata": {},
     "output_type": "execute_result"
    }
   ],
   "source": [
    "max(s1)"
   ]
  },
  {
   "cell_type": "code",
   "execution_count": 71,
   "id": "b116d19b",
   "metadata": {},
   "outputs": [
    {
     "data": {
      "text/plain": [
       "'w'"
      ]
     },
     "execution_count": 71,
     "metadata": {},
     "output_type": "execute_result"
    }
   ],
   "source": [
    "max(s2)"
   ]
  },
  {
   "cell_type": "markdown",
   "id": "35e0109f",
   "metadata": {},
   "source": [
    "### List Specific Methods"
   ]
  },
  {
   "cell_type": "code",
   "execution_count": 81,
   "id": "9fcc5e3a",
   "metadata": {},
   "outputs": [
    {
     "data": {
      "text/plain": [
       "['__add__',\n",
       " '__class__',\n",
       " '__contains__',\n",
       " '__delattr__',\n",
       " '__delitem__',\n",
       " '__dir__',\n",
       " '__doc__',\n",
       " '__eq__',\n",
       " '__format__',\n",
       " '__ge__',\n",
       " '__getattribute__',\n",
       " '__getitem__',\n",
       " '__gt__',\n",
       " '__hash__',\n",
       " '__iadd__',\n",
       " '__imul__',\n",
       " '__init__',\n",
       " '__init_subclass__',\n",
       " '__iter__',\n",
       " '__le__',\n",
       " '__len__',\n",
       " '__lt__',\n",
       " '__mul__',\n",
       " '__ne__',\n",
       " '__new__',\n",
       " '__reduce__',\n",
       " '__reduce_ex__',\n",
       " '__repr__',\n",
       " '__reversed__',\n",
       " '__rmul__',\n",
       " '__setattr__',\n",
       " '__setitem__',\n",
       " '__sizeof__',\n",
       " '__str__',\n",
       " '__subclasshook__',\n",
       " 'append',\n",
       " 'clear',\n",
       " 'copy',\n",
       " 'count',\n",
       " 'extend',\n",
       " 'index',\n",
       " 'insert',\n",
       " 'pop',\n",
       " 'remove',\n",
       " 'reverse',\n",
       " 'sort']"
      ]
     },
     "execution_count": 81,
     "metadata": {},
     "output_type": "execute_result"
    }
   ],
   "source": [
    "dir(list)"
   ]
  },
  {
   "cell_type": "markdown",
   "id": "c2922355",
   "metadata": {},
   "source": [
    "### Adding elements to a list"
   ]
  },
  {
   "cell_type": "code",
   "execution_count": 90,
   "id": "9c84aa69",
   "metadata": {},
   "outputs": [],
   "source": [
    "shop_list = ['Apple','Bread','Coffee','Avocado']"
   ]
  },
  {
   "cell_type": "code",
   "execution_count": 91,
   "id": "fcf2c427",
   "metadata": {},
   "outputs": [],
   "source": [
    "shop_list.append('Butter')"
   ]
  },
  {
   "cell_type": "code",
   "execution_count": 92,
   "id": "988877a5",
   "metadata": {},
   "outputs": [
    {
     "data": {
      "text/plain": [
       "['Apple', 'Bread', 'Coffee', 'Avocado', 'Butter']"
      ]
     },
     "execution_count": 92,
     "metadata": {},
     "output_type": "execute_result"
    }
   ],
   "source": [
    "shop_list"
   ]
  },
  {
   "cell_type": "code",
   "execution_count": 93,
   "id": "e5c1da63",
   "metadata": {},
   "outputs": [],
   "source": [
    "shop_list.insert(2,'Jam')"
   ]
  },
  {
   "cell_type": "code",
   "execution_count": 94,
   "id": "21f67913",
   "metadata": {},
   "outputs": [
    {
     "data": {
      "text/plain": [
       "['Apple', 'Bread', 'Jam', 'Coffee', 'Avocado', 'Butter']"
      ]
     },
     "execution_count": 94,
     "metadata": {},
     "output_type": "execute_result"
    }
   ],
   "source": [
    "shop_list"
   ]
  },
  {
   "cell_type": "code",
   "execution_count": 95,
   "id": "f7413b20",
   "metadata": {},
   "outputs": [
    {
     "data": {
      "text/plain": [
       "6"
      ]
     },
     "execution_count": 95,
     "metadata": {},
     "output_type": "execute_result"
    }
   ],
   "source": [
    "len(shop_list)"
   ]
  },
  {
   "cell_type": "code",
   "execution_count": 96,
   "id": "77460f7f",
   "metadata": {},
   "outputs": [],
   "source": [
    "shop_list.append(['Pen','Pencil','Notebook'])"
   ]
  },
  {
   "cell_type": "code",
   "execution_count": 97,
   "id": "5462cedf",
   "metadata": {},
   "outputs": [
    {
     "data": {
      "text/plain": [
       "7"
      ]
     },
     "execution_count": 97,
     "metadata": {},
     "output_type": "execute_result"
    }
   ],
   "source": [
    "len(shop_list)"
   ]
  },
  {
   "cell_type": "code",
   "execution_count": 98,
   "id": "aca6053c",
   "metadata": {},
   "outputs": [
    {
     "data": {
      "text/plain": [
       "['Apple',\n",
       " 'Bread',\n",
       " 'Jam',\n",
       " 'Coffee',\n",
       " 'Avocado',\n",
       " 'Butter',\n",
       " ['Pen', 'Pencil', 'Notebook']]"
      ]
     },
     "execution_count": 98,
     "metadata": {},
     "output_type": "execute_result"
    }
   ],
   "source": [
    "shop_list"
   ]
  },
  {
   "cell_type": "code",
   "execution_count": 107,
   "id": "6c3c88bb",
   "metadata": {},
   "outputs": [],
   "source": [
    "shop_list.append((1,2))"
   ]
  },
  {
   "cell_type": "code",
   "execution_count": 108,
   "id": "cf51b27e",
   "metadata": {},
   "outputs": [
    {
     "data": {
      "text/plain": [
       "['Apple',\n",
       " 'Bread',\n",
       " 'Jam',\n",
       " 'Tea',\n",
       " 'Avocado',\n",
       " 'Butter',\n",
       " ['Pen', 'Ball Pen', 'Notebook'],\n",
       " 'Milk',\n",
       " 'Flour',\n",
       " 'ToothPaste',\n",
       " (1, 2)]"
      ]
     },
     "execution_count": 108,
     "metadata": {},
     "output_type": "execute_result"
    }
   ],
   "source": [
    "shop_list"
   ]
  },
  {
   "cell_type": "code",
   "execution_count": 99,
   "id": "ff9d30e8",
   "metadata": {},
   "outputs": [],
   "source": [
    "shop_list.extend(['Milk','Flour','ToothPaste'])"
   ]
  },
  {
   "cell_type": "code",
   "execution_count": 100,
   "id": "066af2c9",
   "metadata": {},
   "outputs": [
    {
     "data": {
      "text/plain": [
       "['Apple',\n",
       " 'Bread',\n",
       " 'Jam',\n",
       " 'Coffee',\n",
       " 'Avocado',\n",
       " 'Butter',\n",
       " ['Pen', 'Pencil', 'Notebook'],\n",
       " 'Milk',\n",
       " 'Flour',\n",
       " 'ToothPaste']"
      ]
     },
     "execution_count": 100,
     "metadata": {},
     "output_type": "execute_result"
    }
   ],
   "source": [
    "shop_list"
   ]
  },
  {
   "cell_type": "code",
   "execution_count": 109,
   "id": "7698df08",
   "metadata": {},
   "outputs": [],
   "source": [
    "shop_list.extend((1,2,3))"
   ]
  },
  {
   "cell_type": "code",
   "execution_count": 110,
   "id": "a6099037",
   "metadata": {},
   "outputs": [
    {
     "data": {
      "text/plain": [
       "['Apple',\n",
       " 'Bread',\n",
       " 'Jam',\n",
       " 'Tea',\n",
       " 'Avocado',\n",
       " 'Butter',\n",
       " ['Pen', 'Ball Pen', 'Notebook'],\n",
       " 'Milk',\n",
       " 'Flour',\n",
       " 'ToothPaste',\n",
       " (1, 2),\n",
       " 1,\n",
       " 2,\n",
       " 3]"
      ]
     },
     "execution_count": 110,
     "metadata": {},
     "output_type": "execute_result"
    }
   ],
   "source": [
    "shop_list"
   ]
  },
  {
   "cell_type": "code",
   "execution_count": 111,
   "id": "f9ab1eaf",
   "metadata": {},
   "outputs": [],
   "source": [
    "shop_list.extend(\"abc\")"
   ]
  },
  {
   "cell_type": "code",
   "execution_count": 112,
   "id": "1dd5f903",
   "metadata": {},
   "outputs": [
    {
     "data": {
      "text/plain": [
       "['Apple',\n",
       " 'Bread',\n",
       " 'Jam',\n",
       " 'Tea',\n",
       " 'Avocado',\n",
       " 'Butter',\n",
       " ['Pen', 'Ball Pen', 'Notebook'],\n",
       " 'Milk',\n",
       " 'Flour',\n",
       " 'ToothPaste',\n",
       " (1, 2),\n",
       " 1,\n",
       " 2,\n",
       " 3,\n",
       " 'a',\n",
       " 'b',\n",
       " 'c']"
      ]
     },
     "execution_count": 112,
     "metadata": {},
     "output_type": "execute_result"
    }
   ],
   "source": [
    "shop_list"
   ]
  },
  {
   "cell_type": "markdown",
   "id": "b97e0475",
   "metadata": {},
   "source": [
    "#### Replace a element"
   ]
  },
  {
   "cell_type": "code",
   "execution_count": 101,
   "id": "6742a0ec",
   "metadata": {},
   "outputs": [],
   "source": [
    "shop_list[3] = 'Tea'"
   ]
  },
  {
   "cell_type": "code",
   "execution_count": 102,
   "id": "c59f07f4",
   "metadata": {},
   "outputs": [
    {
     "data": {
      "text/plain": [
       "['Apple',\n",
       " 'Bread',\n",
       " 'Jam',\n",
       " 'Tea',\n",
       " 'Avocado',\n",
       " 'Butter',\n",
       " ['Pen', 'Pencil', 'Notebook'],\n",
       " 'Milk',\n",
       " 'Flour',\n",
       " 'ToothPaste']"
      ]
     },
     "execution_count": 102,
     "metadata": {},
     "output_type": "execute_result"
    }
   ],
   "source": [
    "shop_list"
   ]
  },
  {
   "cell_type": "code",
   "execution_count": 105,
   "id": "a19949cd",
   "metadata": {},
   "outputs": [],
   "source": [
    "shop_list[6][1]='Ball Pen'"
   ]
  },
  {
   "cell_type": "code",
   "execution_count": 113,
   "id": "f72c24b4",
   "metadata": {},
   "outputs": [
    {
     "data": {
      "text/plain": [
       "['Apple',\n",
       " 'Bread',\n",
       " 'Jam',\n",
       " 'Tea',\n",
       " 'Avocado',\n",
       " 'Butter',\n",
       " ['Pen', 'Ball Pen', 'Notebook'],\n",
       " 'Milk',\n",
       " 'Flour',\n",
       " 'ToothPaste',\n",
       " (1, 2),\n",
       " 1,\n",
       " 2,\n",
       " 3,\n",
       " 'a',\n",
       " 'b',\n",
       " 'c']"
      ]
     },
     "execution_count": 113,
     "metadata": {},
     "output_type": "execute_result"
    }
   ],
   "source": [
    "shop_list"
   ]
  },
  {
   "cell_type": "markdown",
   "id": "d140c25d",
   "metadata": {},
   "source": [
    "### Remove elements from a list"
   ]
  },
  {
   "cell_type": "code",
   "execution_count": 114,
   "id": "ba5919df",
   "metadata": {},
   "outputs": [
    {
     "data": {
      "text/plain": [
       "'c'"
      ]
     },
     "execution_count": 114,
     "metadata": {},
     "output_type": "execute_result"
    }
   ],
   "source": [
    "shop_list.pop()"
   ]
  },
  {
   "cell_type": "code",
   "execution_count": 115,
   "id": "75228a24",
   "metadata": {},
   "outputs": [
    {
     "data": {
      "text/plain": [
       "['Apple',\n",
       " 'Bread',\n",
       " 'Jam',\n",
       " 'Tea',\n",
       " 'Avocado',\n",
       " 'Butter',\n",
       " ['Pen', 'Ball Pen', 'Notebook'],\n",
       " 'Milk',\n",
       " 'Flour',\n",
       " 'ToothPaste',\n",
       " (1, 2),\n",
       " 1,\n",
       " 2,\n",
       " 3,\n",
       " 'a',\n",
       " 'b']"
      ]
     },
     "execution_count": 115,
     "metadata": {},
     "output_type": "execute_result"
    }
   ],
   "source": [
    "shop_list"
   ]
  },
  {
   "cell_type": "code",
   "execution_count": 116,
   "id": "e29638d8",
   "metadata": {},
   "outputs": [
    {
     "data": {
      "text/plain": [
       "'b'"
      ]
     },
     "execution_count": 116,
     "metadata": {},
     "output_type": "execute_result"
    }
   ],
   "source": [
    "shop_list.pop()"
   ]
  },
  {
   "cell_type": "code",
   "execution_count": 117,
   "id": "c3166d3e",
   "metadata": {},
   "outputs": [
    {
     "data": {
      "text/plain": [
       "['Apple',\n",
       " 'Bread',\n",
       " 'Jam',\n",
       " 'Tea',\n",
       " 'Avocado',\n",
       " 'Butter',\n",
       " ['Pen', 'Ball Pen', 'Notebook'],\n",
       " 'Milk',\n",
       " 'Flour',\n",
       " 'ToothPaste',\n",
       " (1, 2),\n",
       " 1,\n",
       " 2,\n",
       " 3,\n",
       " 'a']"
      ]
     },
     "execution_count": 117,
     "metadata": {},
     "output_type": "execute_result"
    }
   ],
   "source": [
    "shop_list"
   ]
  },
  {
   "cell_type": "code",
   "execution_count": 118,
   "id": "6a6335bb",
   "metadata": {},
   "outputs": [
    {
     "data": {
      "text/plain": [
       "'Jam'"
      ]
     },
     "execution_count": 118,
     "metadata": {},
     "output_type": "execute_result"
    }
   ],
   "source": [
    "shop_list.pop(2)"
   ]
  },
  {
   "cell_type": "code",
   "execution_count": 119,
   "id": "e1874858",
   "metadata": {},
   "outputs": [
    {
     "data": {
      "text/plain": [
       "['Apple',\n",
       " 'Bread',\n",
       " 'Tea',\n",
       " 'Avocado',\n",
       " 'Butter',\n",
       " ['Pen', 'Ball Pen', 'Notebook'],\n",
       " 'Milk',\n",
       " 'Flour',\n",
       " 'ToothPaste',\n",
       " (1, 2),\n",
       " 1,\n",
       " 2,\n",
       " 3,\n",
       " 'a']"
      ]
     },
     "execution_count": 119,
     "metadata": {},
     "output_type": "execute_result"
    }
   ],
   "source": [
    "shop_list"
   ]
  },
  {
   "cell_type": "code",
   "execution_count": 120,
   "id": "8ecbb53e",
   "metadata": {},
   "outputs": [],
   "source": [
    "shop_list.remove('ToothPaste')"
   ]
  },
  {
   "cell_type": "code",
   "execution_count": 121,
   "id": "8f014ad8",
   "metadata": {},
   "outputs": [
    {
     "data": {
      "text/plain": [
       "['Apple',\n",
       " 'Bread',\n",
       " 'Tea',\n",
       " 'Avocado',\n",
       " 'Butter',\n",
       " ['Pen', 'Ball Pen', 'Notebook'],\n",
       " 'Milk',\n",
       " 'Flour',\n",
       " (1, 2),\n",
       " 1,\n",
       " 2,\n",
       " 3,\n",
       " 'a']"
      ]
     },
     "execution_count": 121,
     "metadata": {},
     "output_type": "execute_result"
    }
   ],
   "source": [
    "shop_list"
   ]
  },
  {
   "cell_type": "code",
   "execution_count": 122,
   "id": "88c49471",
   "metadata": {},
   "outputs": [],
   "source": [
    "shop_list[5].remove('Pen')"
   ]
  },
  {
   "cell_type": "code",
   "execution_count": 123,
   "id": "9eeef777",
   "metadata": {},
   "outputs": [
    {
     "data": {
      "text/plain": [
       "['Apple',\n",
       " 'Bread',\n",
       " 'Tea',\n",
       " 'Avocado',\n",
       " 'Butter',\n",
       " ['Ball Pen', 'Notebook'],\n",
       " 'Milk',\n",
       " 'Flour',\n",
       " (1, 2),\n",
       " 1,\n",
       " 2,\n",
       " 3,\n",
       " 'a']"
      ]
     },
     "execution_count": 123,
     "metadata": {},
     "output_type": "execute_result"
    }
   ],
   "source": [
    "shop_list"
   ]
  },
  {
   "cell_type": "code",
   "execution_count": 124,
   "id": "74a54d5d",
   "metadata": {},
   "outputs": [],
   "source": [
    "shop_list.clear()"
   ]
  },
  {
   "cell_type": "code",
   "execution_count": 125,
   "id": "2ed78f93",
   "metadata": {},
   "outputs": [
    {
     "data": {
      "text/plain": [
       "[]"
      ]
     },
     "execution_count": 125,
     "metadata": {},
     "output_type": "execute_result"
    }
   ],
   "source": [
    "shop_list"
   ]
  },
  {
   "cell_type": "code",
   "execution_count": 126,
   "id": "15633327",
   "metadata": {},
   "outputs": [],
   "source": [
    "shop_list = ['Apple','Bread','Coffee','Avocado','Bread']"
   ]
  },
  {
   "cell_type": "code",
   "execution_count": 127,
   "id": "e33ef5e9",
   "metadata": {},
   "outputs": [
    {
     "data": {
      "text/plain": [
       "2"
      ]
     },
     "execution_count": 127,
     "metadata": {},
     "output_type": "execute_result"
    }
   ],
   "source": [
    "shop_list.index('Coffee')"
   ]
  },
  {
   "cell_type": "code",
   "execution_count": 128,
   "id": "79387b27",
   "metadata": {},
   "outputs": [
    {
     "data": {
      "text/plain": [
       "1"
      ]
     },
     "execution_count": 128,
     "metadata": {},
     "output_type": "execute_result"
    }
   ],
   "source": [
    "shop_list.index('Bread')"
   ]
  },
  {
   "cell_type": "code",
   "execution_count": 129,
   "id": "8672c300",
   "metadata": {},
   "outputs": [
    {
     "data": {
      "text/plain": [
       "2"
      ]
     },
     "execution_count": 129,
     "metadata": {},
     "output_type": "execute_result"
    }
   ],
   "source": [
    "shop_list.count('Bread')"
   ]
  },
  {
   "cell_type": "code",
   "execution_count": 130,
   "id": "9c304d05",
   "metadata": {},
   "outputs": [
    {
     "data": {
      "text/plain": [
       "1"
      ]
     },
     "execution_count": 130,
     "metadata": {},
     "output_type": "execute_result"
    }
   ],
   "source": [
    "shop_list.count('Avocado')"
   ]
  },
  {
   "cell_type": "markdown",
   "id": "7ea1fc75",
   "metadata": {},
   "source": [
    "### sort()"
   ]
  },
  {
   "cell_type": "code",
   "execution_count": 131,
   "id": "33b9ce84",
   "metadata": {},
   "outputs": [],
   "source": [
    "marks = [34,12,67,56,90,87]"
   ]
  },
  {
   "cell_type": "code",
   "execution_count": 132,
   "id": "1e225f00",
   "metadata": {},
   "outputs": [],
   "source": [
    "marks.sort()"
   ]
  },
  {
   "cell_type": "code",
   "execution_count": 133,
   "id": "ca7124dd",
   "metadata": {},
   "outputs": [
    {
     "data": {
      "text/plain": [
       "[12, 34, 56, 67, 87, 90]"
      ]
     },
     "execution_count": 133,
     "metadata": {},
     "output_type": "execute_result"
    }
   ],
   "source": [
    "marks"
   ]
  },
  {
   "cell_type": "code",
   "execution_count": 134,
   "id": "5fef1bb5",
   "metadata": {},
   "outputs": [],
   "source": [
    "marks = [34,12,67,56,90,87]"
   ]
  },
  {
   "cell_type": "code",
   "execution_count": 135,
   "id": "ebbf49e2",
   "metadata": {},
   "outputs": [],
   "source": [
    "marks.sort(reverse=True)"
   ]
  },
  {
   "cell_type": "code",
   "execution_count": 136,
   "id": "b9a82d04",
   "metadata": {},
   "outputs": [
    {
     "data": {
      "text/plain": [
       "[90, 87, 67, 56, 34, 12]"
      ]
     },
     "execution_count": 136,
     "metadata": {},
     "output_type": "execute_result"
    }
   ],
   "source": [
    "marks"
   ]
  },
  {
   "cell_type": "code",
   "execution_count": 137,
   "id": "cccf37b0",
   "metadata": {},
   "outputs": [],
   "source": [
    "marks = [34,12,67,56,90,87]"
   ]
  },
  {
   "cell_type": "code",
   "execution_count": 138,
   "id": "5211b29f",
   "metadata": {},
   "outputs": [],
   "source": [
    "marks.reverse()"
   ]
  },
  {
   "cell_type": "code",
   "execution_count": 139,
   "id": "bd38c376",
   "metadata": {},
   "outputs": [
    {
     "data": {
      "text/plain": [
       "[87, 90, 56, 67, 12, 34]"
      ]
     },
     "execution_count": 139,
     "metadata": {},
     "output_type": "execute_result"
    }
   ],
   "source": [
    "marks"
   ]
  },
  {
   "cell_type": "code",
   "execution_count": 140,
   "id": "1d88b095",
   "metadata": {},
   "outputs": [],
   "source": [
    "shop_list = ['Apple','Bread','Coffee','Avocado','Bread']"
   ]
  },
  {
   "cell_type": "code",
   "execution_count": 141,
   "id": "70a29996",
   "metadata": {},
   "outputs": [],
   "source": [
    "shop_list.sort()"
   ]
  },
  {
   "cell_type": "code",
   "execution_count": 142,
   "id": "e25aa61b",
   "metadata": {},
   "outputs": [
    {
     "data": {
      "text/plain": [
       "['Apple', 'Avocado', 'Bread', 'Bread', 'Coffee']"
      ]
     },
     "execution_count": 142,
     "metadata": {},
     "output_type": "execute_result"
    }
   ],
   "source": [
    "shop_list"
   ]
  },
  {
   "cell_type": "code",
   "execution_count": 143,
   "id": "0665f3fc",
   "metadata": {},
   "outputs": [],
   "source": [
    "### copy()"
   ]
  },
  {
   "cell_type": "code",
   "execution_count": 144,
   "id": "a527b2fb",
   "metadata": {},
   "outputs": [],
   "source": [
    "ls1 = [1,2,3]"
   ]
  },
  {
   "cell_type": "code",
   "execution_count": 145,
   "id": "d786e7ad",
   "metadata": {},
   "outputs": [],
   "source": [
    "ls2 = ls1"
   ]
  },
  {
   "cell_type": "code",
   "execution_count": 146,
   "id": "88d94f32",
   "metadata": {},
   "outputs": [
    {
     "data": {
      "text/plain": [
       "[1, 2, 3]"
      ]
     },
     "execution_count": 146,
     "metadata": {},
     "output_type": "execute_result"
    }
   ],
   "source": [
    "ls2"
   ]
  },
  {
   "cell_type": "code",
   "execution_count": 147,
   "id": "2e5db67c",
   "metadata": {},
   "outputs": [],
   "source": [
    "ls2[1] = 100"
   ]
  },
  {
   "cell_type": "code",
   "execution_count": 148,
   "id": "713ff995",
   "metadata": {},
   "outputs": [
    {
     "data": {
      "text/plain": [
       "[1, 100, 3]"
      ]
     },
     "execution_count": 148,
     "metadata": {},
     "output_type": "execute_result"
    }
   ],
   "source": [
    "ls2"
   ]
  },
  {
   "cell_type": "code",
   "execution_count": 149,
   "id": "29a9d08b",
   "metadata": {},
   "outputs": [
    {
     "data": {
      "text/plain": [
       "[1, 100, 3]"
      ]
     },
     "execution_count": 149,
     "metadata": {},
     "output_type": "execute_result"
    }
   ],
   "source": [
    "ls1"
   ]
  },
  {
   "cell_type": "code",
   "execution_count": 150,
   "id": "55a2bf6b",
   "metadata": {},
   "outputs": [],
   "source": [
    "ls1 = [1,2,3]\n",
    "ls3 = ls1.copy()"
   ]
  },
  {
   "cell_type": "code",
   "execution_count": 151,
   "id": "485ea026",
   "metadata": {},
   "outputs": [],
   "source": [
    "ls3[1] = 100"
   ]
  },
  {
   "cell_type": "code",
   "execution_count": 152,
   "id": "079a263b",
   "metadata": {},
   "outputs": [
    {
     "data": {
      "text/plain": [
       "[1, 100, 3]"
      ]
     },
     "execution_count": 152,
     "metadata": {},
     "output_type": "execute_result"
    }
   ],
   "source": [
    "ls3"
   ]
  },
  {
   "cell_type": "code",
   "execution_count": 153,
   "id": "9920c4d9",
   "metadata": {},
   "outputs": [
    {
     "data": {
      "text/plain": [
       "[1, 2, 3]"
      ]
     },
     "execution_count": 153,
     "metadata": {},
     "output_type": "execute_result"
    }
   ],
   "source": [
    "ls1"
   ]
  },
  {
   "cell_type": "markdown",
   "id": "47cb3e0f",
   "metadata": {},
   "source": [
    "### Identity Operation"
   ]
  },
  {
   "cell_type": "code",
   "execution_count": 155,
   "id": "cba3ca45",
   "metadata": {},
   "outputs": [],
   "source": [
    "ls1 = [1,2,3]"
   ]
  },
  {
   "cell_type": "code",
   "execution_count": 156,
   "id": "57645ce8",
   "metadata": {},
   "outputs": [],
   "source": [
    "ls2 = ls1"
   ]
  },
  {
   "cell_type": "code",
   "execution_count": 157,
   "id": "e9642f94",
   "metadata": {},
   "outputs": [],
   "source": [
    "ls3 = ls1.copy()"
   ]
  },
  {
   "cell_type": "code",
   "execution_count": 158,
   "id": "b2cc878b",
   "metadata": {},
   "outputs": [
    {
     "data": {
      "text/plain": [
       "(True, True)"
      ]
     },
     "execution_count": 158,
     "metadata": {},
     "output_type": "execute_result"
    }
   ],
   "source": [
    "ls1 == ls2 , ls1 is ls2"
   ]
  },
  {
   "cell_type": "code",
   "execution_count": 159,
   "id": "20b67e47",
   "metadata": {},
   "outputs": [
    {
     "data": {
      "text/plain": [
       "(True, False)"
      ]
     },
     "execution_count": 159,
     "metadata": {},
     "output_type": "execute_result"
    }
   ],
   "source": [
    "ls1 == ls3, ls1 is ls3"
   ]
  },
  {
   "cell_type": "code",
   "execution_count": 160,
   "id": "b34aab00",
   "metadata": {},
   "outputs": [
    {
     "data": {
      "text/plain": [
       "['__add__',\n",
       " '__class__',\n",
       " '__contains__',\n",
       " '__delattr__',\n",
       " '__dir__',\n",
       " '__doc__',\n",
       " '__eq__',\n",
       " '__format__',\n",
       " '__ge__',\n",
       " '__getattribute__',\n",
       " '__getitem__',\n",
       " '__getnewargs__',\n",
       " '__gt__',\n",
       " '__hash__',\n",
       " '__init__',\n",
       " '__init_subclass__',\n",
       " '__iter__',\n",
       " '__le__',\n",
       " '__len__',\n",
       " '__lt__',\n",
       " '__mul__',\n",
       " '__ne__',\n",
       " '__new__',\n",
       " '__reduce__',\n",
       " '__reduce_ex__',\n",
       " '__repr__',\n",
       " '__rmul__',\n",
       " '__setattr__',\n",
       " '__sizeof__',\n",
       " '__str__',\n",
       " '__subclasshook__',\n",
       " 'count',\n",
       " 'index']"
      ]
     },
     "execution_count": 160,
     "metadata": {},
     "output_type": "execute_result"
    }
   ],
   "source": [
    "dir(tuple)"
   ]
  },
  {
   "cell_type": "code",
   "execution_count": 163,
   "id": "b0a26f4c",
   "metadata": {},
   "outputs": [],
   "source": [
    "x = (1,2,3)"
   ]
  },
  {
   "cell_type": "code",
   "execution_count": 164,
   "id": "a1f60028",
   "metadata": {},
   "outputs": [
    {
     "data": {
      "text/plain": [
       "tuple"
      ]
     },
     "execution_count": 164,
     "metadata": {},
     "output_type": "execute_result"
    }
   ],
   "source": [
    "type(x)"
   ]
  },
  {
   "cell_type": "code",
   "execution_count": 165,
   "id": "2ad8733e",
   "metadata": {},
   "outputs": [
    {
     "data": {
      "text/plain": [
       "1"
      ]
     },
     "execution_count": 165,
     "metadata": {},
     "output_type": "execute_result"
    }
   ],
   "source": [
    "x.index(2)"
   ]
  },
  {
   "cell_type": "code",
   "execution_count": 166,
   "id": "f7f76147",
   "metadata": {},
   "outputs": [
    {
     "data": {
      "text/plain": [
       "1"
      ]
     },
     "execution_count": 166,
     "metadata": {},
     "output_type": "execute_result"
    }
   ],
   "source": [
    "x.count(2)"
   ]
  },
  {
   "cell_type": "code",
   "execution_count": 168,
   "id": "0c247a09",
   "metadata": {},
   "outputs": [],
   "source": [
    "y =('a','b','b','c')"
   ]
  },
  {
   "cell_type": "code",
   "execution_count": 169,
   "id": "bd22b202",
   "metadata": {},
   "outputs": [
    {
     "data": {
      "text/plain": [
       "1"
      ]
     },
     "execution_count": 169,
     "metadata": {},
     "output_type": "execute_result"
    }
   ],
   "source": [
    "y.count('c')"
   ]
  },
  {
   "cell_type": "markdown",
   "id": "334e825a",
   "metadata": {},
   "source": [
    "### String Methods"
   ]
  },
  {
   "cell_type": "code",
   "execution_count": 37,
   "id": "9f4b22b1",
   "metadata": {},
   "outputs": [],
   "source": [
    "s1 = 'i love python'"
   ]
  },
  {
   "cell_type": "code",
   "execution_count": 38,
   "id": "d549a544",
   "metadata": {},
   "outputs": [
    {
     "data": {
      "text/plain": [
       "'I love python'"
      ]
     },
     "execution_count": 38,
     "metadata": {},
     "output_type": "execute_result"
    }
   ],
   "source": [
    "s1.capitalize()"
   ]
  },
  {
   "cell_type": "code",
   "execution_count": 39,
   "id": "448d5821",
   "metadata": {},
   "outputs": [
    {
     "data": {
      "text/plain": [
       "'i love python'"
      ]
     },
     "execution_count": 39,
     "metadata": {},
     "output_type": "execute_result"
    }
   ],
   "source": [
    "s1"
   ]
  },
  {
   "cell_type": "code",
   "execution_count": 3,
   "id": "e82f936f",
   "metadata": {},
   "outputs": [
    {
     "data": {
      "text/plain": [
       "'I Love Python'"
      ]
     },
     "execution_count": 3,
     "metadata": {},
     "output_type": "execute_result"
    }
   ],
   "source": [
    "s1.title()"
   ]
  },
  {
   "cell_type": "code",
   "execution_count": 4,
   "id": "8aaca46e",
   "metadata": {},
   "outputs": [
    {
     "data": {
      "text/plain": [
       "'I LOVE PYTHON'"
      ]
     },
     "execution_count": 4,
     "metadata": {},
     "output_type": "execute_result"
    }
   ],
   "source": [
    "s1.upper()"
   ]
  },
  {
   "cell_type": "code",
   "execution_count": 5,
   "id": "aca52d86",
   "metadata": {},
   "outputs": [],
   "source": [
    "s2 = 'Happy Birth Day'"
   ]
  },
  {
   "cell_type": "code",
   "execution_count": 6,
   "id": "1bc7742e",
   "metadata": {},
   "outputs": [
    {
     "data": {
      "text/plain": [
       "'happy birth day'"
      ]
     },
     "execution_count": 6,
     "metadata": {},
     "output_type": "execute_result"
    }
   ],
   "source": [
    "s2.lower()"
   ]
  },
  {
   "cell_type": "code",
   "execution_count": 7,
   "id": "1287b8b8",
   "metadata": {},
   "outputs": [
    {
     "data": {
      "text/plain": [
       "'hAPPY bIRTH dAY'"
      ]
     },
     "execution_count": 7,
     "metadata": {},
     "output_type": "execute_result"
    }
   ],
   "source": [
    "s2.swapcase()"
   ]
  },
  {
   "cell_type": "code",
   "execution_count": 10,
   "id": "ed4e2f40",
   "metadata": {},
   "outputs": [
    {
     "data": {
      "text/plain": [
       "(True, False, True)"
      ]
     },
     "execution_count": 10,
     "metadata": {},
     "output_type": "execute_result"
    }
   ],
   "source": [
    "'python'.islower(), 'Python'.isupper(), 'PYTHON'.isupper()"
   ]
  },
  {
   "cell_type": "code",
   "execution_count": 11,
   "id": "9b43b7f8",
   "metadata": {},
   "outputs": [
    {
     "data": {
      "text/plain": [
       "(True, False)"
      ]
     },
     "execution_count": 11,
     "metadata": {},
     "output_type": "execute_result"
    }
   ],
   "source": [
    "'python'.startswith('py'), 'python'.startswith('on')"
   ]
  },
  {
   "cell_type": "code",
   "execution_count": 12,
   "id": "c5eab63c",
   "metadata": {},
   "outputs": [
    {
     "data": {
      "text/plain": [
       "(False, True)"
      ]
     },
     "execution_count": 12,
     "metadata": {},
     "output_type": "execute_result"
    }
   ],
   "source": [
    "'python'.endswith('py'), 'python'.endswith('on')"
   ]
  },
  {
   "cell_type": "code",
   "execution_count": 13,
   "id": "53f9e8d4",
   "metadata": {},
   "outputs": [],
   "source": [
    "s1 = '  Python  '"
   ]
  },
  {
   "cell_type": "code",
   "execution_count": 14,
   "id": "ac30e0b4",
   "metadata": {},
   "outputs": [
    {
     "data": {
      "text/plain": [
       "'Python'"
      ]
     },
     "execution_count": 14,
     "metadata": {},
     "output_type": "execute_result"
    }
   ],
   "source": [
    "s1.strip()"
   ]
  },
  {
   "cell_type": "code",
   "execution_count": 15,
   "id": "2f5df906",
   "metadata": {},
   "outputs": [
    {
     "data": {
      "text/plain": [
       "('Python  ', '  Python')"
      ]
     },
     "execution_count": 15,
     "metadata": {},
     "output_type": "execute_result"
    }
   ],
   "source": [
    "s1.lstrip(), s1.rstrip()"
   ]
  },
  {
   "cell_type": "code",
   "execution_count": 23,
   "id": "4dc5374c",
   "metadata": {},
   "outputs": [],
   "source": [
    "s2 = 'python3.0'"
   ]
  },
  {
   "cell_type": "code",
   "execution_count": 24,
   "id": "509ce41f",
   "metadata": {},
   "outputs": [
    {
     "data": {
      "text/plain": [
       "(False, False, False)"
      ]
     },
     "execution_count": 24,
     "metadata": {},
     "output_type": "execute_result"
    }
   ],
   "source": [
    "s2.isalpha(), s2.isalnum(), s2.isnumeric()"
   ]
  },
  {
   "cell_type": "code",
   "execution_count": 25,
   "id": "79fb5539",
   "metadata": {},
   "outputs": [],
   "source": [
    "str1 = 'Apple,Orange,Grapes,Mango'"
   ]
  },
  {
   "cell_type": "code",
   "execution_count": 26,
   "id": "481a4449",
   "metadata": {},
   "outputs": [
    {
     "name": "stdout",
     "output_type": "stream",
     "text": [
      "A\n",
      "p\n",
      "p\n",
      "l\n",
      "e\n",
      ",\n",
      "O\n",
      "r\n",
      "a\n",
      "n\n",
      "g\n",
      "e\n",
      ",\n",
      "G\n",
      "r\n",
      "a\n",
      "p\n",
      "e\n",
      "s\n",
      ",\n",
      "M\n",
      "a\n",
      "n\n",
      "g\n",
      "o\n"
     ]
    }
   ],
   "source": [
    "for x in str1:\n",
    "    print(x)"
   ]
  },
  {
   "cell_type": "code",
   "execution_count": 27,
   "id": "9a0ee2de",
   "metadata": {},
   "outputs": [
    {
     "data": {
      "text/plain": [
       "['Apple', 'Orange', 'Grapes', 'Mango']"
      ]
     },
     "execution_count": 27,
     "metadata": {},
     "output_type": "execute_result"
    }
   ],
   "source": [
    "str1.split(',')"
   ]
  },
  {
   "cell_type": "code",
   "execution_count": 31,
   "id": "040a77e5",
   "metadata": {},
   "outputs": [],
   "source": [
    "str1 = 'Apple|Orange|Grapes|Mango'"
   ]
  },
  {
   "cell_type": "code",
   "execution_count": 32,
   "id": "16845559",
   "metadata": {},
   "outputs": [
    {
     "data": {
      "text/plain": [
       "['Apple', 'Orange', 'Grapes', 'Mango']"
      ]
     },
     "execution_count": 32,
     "metadata": {},
     "output_type": "execute_result"
    }
   ],
   "source": [
    "str1.split('|')"
   ]
  },
  {
   "cell_type": "code",
   "execution_count": 33,
   "id": "3320cb98",
   "metadata": {},
   "outputs": [],
   "source": [
    "str1 = 'Apple,Orange|Grapes|Mango'"
   ]
  },
  {
   "cell_type": "code",
   "execution_count": 34,
   "id": "3a4a0acd",
   "metadata": {},
   "outputs": [
    {
     "data": {
      "text/plain": [
       "['Apple,Orange', 'Grapes', 'Mango']"
      ]
     },
     "execution_count": 34,
     "metadata": {},
     "output_type": "execute_result"
    }
   ],
   "source": [
    "str1.split('|')"
   ]
  },
  {
   "cell_type": "code",
   "execution_count": 55,
   "id": "cb01ef74",
   "metadata": {},
   "outputs": [],
   "source": [
    "x = \"This is an example of a long text. I want to demonstrate splitting of a string\""
   ]
  },
  {
   "cell_type": "code",
   "execution_count": 50,
   "id": "cd3d7538",
   "metadata": {},
   "outputs": [],
   "source": [
    "#x = \"This is an example of a long text\""
   ]
  },
  {
   "cell_type": "code",
   "execution_count": 53,
   "id": "eb0af45a",
   "metadata": {},
   "outputs": [
    {
     "data": {
      "text/plain": [
       "['', '1', '2', '3', '4', '5']"
      ]
     },
     "execution_count": 53,
     "metadata": {},
     "output_type": "execute_result"
    }
   ],
   "source": [
    "x.split(' ')"
   ]
  },
  {
   "cell_type": "code",
   "execution_count": 40,
   "id": "3459c830",
   "metadata": {},
   "outputs": [],
   "source": [
    "lst = [3,4,2,1]"
   ]
  },
  {
   "cell_type": "code",
   "execution_count": 41,
   "id": "2fbe9610",
   "metadata": {},
   "outputs": [],
   "source": [
    "lst.sort()"
   ]
  },
  {
   "cell_type": "code",
   "execution_count": 42,
   "id": "2f907a2d",
   "metadata": {},
   "outputs": [
    {
     "data": {
      "text/plain": [
       "[1, 2, 3, 4]"
      ]
     },
     "execution_count": 42,
     "metadata": {},
     "output_type": "execute_result"
    }
   ],
   "source": [
    "lst"
   ]
  },
  {
   "cell_type": "markdown",
   "id": "c9088f85",
   "metadata": {},
   "source": [
    "### for loop - Iterate over a sequence"
   ]
  },
  {
   "cell_type": "code",
   "execution_count": 56,
   "id": "91fa7258",
   "metadata": {},
   "outputs": [],
   "source": [
    "lst = [19,87,65,48,88]"
   ]
  },
  {
   "cell_type": "code",
   "execution_count": 66,
   "id": "fda7a4d6",
   "metadata": {},
   "outputs": [
    {
     "name": "stdout",
     "output_type": "stream",
     "text": [
      "19\n",
      "Hi\n",
      "87\n",
      "Hi\n",
      "65\n",
      "Hi\n",
      "48\n",
      "Hi\n",
      "88\n",
      "Hi\n",
      "Hello\n"
     ]
    }
   ],
   "source": [
    "for elem in lst:\n",
    "    print(elem)\n",
    "    print('Hi')\n",
    "print('Hello')"
   ]
  },
  {
   "cell_type": "code",
   "execution_count": 59,
   "id": "52ffb768",
   "metadata": {},
   "outputs": [],
   "source": [
    "str1 = 'Python3.0'"
   ]
  },
  {
   "cell_type": "code",
   "execution_count": 60,
   "id": "6e47716f",
   "metadata": {},
   "outputs": [
    {
     "name": "stdout",
     "output_type": "stream",
     "text": [
      "P\n",
      "y\n",
      "t\n",
      "h\n",
      "o\n",
      "n\n",
      "3\n",
      ".\n",
      "0\n"
     ]
    }
   ],
   "source": [
    "for c in str1:\n",
    "    print(c)"
   ]
  },
  {
   "cell_type": "code",
   "execution_count": 61,
   "id": "375ee6db",
   "metadata": {},
   "outputs": [],
   "source": [
    "tup = (45,67,88)"
   ]
  },
  {
   "cell_type": "code",
   "execution_count": 62,
   "id": "fcf1da2b",
   "metadata": {},
   "outputs": [
    {
     "name": "stdout",
     "output_type": "stream",
     "text": [
      "45\n",
      "67\n",
      "88\n"
     ]
    }
   ],
   "source": [
    "for x in tup:\n",
    "    print(x)"
   ]
  },
  {
   "cell_type": "code",
   "execution_count": 67,
   "id": "fdba4ae1",
   "metadata": {},
   "outputs": [],
   "source": [
    "lst = [19,87,65,48,88]"
   ]
  },
  {
   "cell_type": "code",
   "execution_count": 68,
   "id": "7e23e774",
   "metadata": {},
   "outputs": [
    {
     "name": "stdout",
     "output_type": "stream",
     "text": [
      "*\n",
      "*\n",
      "*\n",
      "*\n",
      "*\n"
     ]
    }
   ],
   "source": [
    "for x in lst:\n",
    "    print('*')"
   ]
  },
  {
   "cell_type": "markdown",
   "id": "bd416cc9",
   "metadata": {},
   "source": [
    "### List comprehension"
   ]
  },
  {
   "cell_type": "code",
   "execution_count": 70,
   "id": "aa1002bc",
   "metadata": {},
   "outputs": [],
   "source": [
    "lst = [1,2,3,4,5,6,7]"
   ]
  },
  {
   "cell_type": "code",
   "execution_count": 71,
   "id": "2d6d22e6",
   "metadata": {},
   "outputs": [],
   "source": [
    "new_lst = []\n",
    "for x in lst:\n",
    "    new_lst.append(x**2)"
   ]
  },
  {
   "cell_type": "code",
   "execution_count": 72,
   "id": "c4739bb6",
   "metadata": {},
   "outputs": [
    {
     "data": {
      "text/plain": [
       "[1, 4, 9, 16, 25, 36, 49]"
      ]
     },
     "execution_count": 72,
     "metadata": {},
     "output_type": "execute_result"
    }
   ],
   "source": [
    "new_lst"
   ]
  },
  {
   "cell_type": "code",
   "execution_count": 73,
   "id": "001c664b",
   "metadata": {},
   "outputs": [],
   "source": [
    "sqr_lst = [x**2 for x in lst]"
   ]
  },
  {
   "cell_type": "code",
   "execution_count": 74,
   "id": "56195488",
   "metadata": {},
   "outputs": [
    {
     "data": {
      "text/plain": [
       "[1, 4, 9, 16, 25, 36, 49]"
      ]
     },
     "execution_count": 74,
     "metadata": {},
     "output_type": "execute_result"
    }
   ],
   "source": [
    "sqr_lst"
   ]
  },
  {
   "cell_type": "code",
   "execution_count": 82,
   "id": "138c025e",
   "metadata": {},
   "outputs": [],
   "source": [
    "sqr_lst = [x**2 for x in lst if (x%2 == 0) ]"
   ]
  },
  {
   "cell_type": "code",
   "execution_count": 83,
   "id": "b64adb71",
   "metadata": {},
   "outputs": [
    {
     "data": {
      "text/plain": [
       "[4, 16, 36]"
      ]
     },
     "execution_count": 83,
     "metadata": {},
     "output_type": "execute_result"
    }
   ],
   "source": [
    "sqr_lst"
   ]
  },
  {
   "cell_type": "code",
   "execution_count": 84,
   "id": "005634a9",
   "metadata": {},
   "outputs": [],
   "source": [
    "lst = [1,2,3,4,5,6,7]"
   ]
  },
  {
   "cell_type": "code",
   "execution_count": 85,
   "id": "21d11ba3",
   "metadata": {},
   "outputs": [],
   "source": [
    "new_lst = [x*100 for x in lst ]"
   ]
  },
  {
   "cell_type": "code",
   "execution_count": 86,
   "id": "ca007491",
   "metadata": {},
   "outputs": [
    {
     "data": {
      "text/plain": [
       "[100, 200, 300, 400, 500, 600, 700]"
      ]
     },
     "execution_count": 86,
     "metadata": {},
     "output_type": "execute_result"
    }
   ],
   "source": [
    "new_lst"
   ]
  },
  {
   "cell_type": "code",
   "execution_count": null,
   "id": "86039dd3",
   "metadata": {},
   "outputs": [],
   "source": []
  }
 ],
 "metadata": {
  "kernelspec": {
   "display_name": "Python 3",
   "language": "python",
   "name": "python3"
  },
  "language_info": {
   "codemirror_mode": {
    "name": "ipython",
    "version": 3
   },
   "file_extension": ".py",
   "mimetype": "text/x-python",
   "name": "python",
   "nbconvert_exporter": "python",
   "pygments_lexer": "ipython3",
   "version": "3.8.13"
  }
 },
 "nbformat": 4,
 "nbformat_minor": 5
}
